{
  "nbformat": 4,
  "nbformat_minor": 0,
  "metadata": {
    "colab": {
      "provenance": []
    },
    "kernelspec": {
      "name": "python3",
      "display_name": "Python 3"
    },
    "language_info": {
      "name": "python"
    },
    "widgets": {
      "application/vnd.jupyter.widget-state+json": {
        "e8b6acc77d8f4d208b74b4f1d05144e5": {
          "model_module": "yfiles-jupyter-graphs",
          "model_name": "GraphModel",
          "model_module_version": "^1.6.2",
          "state": {
            "_context_pane_mapping": [
              {
                "id": "Neighborhood",
                "title": "Neighborhood"
              },
              {
                "id": "Data",
                "title": "Data"
              },
              {
                "id": "Search",
                "title": "Search"
              },
              {
                "id": "About",
                "title": "About"
              }
            ],
            "_data_importer": "neo4j",
            "_directed": true,
            "_dom_classes": [],
            "_edges": [
              {
                "id": 1152922604118474800,
                "start": 1,
                "end": 2,
                "properties": {
                  "label": "RULED"
                },
                "label": "RULED",
                "color": "#9C27B0",
                "thickness_factor": 1,
                "directed": true
              },
              {
                "id": 1155174403932160000,
                "start": 1,
                "end": 3,
                "properties": {
                  "label": "RULED"
                },
                "label": "RULED",
                "color": "#9C27B0",
                "thickness_factor": 1,
                "directed": true
              },
              {
                "id": 1152923703630102500,
                "start": 1,
                "end": 4,
                "properties": {
                  "label": "BELONGS_TO"
                },
                "label": "BELONGS_TO",
                "color": "#2196F3",
                "thickness_factor": 1,
                "directed": true
              },
              {
                "id": 1152924803141730300,
                "start": 1,
                "end": 5,
                "properties": {
                  "label": "CHILD_OF"
                },
                "label": "CHILD_OF",
                "color": "#4CAF50",
                "thickness_factor": 1,
                "directed": true
              },
              {
                "id": 1155176602955415600,
                "start": 1,
                "end": 6,
                "properties": {
                  "label": "CHILD_OF"
                },
                "label": "CHILD_OF",
                "color": "#4CAF50",
                "thickness_factor": 1,
                "directed": true
              },
              {
                "id": 1152925902653358000,
                "start": 1,
                "end": 7,
                "properties": {
                  "label": "HALF-SISTER_OF"
                },
                "label": "HALF-SISTER_OF",
                "color": "#F44336",
                "thickness_factor": 1,
                "directed": true
              },
              {
                "id": 1155177702467043300,
                "start": 1,
                "end": 9,
                "properties": {
                  "label": "HALF-SISTER_OF"
                },
                "label": "HALF-SISTER_OF",
                "color": "#F44336",
                "thickness_factor": 1,
                "directed": true
              },
              {
                "id": 1152927002164985900,
                "start": 1,
                "end": 8,
                "properties": {
                  "label": "IGNORED_CLAIMS_OF"
                },
                "label": "IGNORED_CLAIMS_OF",
                "color": "#607D8B",
                "thickness_factor": 1,
                "directed": true
              },
              {
                "id": 1152928101676613600,
                "start": 1,
                "end": 10,
                "properties": {
                  "label": "DEPENDS_ON"
                },
                "label": "DEPENDS_ON",
                "color": "#673AB7",
                "thickness_factor": 1,
                "directed": true
              },
              {
                "id": 1155179901490299000,
                "start": 1,
                "end": 16,
                "properties": {
                  "label": "DEPENDS_ON"
                },
                "label": "DEPENDS_ON",
                "color": "#673AB7",
                "thickness_factor": 1,
                "directed": true
              },
              {
                "id": 1152929201188241400,
                "start": 1,
                "end": 11,
                "properties": {
                  "label": "CREATED_TITLE"
                },
                "label": "CREATED_TITLE",
                "color": "#CDDC39",
                "thickness_factor": 1,
                "directed": true
              },
              {
                "id": 1152930300699869200,
                "start": 1,
                "end": 12,
                "properties": {
                  "label": "SUCCEEDED_BY"
                },
                "label": "SUCCEEDED_BY",
                "color": "#9E9E9E",
                "thickness_factor": 1,
                "directed": true
              },
              {
                "id": 1152931400211497000,
                "start": 1,
                "end": 13,
                "properties": {
                  "label": "MOTHER_OF"
                },
                "label": "MOTHER_OF",
                "color": "#9C27B0",
                "thickness_factor": 1,
                "directed": true
              },
              {
                "id": 1152932499723124700,
                "start": 1,
                "end": 14,
                "properties": {
                  "label": "MANOEUVRING_BETWEEN"
                },
                "label": "MANOEUVRING_BETWEEN",
                "color": "#2196F3",
                "thickness_factor": 1,
                "directed": true
              },
              {
                "id": 1155184299536810000,
                "start": 1,
                "end": 15,
                "properties": {
                  "label": "MANOEUVRING_BETWEEN"
                },
                "label": "MANOEUVRING_BETWEEN",
                "color": "#2196F3",
                "thickness_factor": 1,
                "directed": true
              },
              {
                "id": 6917560913478287000,
                "start": 1,
                "end": 12,
                "properties": {
                  "label": "SUCCESSOR"
                },
                "label": "SUCCESSOR",
                "color": "#4CAF50",
                "thickness_factor": 1,
                "directed": true
              },
              {
                "id": 1157456990071423000,
                "start": 5,
                "end": 1,
                "properties": {
                  "label": "SUCCESSOR"
                },
                "label": "SUCCESSOR",
                "color": "#4CAF50",
                "thickness_factor": 1,
                "directed": true
              },
              {
                "id": 1152953390444052500,
                "start": 5,
                "end": 7,
                "properties": {
                  "label": "SUCCESSOR"
                },
                "label": "SUCCESSOR",
                "color": "#4CAF50",
                "thickness_factor": 1,
                "directed": true
              },
              {
                "id": 1155205190257737700,
                "start": 5,
                "end": 54,
                "properties": {
                  "label": "SUCCESSOR"
                },
                "label": "SUCCESSOR",
                "color": "#4CAF50",
                "thickness_factor": 1,
                "directed": true
              },
              {
                "id": 1159708789885108200,
                "start": 5,
                "end": 55,
                "properties": {
                  "label": "SUCCESSOR"
                },
                "label": "SUCCESSOR",
                "color": "#4CAF50",
                "thickness_factor": 1,
                "directed": true
              },
              {
                "id": 1161960589698793500,
                "start": 5,
                "end": 56,
                "properties": {
                  "label": "SUCCESSOR"
                },
                "label": "SUCCESSOR",
                "color": "#4CAF50",
                "thickness_factor": 1,
                "directed": true
              },
              {
                "id": 1164212389512478700,
                "start": 5,
                "end": 57,
                "properties": {
                  "label": "SUCCESSOR"
                },
                "label": "SUCCESSOR",
                "color": "#4CAF50",
                "thickness_factor": 1,
                "directed": true
              },
              {
                "id": 1166464189326164000,
                "start": 5,
                "end": 58,
                "properties": {
                  "label": "SUCCESSOR"
                },
                "label": "SUCCESSOR",
                "color": "#4CAF50",
                "thickness_factor": 1,
                "directed": true
              },
              {
                "id": 1155197493676343300,
                "start": 13,
                "end": 63,
                "properties": {
                  "label": "PARENT"
                },
                "label": "PARENT",
                "color": "#F44336",
                "thickness_factor": 1,
                "directed": true
              },
              {
                "id": 1152945693862658000,
                "start": 13,
                "end": 65,
                "properties": {
                  "label": "PARENT"
                },
                "label": "PARENT",
                "color": "#F44336",
                "thickness_factor": 1,
                "directed": true
              },
              {
                "id": 1152953390444052500,
                "start": 13,
                "end": 18,
                "properties": {
                  "label": "SUCCESSOR"
                },
                "label": "SUCCESSOR",
                "color": "#4CAF50",
                "thickness_factor": 1,
                "directed": true
              },
              {
                "id": 1159688998675808300,
                "start": 18,
                "end": 3,
                "properties": {
                  "label": "WAR"
                },
                "label": "WAR",
                "color": "#607D8B",
                "thickness_factor": 1,
                "directed": true
              },
              {
                "id": 1157437198862123000,
                "start": 18,
                "end": 14,
                "properties": {
                  "label": "WAR"
                },
                "label": "WAR",
                "color": "#607D8B",
                "thickness_factor": 1,
                "directed": true
              },
              {
                "id": 1152933599234752500,
                "start": 18,
                "end": 15,
                "properties": {
                  "label": "WAR"
                },
                "label": "WAR",
                "color": "#607D8B",
                "thickness_factor": 1,
                "directed": true
              },
              {
                "id": 1155185399048437800,
                "start": 18,
                "end": 19,
                "properties": {
                  "label": "WAR"
                },
                "label": "WAR",
                "color": "#607D8B",
                "thickness_factor": 1,
                "directed": true
              },
              {
                "id": 1152934698746380300,
                "start": 18,
                "end": 20,
                "properties": {
                  "label": "INFLUENCED"
                },
                "label": "INFLUENCED",
                "color": "#673AB7",
                "thickness_factor": 1,
                "directed": true
              },
              {
                "id": 1155186498560065500,
                "start": 18,
                "end": 21,
                "properties": {
                  "label": "INFLUENCED"
                },
                "label": "INFLUENCED",
                "color": "#673AB7",
                "thickness_factor": 1,
                "directed": true
              },
              {
                "id": 1157438298373750800,
                "start": 18,
                "end": 22,
                "properties": {
                  "label": "INFLUENCED"
                },
                "label": "INFLUENCED",
                "color": "#673AB7",
                "thickness_factor": 1,
                "directed": true
              },
              {
                "id": 1159690098187436000,
                "start": 18,
                "end": 23,
                "properties": {
                  "label": "INFLUENCED"
                },
                "label": "INFLUENCED",
                "color": "#673AB7",
                "thickness_factor": 1,
                "directed": true
              },
              {
                "id": 1152935798258008000,
                "start": 18,
                "end": 24,
                "properties": {
                  "label": "DEFEATED"
                },
                "label": "DEFEATED",
                "color": "#CDDC39",
                "thickness_factor": 1,
                "directed": true
              },
              {
                "id": 1152945693862658000,
                "start": 18,
                "end": 43,
                "properties": {
                  "label": "PARENT"
                },
                "label": "PARENT",
                "color": "#F44336",
                "thickness_factor": 1,
                "directed": true
              },
              {
                "id": 1155197493676343300,
                "start": 18,
                "end": 44,
                "properties": {
                  "label": "PARENT"
                },
                "label": "PARENT",
                "color": "#F44336",
                "thickness_factor": 1,
                "directed": true
              },
              {
                "id": 1152948992397541400,
                "start": 18,
                "end": 47,
                "properties": {
                  "label": "RECEIVED_TITLE"
                },
                "label": "RECEIVED_TITLE",
                "color": "#9E9E9E",
                "thickness_factor": 1,
                "directed": true
              },
              {
                "id": 1152936897769635800,
                "start": 26,
                "end": 27,
                "properties": {
                  "label": "HELD_TITLE"
                },
                "label": "HELD_TITLE",
                "color": "#9C27B0",
                "thickness_factor": 1,
                "directed": true
              },
              {
                "id": 1152937997281263600,
                "start": 26,
                "end": 28,
                "properties": {
                  "label": "DAUGHTER_OF"
                },
                "label": "DAUGHTER_OF",
                "color": "#2196F3",
                "thickness_factor": 1,
                "directed": true
              },
              {
                "id": 1155189797094948900,
                "start": 26,
                "end": 29,
                "properties": {
                  "label": "DAUGHTER_OF"
                },
                "label": "DAUGHTER_OF",
                "color": "#2196F3",
                "thickness_factor": 1,
                "directed": true
              },
              {
                "id": 1152939096792891400,
                "start": 26,
                "end": 30,
                "properties": {
                  "label": "RELATED_TO"
                },
                "label": "RELATED_TO",
                "color": "#4CAF50",
                "thickness_factor": 1,
                "directed": true
              },
              {
                "id": 1155190896606576600,
                "start": 26,
                "end": 31,
                "properties": {
                  "label": "RELATED_TO"
                },
                "label": "RELATED_TO",
                "color": "#4CAF50",
                "thickness_factor": 1,
                "directed": true
              },
              {
                "id": 1157442696420262000,
                "start": 26,
                "end": 32,
                "properties": {
                  "label": "RELATED_TO"
                },
                "label": "RELATED_TO",
                "color": "#4CAF50",
                "thickness_factor": 1,
                "directed": true
              },
              {
                "id": 1152940196304519200,
                "start": 26,
                "end": 33,
                "properties": {
                  "label": "DECLARED_AS_HEIR"
                },
                "label": "DECLARED_AS_HEIR",
                "color": "#F44336",
                "thickness_factor": 1,
                "directed": true
              },
              {
                "id": 1152941295816147000,
                "start": 26,
                "end": 34,
                "properties": {
                  "label": "SUPPORTED_FOUNDATION_OF_UNIVERSITY_OF_MOSCOW"
                },
                "label": "SUPPORTED_FOUNDATION_OF_UNIVERSITY_OF_MOSCOW",
                "color": "#607D8B",
                "thickness_factor": 1,
                "directed": true
              },
              {
                "id": 1152942395327774700,
                "start": 26,
                "end": 35,
                "properties": {
                  "label": "ENCOURAGED_FOUNDATION_OF_IMPERIAL_ACADEMY_OF_ARTS"
                },
                "label": "ENCOURAGED_FOUNDATION_OF_IMPERIAL_ACADEMY_OF_ARTS",
                "color": "#673AB7",
                "thickness_factor": 1,
                "directed": true
              },
              {
                "id": 1152943494839402500,
                "start": 26,
                "end": 36,
                "properties": {
                  "label": "SUPPORTED_ARCHITECTURAL_PROJECTS_BY"
                },
                "label": "SUPPORTED_ARCHITECTURAL_PROJECTS_BY",
                "color": "#CDDC39",
                "thickness_factor": 1,
                "directed": true
              },
              {
                "id": 1152944594351030300,
                "start": 26,
                "end": 37,
                "properties": {
                  "label": "SOLVED_EUROPEAN_CONFLICT_WITH"
                },
                "label": "SOLVED_EUROPEAN_CONFLICT_WITH",
                "color": "#9E9E9E",
                "thickness_factor": 1,
                "directed": true
              },
              {
                "id": 6924308616337949000,
                "start": 31,
                "end": 43,
                "properties": {
                  "label": "PARENT"
                },
                "label": "PARENT",
                "color": "#F44336",
                "thickness_factor": 1,
                "directed": true
              }
            ],
            "_graph_layout": {},
            "_highlight": [],
            "_license": {},
            "_model_module": "yfiles-jupyter-graphs",
            "_model_module_version": "^1.6.2",
            "_model_name": "GraphModel",
            "_neighborhood": {},
            "_nodes": [
              {
                "id": 1,
                "properties": {
                  "id": "Elizabeth I",
                  "label": "Person:__Entity__"
                },
                "color": "#2196F3",
                "styles": {},
                "label": "Elizabeth I",
                "scale_factor": 1,
                "type": "#2196F3",
                "size": [
                  55,
                  55
                ],
                "position": [
                  0,
                  0
                ]
              },
              {
                "id": 2,
                "properties": {
                  "id": "England",
                  "label": "Country:__Entity__"
                },
                "color": "#4CAF50",
                "styles": {},
                "label": "England",
                "scale_factor": 1,
                "type": "#4CAF50",
                "size": [
                  55,
                  55
                ],
                "position": [
                  0,
                  0
                ]
              },
              {
                "id": 3,
                "properties": {
                  "id": "Ireland",
                  "label": "Country:__Entity__"
                },
                "color": "#4CAF50",
                "styles": {},
                "label": "Ireland",
                "scale_factor": 1,
                "type": "#4CAF50",
                "size": [
                  55,
                  55
                ],
                "position": [
                  0,
                  0
                ]
              },
              {
                "id": 4,
                "properties": {
                  "id": "House Of Tudor",
                  "label": "Royal family:__Entity__"
                },
                "color": "#F44336",
                "styles": {},
                "label": "House Of Tudor",
                "scale_factor": 1,
                "type": "#F44336",
                "size": [
                  55,
                  55
                ],
                "position": [
                  0,
                  0
                ]
              },
              {
                "id": 5,
                "properties": {
                  "id": "Henry Viii",
                  "label": "Person:__Entity__"
                },
                "color": "#2196F3",
                "styles": {},
                "label": "Henry Viii",
                "scale_factor": 1,
                "type": "#2196F3",
                "size": [
                  55,
                  55
                ],
                "position": [
                  0,
                  0
                ]
              },
              {
                "id": 6,
                "properties": {
                  "id": "Anne Boleyn",
                  "label": "Person:__Entity__"
                },
                "color": "#2196F3",
                "styles": {},
                "label": "Anne Boleyn",
                "scale_factor": 1,
                "type": "#2196F3",
                "size": [
                  55,
                  55
                ],
                "position": [
                  0,
                  0
                ]
              },
              {
                "id": 7,
                "properties": {
                  "id": "Edward Vi",
                  "label": "Person:__Entity__"
                },
                "color": "#2196F3",
                "styles": {},
                "label": "Edward Vi",
                "scale_factor": 1,
                "type": "#2196F3",
                "size": [
                  55,
                  55
                ],
                "position": [
                  0,
                  0
                ]
              },
              {
                "id": 9,
                "properties": {
                  "id": "Mary",
                  "label": "Person:__Entity__"
                },
                "color": "#2196F3",
                "styles": {},
                "label": "Mary",
                "scale_factor": 1,
                "type": "#2196F3",
                "size": [
                  55,
                  55
                ],
                "position": [
                  0,
                  0
                ]
              },
              {
                "id": 8,
                "properties": {
                  "id": "Lady Jane Grey",
                  "label": "Person:__Entity__"
                },
                "color": "#2196F3",
                "styles": {},
                "label": "Lady Jane Grey",
                "scale_factor": 1,
                "type": "#2196F3",
                "size": [
                  55,
                  55
                ],
                "position": [
                  0,
                  0
                ]
              },
              {
                "id": 10,
                "properties": {
                  "id": "William Cecil",
                  "label": "Person:__Entity__"
                },
                "color": "#2196F3",
                "styles": {},
                "label": "William Cecil",
                "scale_factor": 1,
                "type": "#2196F3",
                "size": [
                  55,
                  55
                ],
                "position": [
                  0,
                  0
                ]
              },
              {
                "id": 16,
                "properties": {
                  "id": "Sir Francis Walsingham",
                  "label": "Person:__Entity__"
                },
                "color": "#2196F3",
                "styles": {},
                "label": "Sir Francis Walsingham",
                "scale_factor": 1,
                "type": "#2196F3",
                "size": [
                  55,
                  55
                ],
                "position": [
                  0,
                  0
                ]
              },
              {
                "id": 11,
                "properties": {
                  "id": "Baron Burghley",
                  "label": "Title:__Entity__"
                },
                "color": "#607D8B",
                "styles": {},
                "label": "Baron Burghley",
                "scale_factor": 1,
                "type": "#607D8B",
                "size": [
                  55,
                  55
                ],
                "position": [
                  0,
                  0
                ]
              },
              {
                "id": 12,
                "properties": {
                  "id": "James Vi Of Scotland",
                  "label": "Person:__Entity__"
                },
                "color": "#2196F3",
                "styles": {},
                "label": "James Vi Of Scotland",
                "scale_factor": 1,
                "type": "#2196F3",
                "size": [
                  55,
                  55
                ],
                "position": [
                  0,
                  0
                ]
              },
              {
                "id": 13,
                "properties": {
                  "id": "Mary, Queen Of Scots",
                  "label": "Person:__Entity__"
                },
                "color": "#2196F3",
                "styles": {},
                "label": "Mary, Queen Of Scots",
                "scale_factor": 1,
                "type": "#2196F3",
                "size": [
                  55,
                  55
                ],
                "position": [
                  0,
                  0
                ]
              },
              {
                "id": 14,
                "properties": {
                  "id": "France",
                  "label": "Country:__Entity__"
                },
                "color": "#4CAF50",
                "styles": {},
                "label": "France",
                "scale_factor": 1,
                "type": "#4CAF50",
                "size": [
                  55,
                  55
                ],
                "position": [
                  0,
                  0
                ]
              },
              {
                "id": 15,
                "properties": {
                  "id": "Spain",
                  "label": "Country:__Entity__"
                },
                "color": "#4CAF50",
                "styles": {},
                "label": "Spain",
                "scale_factor": 1,
                "type": "#4CAF50",
                "size": [
                  55,
                  55
                ],
                "position": [
                  0,
                  0
                ]
              },
              {
                "id": 54,
                "properties": {
                  "id": "Mary I",
                  "label": "Person:__Entity__"
                },
                "color": "#2196F3",
                "styles": {},
                "label": "Mary I",
                "scale_factor": 1,
                "type": "#2196F3",
                "size": [
                  55,
                  55
                ],
                "position": [
                  0,
                  0
                ]
              },
              {
                "id": 55,
                "properties": {
                  "id": "Jane Grey",
                  "label": "Person:__Entity__"
                },
                "color": "#2196F3",
                "styles": {},
                "label": "Jane Grey",
                "scale_factor": 1,
                "type": "#2196F3",
                "size": [
                  55,
                  55
                ],
                "position": [
                  0,
                  0
                ]
              },
              {
                "id": 56,
                "properties": {
                  "id": "Katherine Grey",
                  "label": "Person:__Entity__"
                },
                "color": "#2196F3",
                "styles": {},
                "label": "Katherine Grey",
                "scale_factor": 1,
                "type": "#2196F3",
                "size": [
                  55,
                  55
                ],
                "position": [
                  0,
                  0
                ]
              },
              {
                "id": 57,
                "properties": {
                  "id": "Mary Grey",
                  "label": "Person:__Entity__"
                },
                "color": "#2196F3",
                "styles": {},
                "label": "Mary Grey",
                "scale_factor": 1,
                "type": "#2196F3",
                "size": [
                  55,
                  55
                ],
                "position": [
                  0,
                  0
                ]
              },
              {
                "id": 58,
                "properties": {
                  "id": "Margaret Clifford",
                  "label": "Person:__Entity__"
                },
                "color": "#2196F3",
                "styles": {},
                "label": "Margaret Clifford",
                "scale_factor": 1,
                "type": "#2196F3",
                "size": [
                  55,
                  55
                ],
                "position": [
                  0,
                  0
                ]
              },
              {
                "id": 63,
                "properties": {
                  "id": "Arbella Stuart",
                  "label": "Person:__Entity__"
                },
                "color": "#2196F3",
                "styles": {},
                "label": "Arbella Stuart",
                "scale_factor": 1,
                "type": "#2196F3",
                "size": [
                  55,
                  55
                ],
                "position": [
                  0,
                  0
                ]
              },
              {
                "id": 65,
                "properties": {
                  "id": "James Vi",
                  "label": "Person:__Entity__"
                },
                "color": "#2196F3",
                "styles": {},
                "label": "James Vi",
                "scale_factor": 1,
                "type": "#2196F3",
                "size": [
                  55,
                  55
                ],
                "position": [
                  0,
                  0
                ]
              },
              {
                "id": 18,
                "properties": {
                  "id": "Elizabeth",
                  "label": "Person:__Entity__"
                },
                "color": "#2196F3",
                "styles": {},
                "label": "Elizabeth",
                "scale_factor": 1,
                "type": "#2196F3",
                "size": [
                  55,
                  55
                ],
                "position": [
                  0,
                  0
                ]
              },
              {
                "id": 19,
                "properties": {
                  "id": "Netherlands",
                  "label": "Country:__Entity__"
                },
                "color": "#4CAF50",
                "styles": {},
                "label": "Netherlands",
                "scale_factor": 1,
                "type": "#4CAF50",
                "size": [
                  55,
                  55
                ],
                "position": [
                  0,
                  0
                ]
              },
              {
                "id": 20,
                "properties": {
                  "id": "William Shakespeare",
                  "label": "Playwright:__Entity__"
                },
                "color": "#673AB7",
                "styles": {},
                "label": "William Shakespeare",
                "scale_factor": 1,
                "type": "#673AB7",
                "size": [
                  55,
                  55
                ],
                "position": [
                  0,
                  0
                ]
              },
              {
                "id": 21,
                "properties": {
                  "id": "Christopher Marlowe",
                  "label": "Playwright:__Entity__"
                },
                "color": "#673AB7",
                "styles": {},
                "label": "Christopher Marlowe",
                "scale_factor": 1,
                "type": "#673AB7",
                "size": [
                  55,
                  55
                ],
                "position": [
                  0,
                  0
                ]
              },
              {
                "id": 22,
                "properties": {
                  "id": "Francis Drake",
                  "label": "Maritime adventurer:__Entity__"
                },
                "color": "#CDDC39",
                "styles": {},
                "label": "Francis Drake",
                "scale_factor": 1,
                "type": "#CDDC39",
                "size": [
                  55,
                  55
                ],
                "position": [
                  0,
                  0
                ]
              },
              {
                "id": 23,
                "properties": {
                  "id": "Walter Raleigh",
                  "label": "Maritime adventurer:__Entity__"
                },
                "color": "#CDDC39",
                "styles": {},
                "label": "Walter Raleigh",
                "scale_factor": 1,
                "type": "#CDDC39",
                "size": [
                  55,
                  55
                ],
                "position": [
                  0,
                  0
                ]
              },
              {
                "id": 24,
                "properties": {
                  "id": "Spanish Armada",
                  "label": "Event:__Entity__"
                },
                "color": "#9E9E9E",
                "styles": {},
                "label": "Spanish Armada",
                "scale_factor": 1,
                "type": "#9E9E9E",
                "size": [
                  55,
                  55
                ],
                "position": [
                  0,
                  0
                ]
              },
              {
                "id": 43,
                "properties": {
                  "id": "Peter The Great",
                  "label": "Person:__Entity__"
                },
                "color": "#2196F3",
                "styles": {},
                "label": "Peter The Great",
                "scale_factor": 1,
                "type": "#2196F3",
                "size": [
                  55,
                  55
                ],
                "position": [
                  0,
                  0
                ]
              },
              {
                "id": 44,
                "properties": {
                  "id": "Catherine",
                  "label": "Person:__Entity__"
                },
                "color": "#2196F3",
                "styles": {},
                "label": "Catherine",
                "scale_factor": 1,
                "type": "#2196F3",
                "size": [
                  55,
                  55
                ],
                "position": [
                  0,
                  0
                ]
              },
              {
                "id": 47,
                "properties": {
                  "id": "Tsarevna",
                  "label": "Title:__Entity__"
                },
                "color": "#607D8B",
                "styles": {},
                "label": "Tsarevna",
                "scale_factor": 1,
                "type": "#607D8B",
                "size": [
                  55,
                  55
                ],
                "position": [
                  0,
                  0
                ]
              },
              {
                "id": 26,
                "properties": {
                  "id": "Elizabeth Petrovna",
                  "label": "Person:__Entity__"
                },
                "color": "#2196F3",
                "styles": {},
                "label": "Elizabeth Petrovna",
                "scale_factor": 1,
                "type": "#2196F3",
                "size": [
                  55,
                  55
                ],
                "position": [
                  0,
                  0
                ]
              },
              {
                "id": 27,
                "properties": {
                  "id": "Empress Of Russia",
                  "label": "Title:__Entity__"
                },
                "color": "#607D8B",
                "styles": {},
                "label": "Empress Of Russia",
                "scale_factor": 1,
                "type": "#607D8B",
                "size": [
                  55,
                  55
                ],
                "position": [
                  0,
                  0
                ]
              },
              {
                "id": 28,
                "properties": {
                  "id": "Tsar Peter The Great",
                  "label": "Person:__Entity__"
                },
                "color": "#2196F3",
                "styles": {},
                "label": "Tsar Peter The Great",
                "scale_factor": 1,
                "type": "#2196F3",
                "size": [
                  55,
                  55
                ],
                "position": [
                  0,
                  0
                ]
              },
              {
                "id": 29,
                "properties": {
                  "id": "Catherine I Of Russia",
                  "label": "Person:__Entity__"
                },
                "color": "#2196F3",
                "styles": {},
                "label": "Catherine I Of Russia",
                "scale_factor": 1,
                "type": "#2196F3",
                "size": [
                  55,
                  55
                ],
                "position": [
                  0,
                  0
                ]
              },
              {
                "id": 30,
                "properties": {
                  "id": "Peter Ii",
                  "label": "Person:__Entity__"
                },
                "color": "#2196F3",
                "styles": {},
                "label": "Peter Ii",
                "scale_factor": 1,
                "type": "#2196F3",
                "size": [
                  55,
                  55
                ],
                "position": [
                  0,
                  0
                ]
              },
              {
                "id": 31,
                "properties": {
                  "id": "Anna",
                  "label": "Person:__Entity__"
                },
                "color": "#2196F3",
                "styles": {},
                "label": "Anna",
                "scale_factor": 1,
                "type": "#2196F3",
                "size": [
                  55,
                  55
                ],
                "position": [
                  0,
                  0
                ]
              },
              {
                "id": 32,
                "properties": {
                  "id": "Ivan Vi",
                  "label": "Person:__Entity__"
                },
                "color": "#2196F3",
                "styles": {},
                "label": "Ivan Vi",
                "scale_factor": 1,
                "type": "#2196F3",
                "size": [
                  55,
                  55
                ],
                "position": [
                  0,
                  0
                ]
              },
              {
                "id": 33,
                "properties": {
                  "id": "Peter Iii",
                  "label": "Person:__Entity__"
                },
                "color": "#2196F3",
                "styles": {},
                "label": "Peter Iii",
                "scale_factor": 1,
                "type": "#2196F3",
                "size": [
                  55,
                  55
                ],
                "position": [
                  0,
                  0
                ]
              },
              {
                "id": 34,
                "properties": {
                  "id": "Mikhail Lomonosov",
                  "label": "Person:__Entity__"
                },
                "color": "#2196F3",
                "styles": {},
                "label": "Mikhail Lomonosov",
                "scale_factor": 1,
                "type": "#2196F3",
                "size": [
                  55,
                  55
                ],
                "position": [
                  0,
                  0
                ]
              },
              {
                "id": 35,
                "properties": {
                  "id": "Ivan Shuvalov",
                  "label": "Person:__Entity__"
                },
                "color": "#2196F3",
                "styles": {},
                "label": "Ivan Shuvalov",
                "scale_factor": 1,
                "type": "#2196F3",
                "size": [
                  55,
                  55
                ],
                "position": [
                  0,
                  0
                ]
              },
              {
                "id": 36,
                "properties": {
                  "id": "Bartolomeo Rastrelli",
                  "label": "Person:__Entity__"
                },
                "color": "#2196F3",
                "styles": {},
                "label": "Bartolomeo Rastrelli",
                "scale_factor": 1,
                "type": "#2196F3",
                "size": [
                  55,
                  55
                ],
                "position": [
                  0,
                  0
                ]
              },
              {
                "id": 37,
                "properties": {
                  "id": "Aleksey Bestuzhev-Ryumin",
                  "label": "Person:__Entity__"
                },
                "color": "#2196F3",
                "styles": {},
                "label": "Aleksey Bestuzhev-Ryumin",
                "scale_factor": 1,
                "type": "#2196F3",
                "size": [
                  55,
                  55
                ],
                "position": [
                  0,
                  0
                ]
              }
            ],
            "_overview": {
              "enabled": null,
              "overview_set": false
            },
            "_selected_graph": [
              [],
              []
            ],
            "_sidebar": {
              "enabled": true,
              "start_with": ""
            },
            "_view_count": null,
            "_view_module": "yfiles-jupyter-graphs",
            "_view_module_version": "^1.6.2",
            "_view_name": "GraphView",
            "layout": "IPY_MODEL_5caa1675fb9b47e89ceeab4a5aabb705"
          }
        },
        "5caa1675fb9b47e89ceeab4a5aabb705": {
          "model_module": "@jupyter-widgets/base",
          "model_name": "LayoutModel",
          "model_module_version": "1.2.0",
          "state": {
            "_model_module": "@jupyter-widgets/base",
            "_model_module_version": "1.2.0",
            "_model_name": "LayoutModel",
            "_view_count": null,
            "_view_module": "@jupyter-widgets/base",
            "_view_module_version": "1.2.0",
            "_view_name": "LayoutView",
            "align_content": null,
            "align_items": null,
            "align_self": null,
            "border": null,
            "bottom": null,
            "display": null,
            "flex": null,
            "flex_flow": null,
            "grid_area": null,
            "grid_auto_columns": null,
            "grid_auto_flow": null,
            "grid_auto_rows": null,
            "grid_column": null,
            "grid_gap": null,
            "grid_row": null,
            "grid_template_areas": null,
            "grid_template_columns": null,
            "grid_template_rows": null,
            "height": "800px",
            "justify_content": null,
            "justify_items": null,
            "left": null,
            "margin": null,
            "max_height": null,
            "max_width": null,
            "min_height": null,
            "min_width": null,
            "object_fit": null,
            "object_position": null,
            "order": null,
            "overflow": null,
            "overflow_x": null,
            "overflow_y": null,
            "padding": null,
            "right": null,
            "top": null,
            "visibility": null,
            "width": "100%"
          }
        },
        "6b02a93dfb14445eb2863ea4cbae65f9": {
          "model_module": "@jupyter-widgets/controls",
          "model_name": "HBoxModel",
          "model_module_version": "1.5.0",
          "state": {
            "_dom_classes": [],
            "_model_module": "@jupyter-widgets/controls",
            "_model_module_version": "1.5.0",
            "_model_name": "HBoxModel",
            "_view_count": null,
            "_view_module": "@jupyter-widgets/controls",
            "_view_module_version": "1.5.0",
            "_view_name": "HBoxView",
            "box_style": "",
            "children": [
              "IPY_MODEL_2eefdf1208884136b974db67e9f21c38",
              "IPY_MODEL_bdf7a643adbe464a8553943d9d444d04",
              "IPY_MODEL_2436e66a6db449168464a550291ef4b7"
            ],
            "layout": "IPY_MODEL_32ff3348a6274cbb81332ff89b6f451f"
          }
        },
        "2eefdf1208884136b974db67e9f21c38": {
          "model_module": "@jupyter-widgets/controls",
          "model_name": "HTMLModel",
          "model_module_version": "1.5.0",
          "state": {
            "_dom_classes": [],
            "_model_module": "@jupyter-widgets/controls",
            "_model_module_version": "1.5.0",
            "_model_name": "HTMLModel",
            "_view_count": null,
            "_view_module": "@jupyter-widgets/controls",
            "_view_module_version": "1.5.0",
            "_view_name": "HTMLView",
            "description": "",
            "description_tooltip": null,
            "layout": "IPY_MODEL_6de03022bf7c4bca8a7f1c1e6da7f84a",
            "placeholder": "​",
            "style": "IPY_MODEL_8de99b3ebebc4838b73808972b22ac05",
            "value": "modules.json: 100%"
          }
        },
        "bdf7a643adbe464a8553943d9d444d04": {
          "model_module": "@jupyter-widgets/controls",
          "model_name": "FloatProgressModel",
          "model_module_version": "1.5.0",
          "state": {
            "_dom_classes": [],
            "_model_module": "@jupyter-widgets/controls",
            "_model_module_version": "1.5.0",
            "_model_name": "FloatProgressModel",
            "_view_count": null,
            "_view_module": "@jupyter-widgets/controls",
            "_view_module_version": "1.5.0",
            "_view_name": "ProgressView",
            "bar_style": "success",
            "description": "",
            "description_tooltip": null,
            "layout": "IPY_MODEL_e326f5686e8540498b6fa69cd9ea4e36",
            "max": 349,
            "min": 0,
            "orientation": "horizontal",
            "style": "IPY_MODEL_5b05744add07473e963044c0dcb37872",
            "value": 349
          }
        },
        "2436e66a6db449168464a550291ef4b7": {
          "model_module": "@jupyter-widgets/controls",
          "model_name": "HTMLModel",
          "model_module_version": "1.5.0",
          "state": {
            "_dom_classes": [],
            "_model_module": "@jupyter-widgets/controls",
            "_model_module_version": "1.5.0",
            "_model_name": "HTMLModel",
            "_view_count": null,
            "_view_module": "@jupyter-widgets/controls",
            "_view_module_version": "1.5.0",
            "_view_name": "HTMLView",
            "description": "",
            "description_tooltip": null,
            "layout": "IPY_MODEL_121a90e0fe684af5a9ebd56eecf2aa1b",
            "placeholder": "​",
            "style": "IPY_MODEL_de1090a0da2b41629aaae4bfe67ec850",
            "value": " 349/349 [00:00&lt;00:00, 11.4kB/s]"
          }
        },
        "32ff3348a6274cbb81332ff89b6f451f": {
          "model_module": "@jupyter-widgets/base",
          "model_name": "LayoutModel",
          "model_module_version": "1.2.0",
          "state": {
            "_model_module": "@jupyter-widgets/base",
            "_model_module_version": "1.2.0",
            "_model_name": "LayoutModel",
            "_view_count": null,
            "_view_module": "@jupyter-widgets/base",
            "_view_module_version": "1.2.0",
            "_view_name": "LayoutView",
            "align_content": null,
            "align_items": null,
            "align_self": null,
            "border": null,
            "bottom": null,
            "display": null,
            "flex": null,
            "flex_flow": null,
            "grid_area": null,
            "grid_auto_columns": null,
            "grid_auto_flow": null,
            "grid_auto_rows": null,
            "grid_column": null,
            "grid_gap": null,
            "grid_row": null,
            "grid_template_areas": null,
            "grid_template_columns": null,
            "grid_template_rows": null,
            "height": null,
            "justify_content": null,
            "justify_items": null,
            "left": null,
            "margin": null,
            "max_height": null,
            "max_width": null,
            "min_height": null,
            "min_width": null,
            "object_fit": null,
            "object_position": null,
            "order": null,
            "overflow": null,
            "overflow_x": null,
            "overflow_y": null,
            "padding": null,
            "right": null,
            "top": null,
            "visibility": null,
            "width": null
          }
        },
        "6de03022bf7c4bca8a7f1c1e6da7f84a": {
          "model_module": "@jupyter-widgets/base",
          "model_name": "LayoutModel",
          "model_module_version": "1.2.0",
          "state": {
            "_model_module": "@jupyter-widgets/base",
            "_model_module_version": "1.2.0",
            "_model_name": "LayoutModel",
            "_view_count": null,
            "_view_module": "@jupyter-widgets/base",
            "_view_module_version": "1.2.0",
            "_view_name": "LayoutView",
            "align_content": null,
            "align_items": null,
            "align_self": null,
            "border": null,
            "bottom": null,
            "display": null,
            "flex": null,
            "flex_flow": null,
            "grid_area": null,
            "grid_auto_columns": null,
            "grid_auto_flow": null,
            "grid_auto_rows": null,
            "grid_column": null,
            "grid_gap": null,
            "grid_row": null,
            "grid_template_areas": null,
            "grid_template_columns": null,
            "grid_template_rows": null,
            "height": null,
            "justify_content": null,
            "justify_items": null,
            "left": null,
            "margin": null,
            "max_height": null,
            "max_width": null,
            "min_height": null,
            "min_width": null,
            "object_fit": null,
            "object_position": null,
            "order": null,
            "overflow": null,
            "overflow_x": null,
            "overflow_y": null,
            "padding": null,
            "right": null,
            "top": null,
            "visibility": null,
            "width": null
          }
        },
        "8de99b3ebebc4838b73808972b22ac05": {
          "model_module": "@jupyter-widgets/controls",
          "model_name": "DescriptionStyleModel",
          "model_module_version": "1.5.0",
          "state": {
            "_model_module": "@jupyter-widgets/controls",
            "_model_module_version": "1.5.0",
            "_model_name": "DescriptionStyleModel",
            "_view_count": null,
            "_view_module": "@jupyter-widgets/base",
            "_view_module_version": "1.2.0",
            "_view_name": "StyleView",
            "description_width": ""
          }
        },
        "e326f5686e8540498b6fa69cd9ea4e36": {
          "model_module": "@jupyter-widgets/base",
          "model_name": "LayoutModel",
          "model_module_version": "1.2.0",
          "state": {
            "_model_module": "@jupyter-widgets/base",
            "_model_module_version": "1.2.0",
            "_model_name": "LayoutModel",
            "_view_count": null,
            "_view_module": "@jupyter-widgets/base",
            "_view_module_version": "1.2.0",
            "_view_name": "LayoutView",
            "align_content": null,
            "align_items": null,
            "align_self": null,
            "border": null,
            "bottom": null,
            "display": null,
            "flex": null,
            "flex_flow": null,
            "grid_area": null,
            "grid_auto_columns": null,
            "grid_auto_flow": null,
            "grid_auto_rows": null,
            "grid_column": null,
            "grid_gap": null,
            "grid_row": null,
            "grid_template_areas": null,
            "grid_template_columns": null,
            "grid_template_rows": null,
            "height": null,
            "justify_content": null,
            "justify_items": null,
            "left": null,
            "margin": null,
            "max_height": null,
            "max_width": null,
            "min_height": null,
            "min_width": null,
            "object_fit": null,
            "object_position": null,
            "order": null,
            "overflow": null,
            "overflow_x": null,
            "overflow_y": null,
            "padding": null,
            "right": null,
            "top": null,
            "visibility": null,
            "width": null
          }
        },
        "5b05744add07473e963044c0dcb37872": {
          "model_module": "@jupyter-widgets/controls",
          "model_name": "ProgressStyleModel",
          "model_module_version": "1.5.0",
          "state": {
            "_model_module": "@jupyter-widgets/controls",
            "_model_module_version": "1.5.0",
            "_model_name": "ProgressStyleModel",
            "_view_count": null,
            "_view_module": "@jupyter-widgets/base",
            "_view_module_version": "1.2.0",
            "_view_name": "StyleView",
            "bar_color": null,
            "description_width": ""
          }
        },
        "121a90e0fe684af5a9ebd56eecf2aa1b": {
          "model_module": "@jupyter-widgets/base",
          "model_name": "LayoutModel",
          "model_module_version": "1.2.0",
          "state": {
            "_model_module": "@jupyter-widgets/base",
            "_model_module_version": "1.2.0",
            "_model_name": "LayoutModel",
            "_view_count": null,
            "_view_module": "@jupyter-widgets/base",
            "_view_module_version": "1.2.0",
            "_view_name": "LayoutView",
            "align_content": null,
            "align_items": null,
            "align_self": null,
            "border": null,
            "bottom": null,
            "display": null,
            "flex": null,
            "flex_flow": null,
            "grid_area": null,
            "grid_auto_columns": null,
            "grid_auto_flow": null,
            "grid_auto_rows": null,
            "grid_column": null,
            "grid_gap": null,
            "grid_row": null,
            "grid_template_areas": null,
            "grid_template_columns": null,
            "grid_template_rows": null,
            "height": null,
            "justify_content": null,
            "justify_items": null,
            "left": null,
            "margin": null,
            "max_height": null,
            "max_width": null,
            "min_height": null,
            "min_width": null,
            "object_fit": null,
            "object_position": null,
            "order": null,
            "overflow": null,
            "overflow_x": null,
            "overflow_y": null,
            "padding": null,
            "right": null,
            "top": null,
            "visibility": null,
            "width": null
          }
        },
        "de1090a0da2b41629aaae4bfe67ec850": {
          "model_module": "@jupyter-widgets/controls",
          "model_name": "DescriptionStyleModel",
          "model_module_version": "1.5.0",
          "state": {
            "_model_module": "@jupyter-widgets/controls",
            "_model_module_version": "1.5.0",
            "_model_name": "DescriptionStyleModel",
            "_view_count": null,
            "_view_module": "@jupyter-widgets/base",
            "_view_module_version": "1.2.0",
            "_view_name": "StyleView",
            "description_width": ""
          }
        },
        "3fd80b8014834e60a8353c1e1757e858": {
          "model_module": "@jupyter-widgets/controls",
          "model_name": "HBoxModel",
          "model_module_version": "1.5.0",
          "state": {
            "_dom_classes": [],
            "_model_module": "@jupyter-widgets/controls",
            "_model_module_version": "1.5.0",
            "_model_name": "HBoxModel",
            "_view_count": null,
            "_view_module": "@jupyter-widgets/controls",
            "_view_module_version": "1.5.0",
            "_view_name": "HBoxView",
            "box_style": "",
            "children": [
              "IPY_MODEL_09410851156d4e1ba6eb322ecbe84487",
              "IPY_MODEL_352c11247a0c45348c5ccd8ebc84e6b8",
              "IPY_MODEL_e76ba820a65848e9897c3fb2182f1b78"
            ],
            "layout": "IPY_MODEL_c712016eb79d4abfba4b33a0d89ae5b6"
          }
        },
        "09410851156d4e1ba6eb322ecbe84487": {
          "model_module": "@jupyter-widgets/controls",
          "model_name": "HTMLModel",
          "model_module_version": "1.5.0",
          "state": {
            "_dom_classes": [],
            "_model_module": "@jupyter-widgets/controls",
            "_model_module_version": "1.5.0",
            "_model_name": "HTMLModel",
            "_view_count": null,
            "_view_module": "@jupyter-widgets/controls",
            "_view_module_version": "1.5.0",
            "_view_name": "HTMLView",
            "description": "",
            "description_tooltip": null,
            "layout": "IPY_MODEL_eabc16f104614f9ba7e7bd63472434a6",
            "placeholder": "​",
            "style": "IPY_MODEL_e5e34cca04624904a0f538e2380e1152",
            "value": "config_sentence_transformers.json: 100%"
          }
        },
        "352c11247a0c45348c5ccd8ebc84e6b8": {
          "model_module": "@jupyter-widgets/controls",
          "model_name": "FloatProgressModel",
          "model_module_version": "1.5.0",
          "state": {
            "_dom_classes": [],
            "_model_module": "@jupyter-widgets/controls",
            "_model_module_version": "1.5.0",
            "_model_name": "FloatProgressModel",
            "_view_count": null,
            "_view_module": "@jupyter-widgets/controls",
            "_view_module_version": "1.5.0",
            "_view_name": "ProgressView",
            "bar_style": "success",
            "description": "",
            "description_tooltip": null,
            "layout": "IPY_MODEL_355e62c007024dcba10edc495d734099",
            "max": 116,
            "min": 0,
            "orientation": "horizontal",
            "style": "IPY_MODEL_8e1d8fa968bc433f8e9c5faa9417bec8",
            "value": 116
          }
        },
        "e76ba820a65848e9897c3fb2182f1b78": {
          "model_module": "@jupyter-widgets/controls",
          "model_name": "HTMLModel",
          "model_module_version": "1.5.0",
          "state": {
            "_dom_classes": [],
            "_model_module": "@jupyter-widgets/controls",
            "_model_module_version": "1.5.0",
            "_model_name": "HTMLModel",
            "_view_count": null,
            "_view_module": "@jupyter-widgets/controls",
            "_view_module_version": "1.5.0",
            "_view_name": "HTMLView",
            "description": "",
            "description_tooltip": null,
            "layout": "IPY_MODEL_bb369681456546148c3806ca83392b55",
            "placeholder": "​",
            "style": "IPY_MODEL_11dc499bec914e19a244a0b09218d548",
            "value": " 116/116 [00:00&lt;00:00, 5.06kB/s]"
          }
        },
        "c712016eb79d4abfba4b33a0d89ae5b6": {
          "model_module": "@jupyter-widgets/base",
          "model_name": "LayoutModel",
          "model_module_version": "1.2.0",
          "state": {
            "_model_module": "@jupyter-widgets/base",
            "_model_module_version": "1.2.0",
            "_model_name": "LayoutModel",
            "_view_count": null,
            "_view_module": "@jupyter-widgets/base",
            "_view_module_version": "1.2.0",
            "_view_name": "LayoutView",
            "align_content": null,
            "align_items": null,
            "align_self": null,
            "border": null,
            "bottom": null,
            "display": null,
            "flex": null,
            "flex_flow": null,
            "grid_area": null,
            "grid_auto_columns": null,
            "grid_auto_flow": null,
            "grid_auto_rows": null,
            "grid_column": null,
            "grid_gap": null,
            "grid_row": null,
            "grid_template_areas": null,
            "grid_template_columns": null,
            "grid_template_rows": null,
            "height": null,
            "justify_content": null,
            "justify_items": null,
            "left": null,
            "margin": null,
            "max_height": null,
            "max_width": null,
            "min_height": null,
            "min_width": null,
            "object_fit": null,
            "object_position": null,
            "order": null,
            "overflow": null,
            "overflow_x": null,
            "overflow_y": null,
            "padding": null,
            "right": null,
            "top": null,
            "visibility": null,
            "width": null
          }
        },
        "eabc16f104614f9ba7e7bd63472434a6": {
          "model_module": "@jupyter-widgets/base",
          "model_name": "LayoutModel",
          "model_module_version": "1.2.0",
          "state": {
            "_model_module": "@jupyter-widgets/base",
            "_model_module_version": "1.2.0",
            "_model_name": "LayoutModel",
            "_view_count": null,
            "_view_module": "@jupyter-widgets/base",
            "_view_module_version": "1.2.0",
            "_view_name": "LayoutView",
            "align_content": null,
            "align_items": null,
            "align_self": null,
            "border": null,
            "bottom": null,
            "display": null,
            "flex": null,
            "flex_flow": null,
            "grid_area": null,
            "grid_auto_columns": null,
            "grid_auto_flow": null,
            "grid_auto_rows": null,
            "grid_column": null,
            "grid_gap": null,
            "grid_row": null,
            "grid_template_areas": null,
            "grid_template_columns": null,
            "grid_template_rows": null,
            "height": null,
            "justify_content": null,
            "justify_items": null,
            "left": null,
            "margin": null,
            "max_height": null,
            "max_width": null,
            "min_height": null,
            "min_width": null,
            "object_fit": null,
            "object_position": null,
            "order": null,
            "overflow": null,
            "overflow_x": null,
            "overflow_y": null,
            "padding": null,
            "right": null,
            "top": null,
            "visibility": null,
            "width": null
          }
        },
        "e5e34cca04624904a0f538e2380e1152": {
          "model_module": "@jupyter-widgets/controls",
          "model_name": "DescriptionStyleModel",
          "model_module_version": "1.5.0",
          "state": {
            "_model_module": "@jupyter-widgets/controls",
            "_model_module_version": "1.5.0",
            "_model_name": "DescriptionStyleModel",
            "_view_count": null,
            "_view_module": "@jupyter-widgets/base",
            "_view_module_version": "1.2.0",
            "_view_name": "StyleView",
            "description_width": ""
          }
        },
        "355e62c007024dcba10edc495d734099": {
          "model_module": "@jupyter-widgets/base",
          "model_name": "LayoutModel",
          "model_module_version": "1.2.0",
          "state": {
            "_model_module": "@jupyter-widgets/base",
            "_model_module_version": "1.2.0",
            "_model_name": "LayoutModel",
            "_view_count": null,
            "_view_module": "@jupyter-widgets/base",
            "_view_module_version": "1.2.0",
            "_view_name": "LayoutView",
            "align_content": null,
            "align_items": null,
            "align_self": null,
            "border": null,
            "bottom": null,
            "display": null,
            "flex": null,
            "flex_flow": null,
            "grid_area": null,
            "grid_auto_columns": null,
            "grid_auto_flow": null,
            "grid_auto_rows": null,
            "grid_column": null,
            "grid_gap": null,
            "grid_row": null,
            "grid_template_areas": null,
            "grid_template_columns": null,
            "grid_template_rows": null,
            "height": null,
            "justify_content": null,
            "justify_items": null,
            "left": null,
            "margin": null,
            "max_height": null,
            "max_width": null,
            "min_height": null,
            "min_width": null,
            "object_fit": null,
            "object_position": null,
            "order": null,
            "overflow": null,
            "overflow_x": null,
            "overflow_y": null,
            "padding": null,
            "right": null,
            "top": null,
            "visibility": null,
            "width": null
          }
        },
        "8e1d8fa968bc433f8e9c5faa9417bec8": {
          "model_module": "@jupyter-widgets/controls",
          "model_name": "ProgressStyleModel",
          "model_module_version": "1.5.0",
          "state": {
            "_model_module": "@jupyter-widgets/controls",
            "_model_module_version": "1.5.0",
            "_model_name": "ProgressStyleModel",
            "_view_count": null,
            "_view_module": "@jupyter-widgets/base",
            "_view_module_version": "1.2.0",
            "_view_name": "StyleView",
            "bar_color": null,
            "description_width": ""
          }
        },
        "bb369681456546148c3806ca83392b55": {
          "model_module": "@jupyter-widgets/base",
          "model_name": "LayoutModel",
          "model_module_version": "1.2.0",
          "state": {
            "_model_module": "@jupyter-widgets/base",
            "_model_module_version": "1.2.0",
            "_model_name": "LayoutModel",
            "_view_count": null,
            "_view_module": "@jupyter-widgets/base",
            "_view_module_version": "1.2.0",
            "_view_name": "LayoutView",
            "align_content": null,
            "align_items": null,
            "align_self": null,
            "border": null,
            "bottom": null,
            "display": null,
            "flex": null,
            "flex_flow": null,
            "grid_area": null,
            "grid_auto_columns": null,
            "grid_auto_flow": null,
            "grid_auto_rows": null,
            "grid_column": null,
            "grid_gap": null,
            "grid_row": null,
            "grid_template_areas": null,
            "grid_template_columns": null,
            "grid_template_rows": null,
            "height": null,
            "justify_content": null,
            "justify_items": null,
            "left": null,
            "margin": null,
            "max_height": null,
            "max_width": null,
            "min_height": null,
            "min_width": null,
            "object_fit": null,
            "object_position": null,
            "order": null,
            "overflow": null,
            "overflow_x": null,
            "overflow_y": null,
            "padding": null,
            "right": null,
            "top": null,
            "visibility": null,
            "width": null
          }
        },
        "11dc499bec914e19a244a0b09218d548": {
          "model_module": "@jupyter-widgets/controls",
          "model_name": "DescriptionStyleModel",
          "model_module_version": "1.5.0",
          "state": {
            "_model_module": "@jupyter-widgets/controls",
            "_model_module_version": "1.5.0",
            "_model_name": "DescriptionStyleModel",
            "_view_count": null,
            "_view_module": "@jupyter-widgets/base",
            "_view_module_version": "1.2.0",
            "_view_name": "StyleView",
            "description_width": ""
          }
        },
        "695a751e468348febaeb86a1169c0474": {
          "model_module": "@jupyter-widgets/controls",
          "model_name": "HBoxModel",
          "model_module_version": "1.5.0",
          "state": {
            "_dom_classes": [],
            "_model_module": "@jupyter-widgets/controls",
            "_model_module_version": "1.5.0",
            "_model_name": "HBoxModel",
            "_view_count": null,
            "_view_module": "@jupyter-widgets/controls",
            "_view_module_version": "1.5.0",
            "_view_name": "HBoxView",
            "box_style": "",
            "children": [
              "IPY_MODEL_3211e615b04f46feaa6f15e361be6cc9",
              "IPY_MODEL_17631a59999e447eb7f4c902a980c3ee",
              "IPY_MODEL_95ac3837f5944995891d5622dadd7e29"
            ],
            "layout": "IPY_MODEL_2f33c0e6f6e54599aee9f189366070e8"
          }
        },
        "3211e615b04f46feaa6f15e361be6cc9": {
          "model_module": "@jupyter-widgets/controls",
          "model_name": "HTMLModel",
          "model_module_version": "1.5.0",
          "state": {
            "_dom_classes": [],
            "_model_module": "@jupyter-widgets/controls",
            "_model_module_version": "1.5.0",
            "_model_name": "HTMLModel",
            "_view_count": null,
            "_view_module": "@jupyter-widgets/controls",
            "_view_module_version": "1.5.0",
            "_view_name": "HTMLView",
            "description": "",
            "description_tooltip": null,
            "layout": "IPY_MODEL_fd9cc47e35e6420dbd4821d49124a075",
            "placeholder": "​",
            "style": "IPY_MODEL_0cfcd471e4cc4646a316f5d0af166de8",
            "value": "README.md: 100%"
          }
        },
        "17631a59999e447eb7f4c902a980c3ee": {
          "model_module": "@jupyter-widgets/controls",
          "model_name": "FloatProgressModel",
          "model_module_version": "1.5.0",
          "state": {
            "_dom_classes": [],
            "_model_module": "@jupyter-widgets/controls",
            "_model_module_version": "1.5.0",
            "_model_name": "FloatProgressModel",
            "_view_count": null,
            "_view_module": "@jupyter-widgets/controls",
            "_view_module_version": "1.5.0",
            "_view_name": "ProgressView",
            "bar_style": "success",
            "description": "",
            "description_tooltip": null,
            "layout": "IPY_MODEL_ebd5dc1f0e90457ab3d2f884b6992604",
            "max": 10454,
            "min": 0,
            "orientation": "horizontal",
            "style": "IPY_MODEL_cea0207d44b74c91bb85e0976816cb62",
            "value": 10454
          }
        },
        "95ac3837f5944995891d5622dadd7e29": {
          "model_module": "@jupyter-widgets/controls",
          "model_name": "HTMLModel",
          "model_module_version": "1.5.0",
          "state": {
            "_dom_classes": [],
            "_model_module": "@jupyter-widgets/controls",
            "_model_module_version": "1.5.0",
            "_model_name": "HTMLModel",
            "_view_count": null,
            "_view_module": "@jupyter-widgets/controls",
            "_view_module_version": "1.5.0",
            "_view_name": "HTMLView",
            "description": "",
            "description_tooltip": null,
            "layout": "IPY_MODEL_44777f3eb96e4f55bec4fff77a110769",
            "placeholder": "​",
            "style": "IPY_MODEL_fc2b39c0c8a14306a71cd19a3a2dd456",
            "value": " 10.5k/10.5k [00:00&lt;00:00, 401kB/s]"
          }
        },
        "2f33c0e6f6e54599aee9f189366070e8": {
          "model_module": "@jupyter-widgets/base",
          "model_name": "LayoutModel",
          "model_module_version": "1.2.0",
          "state": {
            "_model_module": "@jupyter-widgets/base",
            "_model_module_version": "1.2.0",
            "_model_name": "LayoutModel",
            "_view_count": null,
            "_view_module": "@jupyter-widgets/base",
            "_view_module_version": "1.2.0",
            "_view_name": "LayoutView",
            "align_content": null,
            "align_items": null,
            "align_self": null,
            "border": null,
            "bottom": null,
            "display": null,
            "flex": null,
            "flex_flow": null,
            "grid_area": null,
            "grid_auto_columns": null,
            "grid_auto_flow": null,
            "grid_auto_rows": null,
            "grid_column": null,
            "grid_gap": null,
            "grid_row": null,
            "grid_template_areas": null,
            "grid_template_columns": null,
            "grid_template_rows": null,
            "height": null,
            "justify_content": null,
            "justify_items": null,
            "left": null,
            "margin": null,
            "max_height": null,
            "max_width": null,
            "min_height": null,
            "min_width": null,
            "object_fit": null,
            "object_position": null,
            "order": null,
            "overflow": null,
            "overflow_x": null,
            "overflow_y": null,
            "padding": null,
            "right": null,
            "top": null,
            "visibility": null,
            "width": null
          }
        },
        "fd9cc47e35e6420dbd4821d49124a075": {
          "model_module": "@jupyter-widgets/base",
          "model_name": "LayoutModel",
          "model_module_version": "1.2.0",
          "state": {
            "_model_module": "@jupyter-widgets/base",
            "_model_module_version": "1.2.0",
            "_model_name": "LayoutModel",
            "_view_count": null,
            "_view_module": "@jupyter-widgets/base",
            "_view_module_version": "1.2.0",
            "_view_name": "LayoutView",
            "align_content": null,
            "align_items": null,
            "align_self": null,
            "border": null,
            "bottom": null,
            "display": null,
            "flex": null,
            "flex_flow": null,
            "grid_area": null,
            "grid_auto_columns": null,
            "grid_auto_flow": null,
            "grid_auto_rows": null,
            "grid_column": null,
            "grid_gap": null,
            "grid_row": null,
            "grid_template_areas": null,
            "grid_template_columns": null,
            "grid_template_rows": null,
            "height": null,
            "justify_content": null,
            "justify_items": null,
            "left": null,
            "margin": null,
            "max_height": null,
            "max_width": null,
            "min_height": null,
            "min_width": null,
            "object_fit": null,
            "object_position": null,
            "order": null,
            "overflow": null,
            "overflow_x": null,
            "overflow_y": null,
            "padding": null,
            "right": null,
            "top": null,
            "visibility": null,
            "width": null
          }
        },
        "0cfcd471e4cc4646a316f5d0af166de8": {
          "model_module": "@jupyter-widgets/controls",
          "model_name": "DescriptionStyleModel",
          "model_module_version": "1.5.0",
          "state": {
            "_model_module": "@jupyter-widgets/controls",
            "_model_module_version": "1.5.0",
            "_model_name": "DescriptionStyleModel",
            "_view_count": null,
            "_view_module": "@jupyter-widgets/base",
            "_view_module_version": "1.2.0",
            "_view_name": "StyleView",
            "description_width": ""
          }
        },
        "ebd5dc1f0e90457ab3d2f884b6992604": {
          "model_module": "@jupyter-widgets/base",
          "model_name": "LayoutModel",
          "model_module_version": "1.2.0",
          "state": {
            "_model_module": "@jupyter-widgets/base",
            "_model_module_version": "1.2.0",
            "_model_name": "LayoutModel",
            "_view_count": null,
            "_view_module": "@jupyter-widgets/base",
            "_view_module_version": "1.2.0",
            "_view_name": "LayoutView",
            "align_content": null,
            "align_items": null,
            "align_self": null,
            "border": null,
            "bottom": null,
            "display": null,
            "flex": null,
            "flex_flow": null,
            "grid_area": null,
            "grid_auto_columns": null,
            "grid_auto_flow": null,
            "grid_auto_rows": null,
            "grid_column": null,
            "grid_gap": null,
            "grid_row": null,
            "grid_template_areas": null,
            "grid_template_columns": null,
            "grid_template_rows": null,
            "height": null,
            "justify_content": null,
            "justify_items": null,
            "left": null,
            "margin": null,
            "max_height": null,
            "max_width": null,
            "min_height": null,
            "min_width": null,
            "object_fit": null,
            "object_position": null,
            "order": null,
            "overflow": null,
            "overflow_x": null,
            "overflow_y": null,
            "padding": null,
            "right": null,
            "top": null,
            "visibility": null,
            "width": null
          }
        },
        "cea0207d44b74c91bb85e0976816cb62": {
          "model_module": "@jupyter-widgets/controls",
          "model_name": "ProgressStyleModel",
          "model_module_version": "1.5.0",
          "state": {
            "_model_module": "@jupyter-widgets/controls",
            "_model_module_version": "1.5.0",
            "_model_name": "ProgressStyleModel",
            "_view_count": null,
            "_view_module": "@jupyter-widgets/base",
            "_view_module_version": "1.2.0",
            "_view_name": "StyleView",
            "bar_color": null,
            "description_width": ""
          }
        },
        "44777f3eb96e4f55bec4fff77a110769": {
          "model_module": "@jupyter-widgets/base",
          "model_name": "LayoutModel",
          "model_module_version": "1.2.0",
          "state": {
            "_model_module": "@jupyter-widgets/base",
            "_model_module_version": "1.2.0",
            "_model_name": "LayoutModel",
            "_view_count": null,
            "_view_module": "@jupyter-widgets/base",
            "_view_module_version": "1.2.0",
            "_view_name": "LayoutView",
            "align_content": null,
            "align_items": null,
            "align_self": null,
            "border": null,
            "bottom": null,
            "display": null,
            "flex": null,
            "flex_flow": null,
            "grid_area": null,
            "grid_auto_columns": null,
            "grid_auto_flow": null,
            "grid_auto_rows": null,
            "grid_column": null,
            "grid_gap": null,
            "grid_row": null,
            "grid_template_areas": null,
            "grid_template_columns": null,
            "grid_template_rows": null,
            "height": null,
            "justify_content": null,
            "justify_items": null,
            "left": null,
            "margin": null,
            "max_height": null,
            "max_width": null,
            "min_height": null,
            "min_width": null,
            "object_fit": null,
            "object_position": null,
            "order": null,
            "overflow": null,
            "overflow_x": null,
            "overflow_y": null,
            "padding": null,
            "right": null,
            "top": null,
            "visibility": null,
            "width": null
          }
        },
        "fc2b39c0c8a14306a71cd19a3a2dd456": {
          "model_module": "@jupyter-widgets/controls",
          "model_name": "DescriptionStyleModel",
          "model_module_version": "1.5.0",
          "state": {
            "_model_module": "@jupyter-widgets/controls",
            "_model_module_version": "1.5.0",
            "_model_name": "DescriptionStyleModel",
            "_view_count": null,
            "_view_module": "@jupyter-widgets/base",
            "_view_module_version": "1.2.0",
            "_view_name": "StyleView",
            "description_width": ""
          }
        },
        "de10b3c3f23142aa90e352a0e361421e": {
          "model_module": "@jupyter-widgets/controls",
          "model_name": "HBoxModel",
          "model_module_version": "1.5.0",
          "state": {
            "_dom_classes": [],
            "_model_module": "@jupyter-widgets/controls",
            "_model_module_version": "1.5.0",
            "_model_name": "HBoxModel",
            "_view_count": null,
            "_view_module": "@jupyter-widgets/controls",
            "_view_module_version": "1.5.0",
            "_view_name": "HBoxView",
            "box_style": "",
            "children": [
              "IPY_MODEL_47dc797090314cca9f9014b1fd7847bc",
              "IPY_MODEL_51cd7834e0dd468e87803397d43301fa",
              "IPY_MODEL_df4922950b484ff3863d982d5943cac5"
            ],
            "layout": "IPY_MODEL_0042658856e94cbd8f5a2fce9c50337b"
          }
        },
        "47dc797090314cca9f9014b1fd7847bc": {
          "model_module": "@jupyter-widgets/controls",
          "model_name": "HTMLModel",
          "model_module_version": "1.5.0",
          "state": {
            "_dom_classes": [],
            "_model_module": "@jupyter-widgets/controls",
            "_model_module_version": "1.5.0",
            "_model_name": "HTMLModel",
            "_view_count": null,
            "_view_module": "@jupyter-widgets/controls",
            "_view_module_version": "1.5.0",
            "_view_name": "HTMLView",
            "description": "",
            "description_tooltip": null,
            "layout": "IPY_MODEL_b4de24852c26461c9572c4f722e608a3",
            "placeholder": "​",
            "style": "IPY_MODEL_ce2bebea42c344289b7c703e67e1f80b",
            "value": "sentence_bert_config.json: 100%"
          }
        },
        "51cd7834e0dd468e87803397d43301fa": {
          "model_module": "@jupyter-widgets/controls",
          "model_name": "FloatProgressModel",
          "model_module_version": "1.5.0",
          "state": {
            "_dom_classes": [],
            "_model_module": "@jupyter-widgets/controls",
            "_model_module_version": "1.5.0",
            "_model_name": "FloatProgressModel",
            "_view_count": null,
            "_view_module": "@jupyter-widgets/controls",
            "_view_module_version": "1.5.0",
            "_view_name": "ProgressView",
            "bar_style": "success",
            "description": "",
            "description_tooltip": null,
            "layout": "IPY_MODEL_58da32af26f5461cab2ade054fb5d728",
            "max": 53,
            "min": 0,
            "orientation": "horizontal",
            "style": "IPY_MODEL_992a57048a16403a937d1fde10ecefe5",
            "value": 53
          }
        },
        "df4922950b484ff3863d982d5943cac5": {
          "model_module": "@jupyter-widgets/controls",
          "model_name": "HTMLModel",
          "model_module_version": "1.5.0",
          "state": {
            "_dom_classes": [],
            "_model_module": "@jupyter-widgets/controls",
            "_model_module_version": "1.5.0",
            "_model_name": "HTMLModel",
            "_view_count": null,
            "_view_module": "@jupyter-widgets/controls",
            "_view_module_version": "1.5.0",
            "_view_name": "HTMLView",
            "description": "",
            "description_tooltip": null,
            "layout": "IPY_MODEL_03a0ba63a984466e9e6ffacca3af8fd5",
            "placeholder": "​",
            "style": "IPY_MODEL_7d960aef7df442fbb3bb043489d50f85",
            "value": " 53.0/53.0 [00:00&lt;00:00, 3.08kB/s]"
          }
        },
        "0042658856e94cbd8f5a2fce9c50337b": {
          "model_module": "@jupyter-widgets/base",
          "model_name": "LayoutModel",
          "model_module_version": "1.2.0",
          "state": {
            "_model_module": "@jupyter-widgets/base",
            "_model_module_version": "1.2.0",
            "_model_name": "LayoutModel",
            "_view_count": null,
            "_view_module": "@jupyter-widgets/base",
            "_view_module_version": "1.2.0",
            "_view_name": "LayoutView",
            "align_content": null,
            "align_items": null,
            "align_self": null,
            "border": null,
            "bottom": null,
            "display": null,
            "flex": null,
            "flex_flow": null,
            "grid_area": null,
            "grid_auto_columns": null,
            "grid_auto_flow": null,
            "grid_auto_rows": null,
            "grid_column": null,
            "grid_gap": null,
            "grid_row": null,
            "grid_template_areas": null,
            "grid_template_columns": null,
            "grid_template_rows": null,
            "height": null,
            "justify_content": null,
            "justify_items": null,
            "left": null,
            "margin": null,
            "max_height": null,
            "max_width": null,
            "min_height": null,
            "min_width": null,
            "object_fit": null,
            "object_position": null,
            "order": null,
            "overflow": null,
            "overflow_x": null,
            "overflow_y": null,
            "padding": null,
            "right": null,
            "top": null,
            "visibility": null,
            "width": null
          }
        },
        "b4de24852c26461c9572c4f722e608a3": {
          "model_module": "@jupyter-widgets/base",
          "model_name": "LayoutModel",
          "model_module_version": "1.2.0",
          "state": {
            "_model_module": "@jupyter-widgets/base",
            "_model_module_version": "1.2.0",
            "_model_name": "LayoutModel",
            "_view_count": null,
            "_view_module": "@jupyter-widgets/base",
            "_view_module_version": "1.2.0",
            "_view_name": "LayoutView",
            "align_content": null,
            "align_items": null,
            "align_self": null,
            "border": null,
            "bottom": null,
            "display": null,
            "flex": null,
            "flex_flow": null,
            "grid_area": null,
            "grid_auto_columns": null,
            "grid_auto_flow": null,
            "grid_auto_rows": null,
            "grid_column": null,
            "grid_gap": null,
            "grid_row": null,
            "grid_template_areas": null,
            "grid_template_columns": null,
            "grid_template_rows": null,
            "height": null,
            "justify_content": null,
            "justify_items": null,
            "left": null,
            "margin": null,
            "max_height": null,
            "max_width": null,
            "min_height": null,
            "min_width": null,
            "object_fit": null,
            "object_position": null,
            "order": null,
            "overflow": null,
            "overflow_x": null,
            "overflow_y": null,
            "padding": null,
            "right": null,
            "top": null,
            "visibility": null,
            "width": null
          }
        },
        "ce2bebea42c344289b7c703e67e1f80b": {
          "model_module": "@jupyter-widgets/controls",
          "model_name": "DescriptionStyleModel",
          "model_module_version": "1.5.0",
          "state": {
            "_model_module": "@jupyter-widgets/controls",
            "_model_module_version": "1.5.0",
            "_model_name": "DescriptionStyleModel",
            "_view_count": null,
            "_view_module": "@jupyter-widgets/base",
            "_view_module_version": "1.2.0",
            "_view_name": "StyleView",
            "description_width": ""
          }
        },
        "58da32af26f5461cab2ade054fb5d728": {
          "model_module": "@jupyter-widgets/base",
          "model_name": "LayoutModel",
          "model_module_version": "1.2.0",
          "state": {
            "_model_module": "@jupyter-widgets/base",
            "_model_module_version": "1.2.0",
            "_model_name": "LayoutModel",
            "_view_count": null,
            "_view_module": "@jupyter-widgets/base",
            "_view_module_version": "1.2.0",
            "_view_name": "LayoutView",
            "align_content": null,
            "align_items": null,
            "align_self": null,
            "border": null,
            "bottom": null,
            "display": null,
            "flex": null,
            "flex_flow": null,
            "grid_area": null,
            "grid_auto_columns": null,
            "grid_auto_flow": null,
            "grid_auto_rows": null,
            "grid_column": null,
            "grid_gap": null,
            "grid_row": null,
            "grid_template_areas": null,
            "grid_template_columns": null,
            "grid_template_rows": null,
            "height": null,
            "justify_content": null,
            "justify_items": null,
            "left": null,
            "margin": null,
            "max_height": null,
            "max_width": null,
            "min_height": null,
            "min_width": null,
            "object_fit": null,
            "object_position": null,
            "order": null,
            "overflow": null,
            "overflow_x": null,
            "overflow_y": null,
            "padding": null,
            "right": null,
            "top": null,
            "visibility": null,
            "width": null
          }
        },
        "992a57048a16403a937d1fde10ecefe5": {
          "model_module": "@jupyter-widgets/controls",
          "model_name": "ProgressStyleModel",
          "model_module_version": "1.5.0",
          "state": {
            "_model_module": "@jupyter-widgets/controls",
            "_model_module_version": "1.5.0",
            "_model_name": "ProgressStyleModel",
            "_view_count": null,
            "_view_module": "@jupyter-widgets/base",
            "_view_module_version": "1.2.0",
            "_view_name": "StyleView",
            "bar_color": null,
            "description_width": ""
          }
        },
        "03a0ba63a984466e9e6ffacca3af8fd5": {
          "model_module": "@jupyter-widgets/base",
          "model_name": "LayoutModel",
          "model_module_version": "1.2.0",
          "state": {
            "_model_module": "@jupyter-widgets/base",
            "_model_module_version": "1.2.0",
            "_model_name": "LayoutModel",
            "_view_count": null,
            "_view_module": "@jupyter-widgets/base",
            "_view_module_version": "1.2.0",
            "_view_name": "LayoutView",
            "align_content": null,
            "align_items": null,
            "align_self": null,
            "border": null,
            "bottom": null,
            "display": null,
            "flex": null,
            "flex_flow": null,
            "grid_area": null,
            "grid_auto_columns": null,
            "grid_auto_flow": null,
            "grid_auto_rows": null,
            "grid_column": null,
            "grid_gap": null,
            "grid_row": null,
            "grid_template_areas": null,
            "grid_template_columns": null,
            "grid_template_rows": null,
            "height": null,
            "justify_content": null,
            "justify_items": null,
            "left": null,
            "margin": null,
            "max_height": null,
            "max_width": null,
            "min_height": null,
            "min_width": null,
            "object_fit": null,
            "object_position": null,
            "order": null,
            "overflow": null,
            "overflow_x": null,
            "overflow_y": null,
            "padding": null,
            "right": null,
            "top": null,
            "visibility": null,
            "width": null
          }
        },
        "7d960aef7df442fbb3bb043489d50f85": {
          "model_module": "@jupyter-widgets/controls",
          "model_name": "DescriptionStyleModel",
          "model_module_version": "1.5.0",
          "state": {
            "_model_module": "@jupyter-widgets/controls",
            "_model_module_version": "1.5.0",
            "_model_name": "DescriptionStyleModel",
            "_view_count": null,
            "_view_module": "@jupyter-widgets/base",
            "_view_module_version": "1.2.0",
            "_view_name": "StyleView",
            "description_width": ""
          }
        },
        "64f9533b5c134a5da9734e7c5222554b": {
          "model_module": "@jupyter-widgets/controls",
          "model_name": "HBoxModel",
          "model_module_version": "1.5.0",
          "state": {
            "_dom_classes": [],
            "_model_module": "@jupyter-widgets/controls",
            "_model_module_version": "1.5.0",
            "_model_name": "HBoxModel",
            "_view_count": null,
            "_view_module": "@jupyter-widgets/controls",
            "_view_module_version": "1.5.0",
            "_view_name": "HBoxView",
            "box_style": "",
            "children": [
              "IPY_MODEL_7df380e1046e472b8f8c201ff78d0879",
              "IPY_MODEL_b0666070aad74fb39aba69e5fb63ed50",
              "IPY_MODEL_2a8cf8b9d516495390de876a7629ca2d"
            ],
            "layout": "IPY_MODEL_409b020ca2ae466788b35f5c64d80f09"
          }
        },
        "7df380e1046e472b8f8c201ff78d0879": {
          "model_module": "@jupyter-widgets/controls",
          "model_name": "HTMLModel",
          "model_module_version": "1.5.0",
          "state": {
            "_dom_classes": [],
            "_model_module": "@jupyter-widgets/controls",
            "_model_module_version": "1.5.0",
            "_model_name": "HTMLModel",
            "_view_count": null,
            "_view_module": "@jupyter-widgets/controls",
            "_view_module_version": "1.5.0",
            "_view_name": "HTMLView",
            "description": "",
            "description_tooltip": null,
            "layout": "IPY_MODEL_3bfcd8acc8b44eea9079461ad2e11567",
            "placeholder": "​",
            "style": "IPY_MODEL_fb5a6cc3cf4b41a89b0c4a518f5df649",
            "value": "config.json: 100%"
          }
        },
        "b0666070aad74fb39aba69e5fb63ed50": {
          "model_module": "@jupyter-widgets/controls",
          "model_name": "FloatProgressModel",
          "model_module_version": "1.5.0",
          "state": {
            "_dom_classes": [],
            "_model_module": "@jupyter-widgets/controls",
            "_model_module_version": "1.5.0",
            "_model_name": "FloatProgressModel",
            "_view_count": null,
            "_view_module": "@jupyter-widgets/controls",
            "_view_module_version": "1.5.0",
            "_view_name": "ProgressView",
            "bar_style": "success",
            "description": "",
            "description_tooltip": null,
            "layout": "IPY_MODEL_3bc70ed19e3f4cee9d9ed82dde8cfc7a",
            "max": 612,
            "min": 0,
            "orientation": "horizontal",
            "style": "IPY_MODEL_7e7c3ddeaa8f4960929b4709e5782978",
            "value": 612
          }
        },
        "2a8cf8b9d516495390de876a7629ca2d": {
          "model_module": "@jupyter-widgets/controls",
          "model_name": "HTMLModel",
          "model_module_version": "1.5.0",
          "state": {
            "_dom_classes": [],
            "_model_module": "@jupyter-widgets/controls",
            "_model_module_version": "1.5.0",
            "_model_name": "HTMLModel",
            "_view_count": null,
            "_view_module": "@jupyter-widgets/controls",
            "_view_module_version": "1.5.0",
            "_view_name": "HTMLView",
            "description": "",
            "description_tooltip": null,
            "layout": "IPY_MODEL_d6b4de87f79342258a1f6a47470ee378",
            "placeholder": "​",
            "style": "IPY_MODEL_b6dab7920cfd4d049186d6ddcf5c3ec4",
            "value": " 612/612 [00:00&lt;00:00, 33.4kB/s]"
          }
        },
        "409b020ca2ae466788b35f5c64d80f09": {
          "model_module": "@jupyter-widgets/base",
          "model_name": "LayoutModel",
          "model_module_version": "1.2.0",
          "state": {
            "_model_module": "@jupyter-widgets/base",
            "_model_module_version": "1.2.0",
            "_model_name": "LayoutModel",
            "_view_count": null,
            "_view_module": "@jupyter-widgets/base",
            "_view_module_version": "1.2.0",
            "_view_name": "LayoutView",
            "align_content": null,
            "align_items": null,
            "align_self": null,
            "border": null,
            "bottom": null,
            "display": null,
            "flex": null,
            "flex_flow": null,
            "grid_area": null,
            "grid_auto_columns": null,
            "grid_auto_flow": null,
            "grid_auto_rows": null,
            "grid_column": null,
            "grid_gap": null,
            "grid_row": null,
            "grid_template_areas": null,
            "grid_template_columns": null,
            "grid_template_rows": null,
            "height": null,
            "justify_content": null,
            "justify_items": null,
            "left": null,
            "margin": null,
            "max_height": null,
            "max_width": null,
            "min_height": null,
            "min_width": null,
            "object_fit": null,
            "object_position": null,
            "order": null,
            "overflow": null,
            "overflow_x": null,
            "overflow_y": null,
            "padding": null,
            "right": null,
            "top": null,
            "visibility": null,
            "width": null
          }
        },
        "3bfcd8acc8b44eea9079461ad2e11567": {
          "model_module": "@jupyter-widgets/base",
          "model_name": "LayoutModel",
          "model_module_version": "1.2.0",
          "state": {
            "_model_module": "@jupyter-widgets/base",
            "_model_module_version": "1.2.0",
            "_model_name": "LayoutModel",
            "_view_count": null,
            "_view_module": "@jupyter-widgets/base",
            "_view_module_version": "1.2.0",
            "_view_name": "LayoutView",
            "align_content": null,
            "align_items": null,
            "align_self": null,
            "border": null,
            "bottom": null,
            "display": null,
            "flex": null,
            "flex_flow": null,
            "grid_area": null,
            "grid_auto_columns": null,
            "grid_auto_flow": null,
            "grid_auto_rows": null,
            "grid_column": null,
            "grid_gap": null,
            "grid_row": null,
            "grid_template_areas": null,
            "grid_template_columns": null,
            "grid_template_rows": null,
            "height": null,
            "justify_content": null,
            "justify_items": null,
            "left": null,
            "margin": null,
            "max_height": null,
            "max_width": null,
            "min_height": null,
            "min_width": null,
            "object_fit": null,
            "object_position": null,
            "order": null,
            "overflow": null,
            "overflow_x": null,
            "overflow_y": null,
            "padding": null,
            "right": null,
            "top": null,
            "visibility": null,
            "width": null
          }
        },
        "fb5a6cc3cf4b41a89b0c4a518f5df649": {
          "model_module": "@jupyter-widgets/controls",
          "model_name": "DescriptionStyleModel",
          "model_module_version": "1.5.0",
          "state": {
            "_model_module": "@jupyter-widgets/controls",
            "_model_module_version": "1.5.0",
            "_model_name": "DescriptionStyleModel",
            "_view_count": null,
            "_view_module": "@jupyter-widgets/base",
            "_view_module_version": "1.2.0",
            "_view_name": "StyleView",
            "description_width": ""
          }
        },
        "3bc70ed19e3f4cee9d9ed82dde8cfc7a": {
          "model_module": "@jupyter-widgets/base",
          "model_name": "LayoutModel",
          "model_module_version": "1.2.0",
          "state": {
            "_model_module": "@jupyter-widgets/base",
            "_model_module_version": "1.2.0",
            "_model_name": "LayoutModel",
            "_view_count": null,
            "_view_module": "@jupyter-widgets/base",
            "_view_module_version": "1.2.0",
            "_view_name": "LayoutView",
            "align_content": null,
            "align_items": null,
            "align_self": null,
            "border": null,
            "bottom": null,
            "display": null,
            "flex": null,
            "flex_flow": null,
            "grid_area": null,
            "grid_auto_columns": null,
            "grid_auto_flow": null,
            "grid_auto_rows": null,
            "grid_column": null,
            "grid_gap": null,
            "grid_row": null,
            "grid_template_areas": null,
            "grid_template_columns": null,
            "grid_template_rows": null,
            "height": null,
            "justify_content": null,
            "justify_items": null,
            "left": null,
            "margin": null,
            "max_height": null,
            "max_width": null,
            "min_height": null,
            "min_width": null,
            "object_fit": null,
            "object_position": null,
            "order": null,
            "overflow": null,
            "overflow_x": null,
            "overflow_y": null,
            "padding": null,
            "right": null,
            "top": null,
            "visibility": null,
            "width": null
          }
        },
        "7e7c3ddeaa8f4960929b4709e5782978": {
          "model_module": "@jupyter-widgets/controls",
          "model_name": "ProgressStyleModel",
          "model_module_version": "1.5.0",
          "state": {
            "_model_module": "@jupyter-widgets/controls",
            "_model_module_version": "1.5.0",
            "_model_name": "ProgressStyleModel",
            "_view_count": null,
            "_view_module": "@jupyter-widgets/base",
            "_view_module_version": "1.2.0",
            "_view_name": "StyleView",
            "bar_color": null,
            "description_width": ""
          }
        },
        "d6b4de87f79342258a1f6a47470ee378": {
          "model_module": "@jupyter-widgets/base",
          "model_name": "LayoutModel",
          "model_module_version": "1.2.0",
          "state": {
            "_model_module": "@jupyter-widgets/base",
            "_model_module_version": "1.2.0",
            "_model_name": "LayoutModel",
            "_view_count": null,
            "_view_module": "@jupyter-widgets/base",
            "_view_module_version": "1.2.0",
            "_view_name": "LayoutView",
            "align_content": null,
            "align_items": null,
            "align_self": null,
            "border": null,
            "bottom": null,
            "display": null,
            "flex": null,
            "flex_flow": null,
            "grid_area": null,
            "grid_auto_columns": null,
            "grid_auto_flow": null,
            "grid_auto_rows": null,
            "grid_column": null,
            "grid_gap": null,
            "grid_row": null,
            "grid_template_areas": null,
            "grid_template_columns": null,
            "grid_template_rows": null,
            "height": null,
            "justify_content": null,
            "justify_items": null,
            "left": null,
            "margin": null,
            "max_height": null,
            "max_width": null,
            "min_height": null,
            "min_width": null,
            "object_fit": null,
            "object_position": null,
            "order": null,
            "overflow": null,
            "overflow_x": null,
            "overflow_y": null,
            "padding": null,
            "right": null,
            "top": null,
            "visibility": null,
            "width": null
          }
        },
        "b6dab7920cfd4d049186d6ddcf5c3ec4": {
          "model_module": "@jupyter-widgets/controls",
          "model_name": "DescriptionStyleModel",
          "model_module_version": "1.5.0",
          "state": {
            "_model_module": "@jupyter-widgets/controls",
            "_model_module_version": "1.5.0",
            "_model_name": "DescriptionStyleModel",
            "_view_count": null,
            "_view_module": "@jupyter-widgets/base",
            "_view_module_version": "1.2.0",
            "_view_name": "StyleView",
            "description_width": ""
          }
        },
        "056a503604984679b96789fce834a42e": {
          "model_module": "@jupyter-widgets/controls",
          "model_name": "HBoxModel",
          "model_module_version": "1.5.0",
          "state": {
            "_dom_classes": [],
            "_model_module": "@jupyter-widgets/controls",
            "_model_module_version": "1.5.0",
            "_model_name": "HBoxModel",
            "_view_count": null,
            "_view_module": "@jupyter-widgets/controls",
            "_view_module_version": "1.5.0",
            "_view_name": "HBoxView",
            "box_style": "",
            "children": [
              "IPY_MODEL_f1bd7a02111a44fd80073a9d479d10f8",
              "IPY_MODEL_f4cfa1cc557643528b7b05c6eb80efdf",
              "IPY_MODEL_5bea7ccd9e224096ba2d9325649ed3a8"
            ],
            "layout": "IPY_MODEL_b2034fffedd94e569ee5c7a4bff8efa4"
          }
        },
        "f1bd7a02111a44fd80073a9d479d10f8": {
          "model_module": "@jupyter-widgets/controls",
          "model_name": "HTMLModel",
          "model_module_version": "1.5.0",
          "state": {
            "_dom_classes": [],
            "_model_module": "@jupyter-widgets/controls",
            "_model_module_version": "1.5.0",
            "_model_name": "HTMLModel",
            "_view_count": null,
            "_view_module": "@jupyter-widgets/controls",
            "_view_module_version": "1.5.0",
            "_view_name": "HTMLView",
            "description": "",
            "description_tooltip": null,
            "layout": "IPY_MODEL_204d565584fb4a3ba1bacecb60d297b6",
            "placeholder": "​",
            "style": "IPY_MODEL_f60192de085f49739941c71bacf25f07",
            "value": "model.safetensors: 100%"
          }
        },
        "f4cfa1cc557643528b7b05c6eb80efdf": {
          "model_module": "@jupyter-widgets/controls",
          "model_name": "FloatProgressModel",
          "model_module_version": "1.5.0",
          "state": {
            "_dom_classes": [],
            "_model_module": "@jupyter-widgets/controls",
            "_model_module_version": "1.5.0",
            "_model_name": "FloatProgressModel",
            "_view_count": null,
            "_view_module": "@jupyter-widgets/controls",
            "_view_module_version": "1.5.0",
            "_view_name": "ProgressView",
            "bar_style": "success",
            "description": "",
            "description_tooltip": null,
            "layout": "IPY_MODEL_d36aff08a2014c81a08a870c24790ffe",
            "max": 90868376,
            "min": 0,
            "orientation": "horizontal",
            "style": "IPY_MODEL_183e14c4a7ba40b98337ad7c4e8e83d2",
            "value": 90868376
          }
        },
        "5bea7ccd9e224096ba2d9325649ed3a8": {
          "model_module": "@jupyter-widgets/controls",
          "model_name": "HTMLModel",
          "model_module_version": "1.5.0",
          "state": {
            "_dom_classes": [],
            "_model_module": "@jupyter-widgets/controls",
            "_model_module_version": "1.5.0",
            "_model_name": "HTMLModel",
            "_view_count": null,
            "_view_module": "@jupyter-widgets/controls",
            "_view_module_version": "1.5.0",
            "_view_name": "HTMLView",
            "description": "",
            "description_tooltip": null,
            "layout": "IPY_MODEL_3bc41de016d6414e8680637ce887274a",
            "placeholder": "​",
            "style": "IPY_MODEL_aa6794220bf14dd7a51634468d5b9d8d",
            "value": " 90.9M/90.9M [00:00&lt;00:00, 122MB/s]"
          }
        },
        "b2034fffedd94e569ee5c7a4bff8efa4": {
          "model_module": "@jupyter-widgets/base",
          "model_name": "LayoutModel",
          "model_module_version": "1.2.0",
          "state": {
            "_model_module": "@jupyter-widgets/base",
            "_model_module_version": "1.2.0",
            "_model_name": "LayoutModel",
            "_view_count": null,
            "_view_module": "@jupyter-widgets/base",
            "_view_module_version": "1.2.0",
            "_view_name": "LayoutView",
            "align_content": null,
            "align_items": null,
            "align_self": null,
            "border": null,
            "bottom": null,
            "display": null,
            "flex": null,
            "flex_flow": null,
            "grid_area": null,
            "grid_auto_columns": null,
            "grid_auto_flow": null,
            "grid_auto_rows": null,
            "grid_column": null,
            "grid_gap": null,
            "grid_row": null,
            "grid_template_areas": null,
            "grid_template_columns": null,
            "grid_template_rows": null,
            "height": null,
            "justify_content": null,
            "justify_items": null,
            "left": null,
            "margin": null,
            "max_height": null,
            "max_width": null,
            "min_height": null,
            "min_width": null,
            "object_fit": null,
            "object_position": null,
            "order": null,
            "overflow": null,
            "overflow_x": null,
            "overflow_y": null,
            "padding": null,
            "right": null,
            "top": null,
            "visibility": null,
            "width": null
          }
        },
        "204d565584fb4a3ba1bacecb60d297b6": {
          "model_module": "@jupyter-widgets/base",
          "model_name": "LayoutModel",
          "model_module_version": "1.2.0",
          "state": {
            "_model_module": "@jupyter-widgets/base",
            "_model_module_version": "1.2.0",
            "_model_name": "LayoutModel",
            "_view_count": null,
            "_view_module": "@jupyter-widgets/base",
            "_view_module_version": "1.2.0",
            "_view_name": "LayoutView",
            "align_content": null,
            "align_items": null,
            "align_self": null,
            "border": null,
            "bottom": null,
            "display": null,
            "flex": null,
            "flex_flow": null,
            "grid_area": null,
            "grid_auto_columns": null,
            "grid_auto_flow": null,
            "grid_auto_rows": null,
            "grid_column": null,
            "grid_gap": null,
            "grid_row": null,
            "grid_template_areas": null,
            "grid_template_columns": null,
            "grid_template_rows": null,
            "height": null,
            "justify_content": null,
            "justify_items": null,
            "left": null,
            "margin": null,
            "max_height": null,
            "max_width": null,
            "min_height": null,
            "min_width": null,
            "object_fit": null,
            "object_position": null,
            "order": null,
            "overflow": null,
            "overflow_x": null,
            "overflow_y": null,
            "padding": null,
            "right": null,
            "top": null,
            "visibility": null,
            "width": null
          }
        },
        "f60192de085f49739941c71bacf25f07": {
          "model_module": "@jupyter-widgets/controls",
          "model_name": "DescriptionStyleModel",
          "model_module_version": "1.5.0",
          "state": {
            "_model_module": "@jupyter-widgets/controls",
            "_model_module_version": "1.5.0",
            "_model_name": "DescriptionStyleModel",
            "_view_count": null,
            "_view_module": "@jupyter-widgets/base",
            "_view_module_version": "1.2.0",
            "_view_name": "StyleView",
            "description_width": ""
          }
        },
        "d36aff08a2014c81a08a870c24790ffe": {
          "model_module": "@jupyter-widgets/base",
          "model_name": "LayoutModel",
          "model_module_version": "1.2.0",
          "state": {
            "_model_module": "@jupyter-widgets/base",
            "_model_module_version": "1.2.0",
            "_model_name": "LayoutModel",
            "_view_count": null,
            "_view_module": "@jupyter-widgets/base",
            "_view_module_version": "1.2.0",
            "_view_name": "LayoutView",
            "align_content": null,
            "align_items": null,
            "align_self": null,
            "border": null,
            "bottom": null,
            "display": null,
            "flex": null,
            "flex_flow": null,
            "grid_area": null,
            "grid_auto_columns": null,
            "grid_auto_flow": null,
            "grid_auto_rows": null,
            "grid_column": null,
            "grid_gap": null,
            "grid_row": null,
            "grid_template_areas": null,
            "grid_template_columns": null,
            "grid_template_rows": null,
            "height": null,
            "justify_content": null,
            "justify_items": null,
            "left": null,
            "margin": null,
            "max_height": null,
            "max_width": null,
            "min_height": null,
            "min_width": null,
            "object_fit": null,
            "object_position": null,
            "order": null,
            "overflow": null,
            "overflow_x": null,
            "overflow_y": null,
            "padding": null,
            "right": null,
            "top": null,
            "visibility": null,
            "width": null
          }
        },
        "183e14c4a7ba40b98337ad7c4e8e83d2": {
          "model_module": "@jupyter-widgets/controls",
          "model_name": "ProgressStyleModel",
          "model_module_version": "1.5.0",
          "state": {
            "_model_module": "@jupyter-widgets/controls",
            "_model_module_version": "1.5.0",
            "_model_name": "ProgressStyleModel",
            "_view_count": null,
            "_view_module": "@jupyter-widgets/base",
            "_view_module_version": "1.2.0",
            "_view_name": "StyleView",
            "bar_color": null,
            "description_width": ""
          }
        },
        "3bc41de016d6414e8680637ce887274a": {
          "model_module": "@jupyter-widgets/base",
          "model_name": "LayoutModel",
          "model_module_version": "1.2.0",
          "state": {
            "_model_module": "@jupyter-widgets/base",
            "_model_module_version": "1.2.0",
            "_model_name": "LayoutModel",
            "_view_count": null,
            "_view_module": "@jupyter-widgets/base",
            "_view_module_version": "1.2.0",
            "_view_name": "LayoutView",
            "align_content": null,
            "align_items": null,
            "align_self": null,
            "border": null,
            "bottom": null,
            "display": null,
            "flex": null,
            "flex_flow": null,
            "grid_area": null,
            "grid_auto_columns": null,
            "grid_auto_flow": null,
            "grid_auto_rows": null,
            "grid_column": null,
            "grid_gap": null,
            "grid_row": null,
            "grid_template_areas": null,
            "grid_template_columns": null,
            "grid_template_rows": null,
            "height": null,
            "justify_content": null,
            "justify_items": null,
            "left": null,
            "margin": null,
            "max_height": null,
            "max_width": null,
            "min_height": null,
            "min_width": null,
            "object_fit": null,
            "object_position": null,
            "order": null,
            "overflow": null,
            "overflow_x": null,
            "overflow_y": null,
            "padding": null,
            "right": null,
            "top": null,
            "visibility": null,
            "width": null
          }
        },
        "aa6794220bf14dd7a51634468d5b9d8d": {
          "model_module": "@jupyter-widgets/controls",
          "model_name": "DescriptionStyleModel",
          "model_module_version": "1.5.0",
          "state": {
            "_model_module": "@jupyter-widgets/controls",
            "_model_module_version": "1.5.0",
            "_model_name": "DescriptionStyleModel",
            "_view_count": null,
            "_view_module": "@jupyter-widgets/base",
            "_view_module_version": "1.2.0",
            "_view_name": "StyleView",
            "description_width": ""
          }
        },
        "f2480ed9e29e4c7b9ae48171876b212b": {
          "model_module": "@jupyter-widgets/controls",
          "model_name": "HBoxModel",
          "model_module_version": "1.5.0",
          "state": {
            "_dom_classes": [],
            "_model_module": "@jupyter-widgets/controls",
            "_model_module_version": "1.5.0",
            "_model_name": "HBoxModel",
            "_view_count": null,
            "_view_module": "@jupyter-widgets/controls",
            "_view_module_version": "1.5.0",
            "_view_name": "HBoxView",
            "box_style": "",
            "children": [
              "IPY_MODEL_e273e3cc052a4961b054a2753285202c",
              "IPY_MODEL_8633c977527d4b4087e864595c34d23f",
              "IPY_MODEL_c6fafd50ca0741fa963b8b213ab695cc"
            ],
            "layout": "IPY_MODEL_81d6bdf253cd4fb3b10ea30ab41d6e8a"
          }
        },
        "e273e3cc052a4961b054a2753285202c": {
          "model_module": "@jupyter-widgets/controls",
          "model_name": "HTMLModel",
          "model_module_version": "1.5.0",
          "state": {
            "_dom_classes": [],
            "_model_module": "@jupyter-widgets/controls",
            "_model_module_version": "1.5.0",
            "_model_name": "HTMLModel",
            "_view_count": null,
            "_view_module": "@jupyter-widgets/controls",
            "_view_module_version": "1.5.0",
            "_view_name": "HTMLView",
            "description": "",
            "description_tooltip": null,
            "layout": "IPY_MODEL_3860e7a2cfd94a70bfcde2c1f4b1bb41",
            "placeholder": "​",
            "style": "IPY_MODEL_91fb808cff204225a893a1e00d725674",
            "value": "tokenizer_config.json: 100%"
          }
        },
        "8633c977527d4b4087e864595c34d23f": {
          "model_module": "@jupyter-widgets/controls",
          "model_name": "FloatProgressModel",
          "model_module_version": "1.5.0",
          "state": {
            "_dom_classes": [],
            "_model_module": "@jupyter-widgets/controls",
            "_model_module_version": "1.5.0",
            "_model_name": "FloatProgressModel",
            "_view_count": null,
            "_view_module": "@jupyter-widgets/controls",
            "_view_module_version": "1.5.0",
            "_view_name": "ProgressView",
            "bar_style": "success",
            "description": "",
            "description_tooltip": null,
            "layout": "IPY_MODEL_e2c9ae6188444f39883040451575d9ea",
            "max": 350,
            "min": 0,
            "orientation": "horizontal",
            "style": "IPY_MODEL_1a08c71192c54cbea074988dcb856735",
            "value": 350
          }
        },
        "c6fafd50ca0741fa963b8b213ab695cc": {
          "model_module": "@jupyter-widgets/controls",
          "model_name": "HTMLModel",
          "model_module_version": "1.5.0",
          "state": {
            "_dom_classes": [],
            "_model_module": "@jupyter-widgets/controls",
            "_model_module_version": "1.5.0",
            "_model_name": "HTMLModel",
            "_view_count": null,
            "_view_module": "@jupyter-widgets/controls",
            "_view_module_version": "1.5.0",
            "_view_name": "HTMLView",
            "description": "",
            "description_tooltip": null,
            "layout": "IPY_MODEL_104de02c13ef463c8924dfa44379e167",
            "placeholder": "​",
            "style": "IPY_MODEL_33048a7fbb594317aa7c3740db352cfa",
            "value": " 350/350 [00:00&lt;00:00, 19.4kB/s]"
          }
        },
        "81d6bdf253cd4fb3b10ea30ab41d6e8a": {
          "model_module": "@jupyter-widgets/base",
          "model_name": "LayoutModel",
          "model_module_version": "1.2.0",
          "state": {
            "_model_module": "@jupyter-widgets/base",
            "_model_module_version": "1.2.0",
            "_model_name": "LayoutModel",
            "_view_count": null,
            "_view_module": "@jupyter-widgets/base",
            "_view_module_version": "1.2.0",
            "_view_name": "LayoutView",
            "align_content": null,
            "align_items": null,
            "align_self": null,
            "border": null,
            "bottom": null,
            "display": null,
            "flex": null,
            "flex_flow": null,
            "grid_area": null,
            "grid_auto_columns": null,
            "grid_auto_flow": null,
            "grid_auto_rows": null,
            "grid_column": null,
            "grid_gap": null,
            "grid_row": null,
            "grid_template_areas": null,
            "grid_template_columns": null,
            "grid_template_rows": null,
            "height": null,
            "justify_content": null,
            "justify_items": null,
            "left": null,
            "margin": null,
            "max_height": null,
            "max_width": null,
            "min_height": null,
            "min_width": null,
            "object_fit": null,
            "object_position": null,
            "order": null,
            "overflow": null,
            "overflow_x": null,
            "overflow_y": null,
            "padding": null,
            "right": null,
            "top": null,
            "visibility": null,
            "width": null
          }
        },
        "3860e7a2cfd94a70bfcde2c1f4b1bb41": {
          "model_module": "@jupyter-widgets/base",
          "model_name": "LayoutModel",
          "model_module_version": "1.2.0",
          "state": {
            "_model_module": "@jupyter-widgets/base",
            "_model_module_version": "1.2.0",
            "_model_name": "LayoutModel",
            "_view_count": null,
            "_view_module": "@jupyter-widgets/base",
            "_view_module_version": "1.2.0",
            "_view_name": "LayoutView",
            "align_content": null,
            "align_items": null,
            "align_self": null,
            "border": null,
            "bottom": null,
            "display": null,
            "flex": null,
            "flex_flow": null,
            "grid_area": null,
            "grid_auto_columns": null,
            "grid_auto_flow": null,
            "grid_auto_rows": null,
            "grid_column": null,
            "grid_gap": null,
            "grid_row": null,
            "grid_template_areas": null,
            "grid_template_columns": null,
            "grid_template_rows": null,
            "height": null,
            "justify_content": null,
            "justify_items": null,
            "left": null,
            "margin": null,
            "max_height": null,
            "max_width": null,
            "min_height": null,
            "min_width": null,
            "object_fit": null,
            "object_position": null,
            "order": null,
            "overflow": null,
            "overflow_x": null,
            "overflow_y": null,
            "padding": null,
            "right": null,
            "top": null,
            "visibility": null,
            "width": null
          }
        },
        "91fb808cff204225a893a1e00d725674": {
          "model_module": "@jupyter-widgets/controls",
          "model_name": "DescriptionStyleModel",
          "model_module_version": "1.5.0",
          "state": {
            "_model_module": "@jupyter-widgets/controls",
            "_model_module_version": "1.5.0",
            "_model_name": "DescriptionStyleModel",
            "_view_count": null,
            "_view_module": "@jupyter-widgets/base",
            "_view_module_version": "1.2.0",
            "_view_name": "StyleView",
            "description_width": ""
          }
        },
        "e2c9ae6188444f39883040451575d9ea": {
          "model_module": "@jupyter-widgets/base",
          "model_name": "LayoutModel",
          "model_module_version": "1.2.0",
          "state": {
            "_model_module": "@jupyter-widgets/base",
            "_model_module_version": "1.2.0",
            "_model_name": "LayoutModel",
            "_view_count": null,
            "_view_module": "@jupyter-widgets/base",
            "_view_module_version": "1.2.0",
            "_view_name": "LayoutView",
            "align_content": null,
            "align_items": null,
            "align_self": null,
            "border": null,
            "bottom": null,
            "display": null,
            "flex": null,
            "flex_flow": null,
            "grid_area": null,
            "grid_auto_columns": null,
            "grid_auto_flow": null,
            "grid_auto_rows": null,
            "grid_column": null,
            "grid_gap": null,
            "grid_row": null,
            "grid_template_areas": null,
            "grid_template_columns": null,
            "grid_template_rows": null,
            "height": null,
            "justify_content": null,
            "justify_items": null,
            "left": null,
            "margin": null,
            "max_height": null,
            "max_width": null,
            "min_height": null,
            "min_width": null,
            "object_fit": null,
            "object_position": null,
            "order": null,
            "overflow": null,
            "overflow_x": null,
            "overflow_y": null,
            "padding": null,
            "right": null,
            "top": null,
            "visibility": null,
            "width": null
          }
        },
        "1a08c71192c54cbea074988dcb856735": {
          "model_module": "@jupyter-widgets/controls",
          "model_name": "ProgressStyleModel",
          "model_module_version": "1.5.0",
          "state": {
            "_model_module": "@jupyter-widgets/controls",
            "_model_module_version": "1.5.0",
            "_model_name": "ProgressStyleModel",
            "_view_count": null,
            "_view_module": "@jupyter-widgets/base",
            "_view_module_version": "1.2.0",
            "_view_name": "StyleView",
            "bar_color": null,
            "description_width": ""
          }
        },
        "104de02c13ef463c8924dfa44379e167": {
          "model_module": "@jupyter-widgets/base",
          "model_name": "LayoutModel",
          "model_module_version": "1.2.0",
          "state": {
            "_model_module": "@jupyter-widgets/base",
            "_model_module_version": "1.2.0",
            "_model_name": "LayoutModel",
            "_view_count": null,
            "_view_module": "@jupyter-widgets/base",
            "_view_module_version": "1.2.0",
            "_view_name": "LayoutView",
            "align_content": null,
            "align_items": null,
            "align_self": null,
            "border": null,
            "bottom": null,
            "display": null,
            "flex": null,
            "flex_flow": null,
            "grid_area": null,
            "grid_auto_columns": null,
            "grid_auto_flow": null,
            "grid_auto_rows": null,
            "grid_column": null,
            "grid_gap": null,
            "grid_row": null,
            "grid_template_areas": null,
            "grid_template_columns": null,
            "grid_template_rows": null,
            "height": null,
            "justify_content": null,
            "justify_items": null,
            "left": null,
            "margin": null,
            "max_height": null,
            "max_width": null,
            "min_height": null,
            "min_width": null,
            "object_fit": null,
            "object_position": null,
            "order": null,
            "overflow": null,
            "overflow_x": null,
            "overflow_y": null,
            "padding": null,
            "right": null,
            "top": null,
            "visibility": null,
            "width": null
          }
        },
        "33048a7fbb594317aa7c3740db352cfa": {
          "model_module": "@jupyter-widgets/controls",
          "model_name": "DescriptionStyleModel",
          "model_module_version": "1.5.0",
          "state": {
            "_model_module": "@jupyter-widgets/controls",
            "_model_module_version": "1.5.0",
            "_model_name": "DescriptionStyleModel",
            "_view_count": null,
            "_view_module": "@jupyter-widgets/base",
            "_view_module_version": "1.2.0",
            "_view_name": "StyleView",
            "description_width": ""
          }
        },
        "60fa2cec2c414da6a28c8bbb9abccc5d": {
          "model_module": "@jupyter-widgets/controls",
          "model_name": "HBoxModel",
          "model_module_version": "1.5.0",
          "state": {
            "_dom_classes": [],
            "_model_module": "@jupyter-widgets/controls",
            "_model_module_version": "1.5.0",
            "_model_name": "HBoxModel",
            "_view_count": null,
            "_view_module": "@jupyter-widgets/controls",
            "_view_module_version": "1.5.0",
            "_view_name": "HBoxView",
            "box_style": "",
            "children": [
              "IPY_MODEL_f0e2ac88504041b081645614c38a45d2",
              "IPY_MODEL_3c72bb4a64ca485899b7721244d976a9",
              "IPY_MODEL_7c4177d9138d4238a9ddf60329ee2b29"
            ],
            "layout": "IPY_MODEL_207ddd1979ca483284472f1642517c62"
          }
        },
        "f0e2ac88504041b081645614c38a45d2": {
          "model_module": "@jupyter-widgets/controls",
          "model_name": "HTMLModel",
          "model_module_version": "1.5.0",
          "state": {
            "_dom_classes": [],
            "_model_module": "@jupyter-widgets/controls",
            "_model_module_version": "1.5.0",
            "_model_name": "HTMLModel",
            "_view_count": null,
            "_view_module": "@jupyter-widgets/controls",
            "_view_module_version": "1.5.0",
            "_view_name": "HTMLView",
            "description": "",
            "description_tooltip": null,
            "layout": "IPY_MODEL_9bc7ade4a5f24c35aed5d7d5ed5b7f31",
            "placeholder": "​",
            "style": "IPY_MODEL_31d0361736774261adb0652663e03b68",
            "value": "vocab.txt: 100%"
          }
        },
        "3c72bb4a64ca485899b7721244d976a9": {
          "model_module": "@jupyter-widgets/controls",
          "model_name": "FloatProgressModel",
          "model_module_version": "1.5.0",
          "state": {
            "_dom_classes": [],
            "_model_module": "@jupyter-widgets/controls",
            "_model_module_version": "1.5.0",
            "_model_name": "FloatProgressModel",
            "_view_count": null,
            "_view_module": "@jupyter-widgets/controls",
            "_view_module_version": "1.5.0",
            "_view_name": "ProgressView",
            "bar_style": "success",
            "description": "",
            "description_tooltip": null,
            "layout": "IPY_MODEL_8057e999f6ce49fdaa484debdc1730f2",
            "max": 231508,
            "min": 0,
            "orientation": "horizontal",
            "style": "IPY_MODEL_6f3b6940e2d14779ab372720d462f55f",
            "value": 231508
          }
        },
        "7c4177d9138d4238a9ddf60329ee2b29": {
          "model_module": "@jupyter-widgets/controls",
          "model_name": "HTMLModel",
          "model_module_version": "1.5.0",
          "state": {
            "_dom_classes": [],
            "_model_module": "@jupyter-widgets/controls",
            "_model_module_version": "1.5.0",
            "_model_name": "HTMLModel",
            "_view_count": null,
            "_view_module": "@jupyter-widgets/controls",
            "_view_module_version": "1.5.0",
            "_view_name": "HTMLView",
            "description": "",
            "description_tooltip": null,
            "layout": "IPY_MODEL_90fd6491d30f489ca20b3524e8b0777c",
            "placeholder": "​",
            "style": "IPY_MODEL_67145388646c41f0834b93404c2a09b7",
            "value": " 232k/232k [00:00&lt;00:00, 10.8MB/s]"
          }
        },
        "207ddd1979ca483284472f1642517c62": {
          "model_module": "@jupyter-widgets/base",
          "model_name": "LayoutModel",
          "model_module_version": "1.2.0",
          "state": {
            "_model_module": "@jupyter-widgets/base",
            "_model_module_version": "1.2.0",
            "_model_name": "LayoutModel",
            "_view_count": null,
            "_view_module": "@jupyter-widgets/base",
            "_view_module_version": "1.2.0",
            "_view_name": "LayoutView",
            "align_content": null,
            "align_items": null,
            "align_self": null,
            "border": null,
            "bottom": null,
            "display": null,
            "flex": null,
            "flex_flow": null,
            "grid_area": null,
            "grid_auto_columns": null,
            "grid_auto_flow": null,
            "grid_auto_rows": null,
            "grid_column": null,
            "grid_gap": null,
            "grid_row": null,
            "grid_template_areas": null,
            "grid_template_columns": null,
            "grid_template_rows": null,
            "height": null,
            "justify_content": null,
            "justify_items": null,
            "left": null,
            "margin": null,
            "max_height": null,
            "max_width": null,
            "min_height": null,
            "min_width": null,
            "object_fit": null,
            "object_position": null,
            "order": null,
            "overflow": null,
            "overflow_x": null,
            "overflow_y": null,
            "padding": null,
            "right": null,
            "top": null,
            "visibility": null,
            "width": null
          }
        },
        "9bc7ade4a5f24c35aed5d7d5ed5b7f31": {
          "model_module": "@jupyter-widgets/base",
          "model_name": "LayoutModel",
          "model_module_version": "1.2.0",
          "state": {
            "_model_module": "@jupyter-widgets/base",
            "_model_module_version": "1.2.0",
            "_model_name": "LayoutModel",
            "_view_count": null,
            "_view_module": "@jupyter-widgets/base",
            "_view_module_version": "1.2.0",
            "_view_name": "LayoutView",
            "align_content": null,
            "align_items": null,
            "align_self": null,
            "border": null,
            "bottom": null,
            "display": null,
            "flex": null,
            "flex_flow": null,
            "grid_area": null,
            "grid_auto_columns": null,
            "grid_auto_flow": null,
            "grid_auto_rows": null,
            "grid_column": null,
            "grid_gap": null,
            "grid_row": null,
            "grid_template_areas": null,
            "grid_template_columns": null,
            "grid_template_rows": null,
            "height": null,
            "justify_content": null,
            "justify_items": null,
            "left": null,
            "margin": null,
            "max_height": null,
            "max_width": null,
            "min_height": null,
            "min_width": null,
            "object_fit": null,
            "object_position": null,
            "order": null,
            "overflow": null,
            "overflow_x": null,
            "overflow_y": null,
            "padding": null,
            "right": null,
            "top": null,
            "visibility": null,
            "width": null
          }
        },
        "31d0361736774261adb0652663e03b68": {
          "model_module": "@jupyter-widgets/controls",
          "model_name": "DescriptionStyleModel",
          "model_module_version": "1.5.0",
          "state": {
            "_model_module": "@jupyter-widgets/controls",
            "_model_module_version": "1.5.0",
            "_model_name": "DescriptionStyleModel",
            "_view_count": null,
            "_view_module": "@jupyter-widgets/base",
            "_view_module_version": "1.2.0",
            "_view_name": "StyleView",
            "description_width": ""
          }
        },
        "8057e999f6ce49fdaa484debdc1730f2": {
          "model_module": "@jupyter-widgets/base",
          "model_name": "LayoutModel",
          "model_module_version": "1.2.0",
          "state": {
            "_model_module": "@jupyter-widgets/base",
            "_model_module_version": "1.2.0",
            "_model_name": "LayoutModel",
            "_view_count": null,
            "_view_module": "@jupyter-widgets/base",
            "_view_module_version": "1.2.0",
            "_view_name": "LayoutView",
            "align_content": null,
            "align_items": null,
            "align_self": null,
            "border": null,
            "bottom": null,
            "display": null,
            "flex": null,
            "flex_flow": null,
            "grid_area": null,
            "grid_auto_columns": null,
            "grid_auto_flow": null,
            "grid_auto_rows": null,
            "grid_column": null,
            "grid_gap": null,
            "grid_row": null,
            "grid_template_areas": null,
            "grid_template_columns": null,
            "grid_template_rows": null,
            "height": null,
            "justify_content": null,
            "justify_items": null,
            "left": null,
            "margin": null,
            "max_height": null,
            "max_width": null,
            "min_height": null,
            "min_width": null,
            "object_fit": null,
            "object_position": null,
            "order": null,
            "overflow": null,
            "overflow_x": null,
            "overflow_y": null,
            "padding": null,
            "right": null,
            "top": null,
            "visibility": null,
            "width": null
          }
        },
        "6f3b6940e2d14779ab372720d462f55f": {
          "model_module": "@jupyter-widgets/controls",
          "model_name": "ProgressStyleModel",
          "model_module_version": "1.5.0",
          "state": {
            "_model_module": "@jupyter-widgets/controls",
            "_model_module_version": "1.5.0",
            "_model_name": "ProgressStyleModel",
            "_view_count": null,
            "_view_module": "@jupyter-widgets/base",
            "_view_module_version": "1.2.0",
            "_view_name": "StyleView",
            "bar_color": null,
            "description_width": ""
          }
        },
        "90fd6491d30f489ca20b3524e8b0777c": {
          "model_module": "@jupyter-widgets/base",
          "model_name": "LayoutModel",
          "model_module_version": "1.2.0",
          "state": {
            "_model_module": "@jupyter-widgets/base",
            "_model_module_version": "1.2.0",
            "_model_name": "LayoutModel",
            "_view_count": null,
            "_view_module": "@jupyter-widgets/base",
            "_view_module_version": "1.2.0",
            "_view_name": "LayoutView",
            "align_content": null,
            "align_items": null,
            "align_self": null,
            "border": null,
            "bottom": null,
            "display": null,
            "flex": null,
            "flex_flow": null,
            "grid_area": null,
            "grid_auto_columns": null,
            "grid_auto_flow": null,
            "grid_auto_rows": null,
            "grid_column": null,
            "grid_gap": null,
            "grid_row": null,
            "grid_template_areas": null,
            "grid_template_columns": null,
            "grid_template_rows": null,
            "height": null,
            "justify_content": null,
            "justify_items": null,
            "left": null,
            "margin": null,
            "max_height": null,
            "max_width": null,
            "min_height": null,
            "min_width": null,
            "object_fit": null,
            "object_position": null,
            "order": null,
            "overflow": null,
            "overflow_x": null,
            "overflow_y": null,
            "padding": null,
            "right": null,
            "top": null,
            "visibility": null,
            "width": null
          }
        },
        "67145388646c41f0834b93404c2a09b7": {
          "model_module": "@jupyter-widgets/controls",
          "model_name": "DescriptionStyleModel",
          "model_module_version": "1.5.0",
          "state": {
            "_model_module": "@jupyter-widgets/controls",
            "_model_module_version": "1.5.0",
            "_model_name": "DescriptionStyleModel",
            "_view_count": null,
            "_view_module": "@jupyter-widgets/base",
            "_view_module_version": "1.2.0",
            "_view_name": "StyleView",
            "description_width": ""
          }
        },
        "ac592e245807403db6a0c811001e2b5b": {
          "model_module": "@jupyter-widgets/controls",
          "model_name": "HBoxModel",
          "model_module_version": "1.5.0",
          "state": {
            "_dom_classes": [],
            "_model_module": "@jupyter-widgets/controls",
            "_model_module_version": "1.5.0",
            "_model_name": "HBoxModel",
            "_view_count": null,
            "_view_module": "@jupyter-widgets/controls",
            "_view_module_version": "1.5.0",
            "_view_name": "HBoxView",
            "box_style": "",
            "children": [
              "IPY_MODEL_cbbf25ec4396481cb7df2c37a838d053",
              "IPY_MODEL_3965f42d2f884228810d87b449538741",
              "IPY_MODEL_cd36172f05ac45fc88e64019a0829436"
            ],
            "layout": "IPY_MODEL_835a9c60f4be46bf9a42483c80477ce3"
          }
        },
        "cbbf25ec4396481cb7df2c37a838d053": {
          "model_module": "@jupyter-widgets/controls",
          "model_name": "HTMLModel",
          "model_module_version": "1.5.0",
          "state": {
            "_dom_classes": [],
            "_model_module": "@jupyter-widgets/controls",
            "_model_module_version": "1.5.0",
            "_model_name": "HTMLModel",
            "_view_count": null,
            "_view_module": "@jupyter-widgets/controls",
            "_view_module_version": "1.5.0",
            "_view_name": "HTMLView",
            "description": "",
            "description_tooltip": null,
            "layout": "IPY_MODEL_bfde09d58858490ca298d0ad82a05eff",
            "placeholder": "​",
            "style": "IPY_MODEL_7c9ade7eaa0848ecbfa1dea658844219",
            "value": "tokenizer.json: 100%"
          }
        },
        "3965f42d2f884228810d87b449538741": {
          "model_module": "@jupyter-widgets/controls",
          "model_name": "FloatProgressModel",
          "model_module_version": "1.5.0",
          "state": {
            "_dom_classes": [],
            "_model_module": "@jupyter-widgets/controls",
            "_model_module_version": "1.5.0",
            "_model_name": "FloatProgressModel",
            "_view_count": null,
            "_view_module": "@jupyter-widgets/controls",
            "_view_module_version": "1.5.0",
            "_view_name": "ProgressView",
            "bar_style": "success",
            "description": "",
            "description_tooltip": null,
            "layout": "IPY_MODEL_fcecfd9be3cd42b28741b1984e389916",
            "max": 466247,
            "min": 0,
            "orientation": "horizontal",
            "style": "IPY_MODEL_bbfea92dd9a84642a238336358859d6a",
            "value": 466247
          }
        },
        "cd36172f05ac45fc88e64019a0829436": {
          "model_module": "@jupyter-widgets/controls",
          "model_name": "HTMLModel",
          "model_module_version": "1.5.0",
          "state": {
            "_dom_classes": [],
            "_model_module": "@jupyter-widgets/controls",
            "_model_module_version": "1.5.0",
            "_model_name": "HTMLModel",
            "_view_count": null,
            "_view_module": "@jupyter-widgets/controls",
            "_view_module_version": "1.5.0",
            "_view_name": "HTMLView",
            "description": "",
            "description_tooltip": null,
            "layout": "IPY_MODEL_18995366e49544e28c6ecdc6242dab91",
            "placeholder": "​",
            "style": "IPY_MODEL_bd5be7b365c341edbc4c258347db40cf",
            "value": " 466k/466k [00:00&lt;00:00, 3.14MB/s]"
          }
        },
        "835a9c60f4be46bf9a42483c80477ce3": {
          "model_module": "@jupyter-widgets/base",
          "model_name": "LayoutModel",
          "model_module_version": "1.2.0",
          "state": {
            "_model_module": "@jupyter-widgets/base",
            "_model_module_version": "1.2.0",
            "_model_name": "LayoutModel",
            "_view_count": null,
            "_view_module": "@jupyter-widgets/base",
            "_view_module_version": "1.2.0",
            "_view_name": "LayoutView",
            "align_content": null,
            "align_items": null,
            "align_self": null,
            "border": null,
            "bottom": null,
            "display": null,
            "flex": null,
            "flex_flow": null,
            "grid_area": null,
            "grid_auto_columns": null,
            "grid_auto_flow": null,
            "grid_auto_rows": null,
            "grid_column": null,
            "grid_gap": null,
            "grid_row": null,
            "grid_template_areas": null,
            "grid_template_columns": null,
            "grid_template_rows": null,
            "height": null,
            "justify_content": null,
            "justify_items": null,
            "left": null,
            "margin": null,
            "max_height": null,
            "max_width": null,
            "min_height": null,
            "min_width": null,
            "object_fit": null,
            "object_position": null,
            "order": null,
            "overflow": null,
            "overflow_x": null,
            "overflow_y": null,
            "padding": null,
            "right": null,
            "top": null,
            "visibility": null,
            "width": null
          }
        },
        "bfde09d58858490ca298d0ad82a05eff": {
          "model_module": "@jupyter-widgets/base",
          "model_name": "LayoutModel",
          "model_module_version": "1.2.0",
          "state": {
            "_model_module": "@jupyter-widgets/base",
            "_model_module_version": "1.2.0",
            "_model_name": "LayoutModel",
            "_view_count": null,
            "_view_module": "@jupyter-widgets/base",
            "_view_module_version": "1.2.0",
            "_view_name": "LayoutView",
            "align_content": null,
            "align_items": null,
            "align_self": null,
            "border": null,
            "bottom": null,
            "display": null,
            "flex": null,
            "flex_flow": null,
            "grid_area": null,
            "grid_auto_columns": null,
            "grid_auto_flow": null,
            "grid_auto_rows": null,
            "grid_column": null,
            "grid_gap": null,
            "grid_row": null,
            "grid_template_areas": null,
            "grid_template_columns": null,
            "grid_template_rows": null,
            "height": null,
            "justify_content": null,
            "justify_items": null,
            "left": null,
            "margin": null,
            "max_height": null,
            "max_width": null,
            "min_height": null,
            "min_width": null,
            "object_fit": null,
            "object_position": null,
            "order": null,
            "overflow": null,
            "overflow_x": null,
            "overflow_y": null,
            "padding": null,
            "right": null,
            "top": null,
            "visibility": null,
            "width": null
          }
        },
        "7c9ade7eaa0848ecbfa1dea658844219": {
          "model_module": "@jupyter-widgets/controls",
          "model_name": "DescriptionStyleModel",
          "model_module_version": "1.5.0",
          "state": {
            "_model_module": "@jupyter-widgets/controls",
            "_model_module_version": "1.5.0",
            "_model_name": "DescriptionStyleModel",
            "_view_count": null,
            "_view_module": "@jupyter-widgets/base",
            "_view_module_version": "1.2.0",
            "_view_name": "StyleView",
            "description_width": ""
          }
        },
        "fcecfd9be3cd42b28741b1984e389916": {
          "model_module": "@jupyter-widgets/base",
          "model_name": "LayoutModel",
          "model_module_version": "1.2.0",
          "state": {
            "_model_module": "@jupyter-widgets/base",
            "_model_module_version": "1.2.0",
            "_model_name": "LayoutModel",
            "_view_count": null,
            "_view_module": "@jupyter-widgets/base",
            "_view_module_version": "1.2.0",
            "_view_name": "LayoutView",
            "align_content": null,
            "align_items": null,
            "align_self": null,
            "border": null,
            "bottom": null,
            "display": null,
            "flex": null,
            "flex_flow": null,
            "grid_area": null,
            "grid_auto_columns": null,
            "grid_auto_flow": null,
            "grid_auto_rows": null,
            "grid_column": null,
            "grid_gap": null,
            "grid_row": null,
            "grid_template_areas": null,
            "grid_template_columns": null,
            "grid_template_rows": null,
            "height": null,
            "justify_content": null,
            "justify_items": null,
            "left": null,
            "margin": null,
            "max_height": null,
            "max_width": null,
            "min_height": null,
            "min_width": null,
            "object_fit": null,
            "object_position": null,
            "order": null,
            "overflow": null,
            "overflow_x": null,
            "overflow_y": null,
            "padding": null,
            "right": null,
            "top": null,
            "visibility": null,
            "width": null
          }
        },
        "bbfea92dd9a84642a238336358859d6a": {
          "model_module": "@jupyter-widgets/controls",
          "model_name": "ProgressStyleModel",
          "model_module_version": "1.5.0",
          "state": {
            "_model_module": "@jupyter-widgets/controls",
            "_model_module_version": "1.5.0",
            "_model_name": "ProgressStyleModel",
            "_view_count": null,
            "_view_module": "@jupyter-widgets/base",
            "_view_module_version": "1.2.0",
            "_view_name": "StyleView",
            "bar_color": null,
            "description_width": ""
          }
        },
        "18995366e49544e28c6ecdc6242dab91": {
          "model_module": "@jupyter-widgets/base",
          "model_name": "LayoutModel",
          "model_module_version": "1.2.0",
          "state": {
            "_model_module": "@jupyter-widgets/base",
            "_model_module_version": "1.2.0",
            "_model_name": "LayoutModel",
            "_view_count": null,
            "_view_module": "@jupyter-widgets/base",
            "_view_module_version": "1.2.0",
            "_view_name": "LayoutView",
            "align_content": null,
            "align_items": null,
            "align_self": null,
            "border": null,
            "bottom": null,
            "display": null,
            "flex": null,
            "flex_flow": null,
            "grid_area": null,
            "grid_auto_columns": null,
            "grid_auto_flow": null,
            "grid_auto_rows": null,
            "grid_column": null,
            "grid_gap": null,
            "grid_row": null,
            "grid_template_areas": null,
            "grid_template_columns": null,
            "grid_template_rows": null,
            "height": null,
            "justify_content": null,
            "justify_items": null,
            "left": null,
            "margin": null,
            "max_height": null,
            "max_width": null,
            "min_height": null,
            "min_width": null,
            "object_fit": null,
            "object_position": null,
            "order": null,
            "overflow": null,
            "overflow_x": null,
            "overflow_y": null,
            "padding": null,
            "right": null,
            "top": null,
            "visibility": null,
            "width": null
          }
        },
        "bd5be7b365c341edbc4c258347db40cf": {
          "model_module": "@jupyter-widgets/controls",
          "model_name": "DescriptionStyleModel",
          "model_module_version": "1.5.0",
          "state": {
            "_model_module": "@jupyter-widgets/controls",
            "_model_module_version": "1.5.0",
            "_model_name": "DescriptionStyleModel",
            "_view_count": null,
            "_view_module": "@jupyter-widgets/base",
            "_view_module_version": "1.2.0",
            "_view_name": "StyleView",
            "description_width": ""
          }
        },
        "9b8fbffa09dd45e084c9bad170576655": {
          "model_module": "@jupyter-widgets/controls",
          "model_name": "HBoxModel",
          "model_module_version": "1.5.0",
          "state": {
            "_dom_classes": [],
            "_model_module": "@jupyter-widgets/controls",
            "_model_module_version": "1.5.0",
            "_model_name": "HBoxModel",
            "_view_count": null,
            "_view_module": "@jupyter-widgets/controls",
            "_view_module_version": "1.5.0",
            "_view_name": "HBoxView",
            "box_style": "",
            "children": [
              "IPY_MODEL_728a3e9ec5be430dbc3bcd6887a123be",
              "IPY_MODEL_d2364651a7cf4fad8d459a1d8e11558d",
              "IPY_MODEL_630b4e113e804d35b7ec8d9cd3744a58"
            ],
            "layout": "IPY_MODEL_5a1e6599844c44339049990e4cd94137"
          }
        },
        "728a3e9ec5be430dbc3bcd6887a123be": {
          "model_module": "@jupyter-widgets/controls",
          "model_name": "HTMLModel",
          "model_module_version": "1.5.0",
          "state": {
            "_dom_classes": [],
            "_model_module": "@jupyter-widgets/controls",
            "_model_module_version": "1.5.0",
            "_model_name": "HTMLModel",
            "_view_count": null,
            "_view_module": "@jupyter-widgets/controls",
            "_view_module_version": "1.5.0",
            "_view_name": "HTMLView",
            "description": "",
            "description_tooltip": null,
            "layout": "IPY_MODEL_52d7e7967f464913857c846b04b5cf4d",
            "placeholder": "​",
            "style": "IPY_MODEL_16a42e4d2e844bf6a531241edfe89fd0",
            "value": "special_tokens_map.json: 100%"
          }
        },
        "d2364651a7cf4fad8d459a1d8e11558d": {
          "model_module": "@jupyter-widgets/controls",
          "model_name": "FloatProgressModel",
          "model_module_version": "1.5.0",
          "state": {
            "_dom_classes": [],
            "_model_module": "@jupyter-widgets/controls",
            "_model_module_version": "1.5.0",
            "_model_name": "FloatProgressModel",
            "_view_count": null,
            "_view_module": "@jupyter-widgets/controls",
            "_view_module_version": "1.5.0",
            "_view_name": "ProgressView",
            "bar_style": "success",
            "description": "",
            "description_tooltip": null,
            "layout": "IPY_MODEL_3cb186845c2c4a6588005b8fc9b2d5c8",
            "max": 112,
            "min": 0,
            "orientation": "horizontal",
            "style": "IPY_MODEL_69708515248741aa99015504e8f251c1",
            "value": 112
          }
        },
        "630b4e113e804d35b7ec8d9cd3744a58": {
          "model_module": "@jupyter-widgets/controls",
          "model_name": "HTMLModel",
          "model_module_version": "1.5.0",
          "state": {
            "_dom_classes": [],
            "_model_module": "@jupyter-widgets/controls",
            "_model_module_version": "1.5.0",
            "_model_name": "HTMLModel",
            "_view_count": null,
            "_view_module": "@jupyter-widgets/controls",
            "_view_module_version": "1.5.0",
            "_view_name": "HTMLView",
            "description": "",
            "description_tooltip": null,
            "layout": "IPY_MODEL_98bd2f7e0c2e4bb48f9132ac49312d78",
            "placeholder": "​",
            "style": "IPY_MODEL_c46462f22c44443a81638db5e2fc6289",
            "value": " 112/112 [00:00&lt;00:00, 8.69kB/s]"
          }
        },
        "5a1e6599844c44339049990e4cd94137": {
          "model_module": "@jupyter-widgets/base",
          "model_name": "LayoutModel",
          "model_module_version": "1.2.0",
          "state": {
            "_model_module": "@jupyter-widgets/base",
            "_model_module_version": "1.2.0",
            "_model_name": "LayoutModel",
            "_view_count": null,
            "_view_module": "@jupyter-widgets/base",
            "_view_module_version": "1.2.0",
            "_view_name": "LayoutView",
            "align_content": null,
            "align_items": null,
            "align_self": null,
            "border": null,
            "bottom": null,
            "display": null,
            "flex": null,
            "flex_flow": null,
            "grid_area": null,
            "grid_auto_columns": null,
            "grid_auto_flow": null,
            "grid_auto_rows": null,
            "grid_column": null,
            "grid_gap": null,
            "grid_row": null,
            "grid_template_areas": null,
            "grid_template_columns": null,
            "grid_template_rows": null,
            "height": null,
            "justify_content": null,
            "justify_items": null,
            "left": null,
            "margin": null,
            "max_height": null,
            "max_width": null,
            "min_height": null,
            "min_width": null,
            "object_fit": null,
            "object_position": null,
            "order": null,
            "overflow": null,
            "overflow_x": null,
            "overflow_y": null,
            "padding": null,
            "right": null,
            "top": null,
            "visibility": null,
            "width": null
          }
        },
        "52d7e7967f464913857c846b04b5cf4d": {
          "model_module": "@jupyter-widgets/base",
          "model_name": "LayoutModel",
          "model_module_version": "1.2.0",
          "state": {
            "_model_module": "@jupyter-widgets/base",
            "_model_module_version": "1.2.0",
            "_model_name": "LayoutModel",
            "_view_count": null,
            "_view_module": "@jupyter-widgets/base",
            "_view_module_version": "1.2.0",
            "_view_name": "LayoutView",
            "align_content": null,
            "align_items": null,
            "align_self": null,
            "border": null,
            "bottom": null,
            "display": null,
            "flex": null,
            "flex_flow": null,
            "grid_area": null,
            "grid_auto_columns": null,
            "grid_auto_flow": null,
            "grid_auto_rows": null,
            "grid_column": null,
            "grid_gap": null,
            "grid_row": null,
            "grid_template_areas": null,
            "grid_template_columns": null,
            "grid_template_rows": null,
            "height": null,
            "justify_content": null,
            "justify_items": null,
            "left": null,
            "margin": null,
            "max_height": null,
            "max_width": null,
            "min_height": null,
            "min_width": null,
            "object_fit": null,
            "object_position": null,
            "order": null,
            "overflow": null,
            "overflow_x": null,
            "overflow_y": null,
            "padding": null,
            "right": null,
            "top": null,
            "visibility": null,
            "width": null
          }
        },
        "16a42e4d2e844bf6a531241edfe89fd0": {
          "model_module": "@jupyter-widgets/controls",
          "model_name": "DescriptionStyleModel",
          "model_module_version": "1.5.0",
          "state": {
            "_model_module": "@jupyter-widgets/controls",
            "_model_module_version": "1.5.0",
            "_model_name": "DescriptionStyleModel",
            "_view_count": null,
            "_view_module": "@jupyter-widgets/base",
            "_view_module_version": "1.2.0",
            "_view_name": "StyleView",
            "description_width": ""
          }
        },
        "3cb186845c2c4a6588005b8fc9b2d5c8": {
          "model_module": "@jupyter-widgets/base",
          "model_name": "LayoutModel",
          "model_module_version": "1.2.0",
          "state": {
            "_model_module": "@jupyter-widgets/base",
            "_model_module_version": "1.2.0",
            "_model_name": "LayoutModel",
            "_view_count": null,
            "_view_module": "@jupyter-widgets/base",
            "_view_module_version": "1.2.0",
            "_view_name": "LayoutView",
            "align_content": null,
            "align_items": null,
            "align_self": null,
            "border": null,
            "bottom": null,
            "display": null,
            "flex": null,
            "flex_flow": null,
            "grid_area": null,
            "grid_auto_columns": null,
            "grid_auto_flow": null,
            "grid_auto_rows": null,
            "grid_column": null,
            "grid_gap": null,
            "grid_row": null,
            "grid_template_areas": null,
            "grid_template_columns": null,
            "grid_template_rows": null,
            "height": null,
            "justify_content": null,
            "justify_items": null,
            "left": null,
            "margin": null,
            "max_height": null,
            "max_width": null,
            "min_height": null,
            "min_width": null,
            "object_fit": null,
            "object_position": null,
            "order": null,
            "overflow": null,
            "overflow_x": null,
            "overflow_y": null,
            "padding": null,
            "right": null,
            "top": null,
            "visibility": null,
            "width": null
          }
        },
        "69708515248741aa99015504e8f251c1": {
          "model_module": "@jupyter-widgets/controls",
          "model_name": "ProgressStyleModel",
          "model_module_version": "1.5.0",
          "state": {
            "_model_module": "@jupyter-widgets/controls",
            "_model_module_version": "1.5.0",
            "_model_name": "ProgressStyleModel",
            "_view_count": null,
            "_view_module": "@jupyter-widgets/base",
            "_view_module_version": "1.2.0",
            "_view_name": "StyleView",
            "bar_color": null,
            "description_width": ""
          }
        },
        "98bd2f7e0c2e4bb48f9132ac49312d78": {
          "model_module": "@jupyter-widgets/base",
          "model_name": "LayoutModel",
          "model_module_version": "1.2.0",
          "state": {
            "_model_module": "@jupyter-widgets/base",
            "_model_module_version": "1.2.0",
            "_model_name": "LayoutModel",
            "_view_count": null,
            "_view_module": "@jupyter-widgets/base",
            "_view_module_version": "1.2.0",
            "_view_name": "LayoutView",
            "align_content": null,
            "align_items": null,
            "align_self": null,
            "border": null,
            "bottom": null,
            "display": null,
            "flex": null,
            "flex_flow": null,
            "grid_area": null,
            "grid_auto_columns": null,
            "grid_auto_flow": null,
            "grid_auto_rows": null,
            "grid_column": null,
            "grid_gap": null,
            "grid_row": null,
            "grid_template_areas": null,
            "grid_template_columns": null,
            "grid_template_rows": null,
            "height": null,
            "justify_content": null,
            "justify_items": null,
            "left": null,
            "margin": null,
            "max_height": null,
            "max_width": null,
            "min_height": null,
            "min_width": null,
            "object_fit": null,
            "object_position": null,
            "order": null,
            "overflow": null,
            "overflow_x": null,
            "overflow_y": null,
            "padding": null,
            "right": null,
            "top": null,
            "visibility": null,
            "width": null
          }
        },
        "c46462f22c44443a81638db5e2fc6289": {
          "model_module": "@jupyter-widgets/controls",
          "model_name": "DescriptionStyleModel",
          "model_module_version": "1.5.0",
          "state": {
            "_model_module": "@jupyter-widgets/controls",
            "_model_module_version": "1.5.0",
            "_model_name": "DescriptionStyleModel",
            "_view_count": null,
            "_view_module": "@jupyter-widgets/base",
            "_view_module_version": "1.2.0",
            "_view_name": "StyleView",
            "description_width": ""
          }
        },
        "604bc91a0fb04a1ab1cf59f57e145ea0": {
          "model_module": "@jupyter-widgets/controls",
          "model_name": "HBoxModel",
          "model_module_version": "1.5.0",
          "state": {
            "_dom_classes": [],
            "_model_module": "@jupyter-widgets/controls",
            "_model_module_version": "1.5.0",
            "_model_name": "HBoxModel",
            "_view_count": null,
            "_view_module": "@jupyter-widgets/controls",
            "_view_module_version": "1.5.0",
            "_view_name": "HBoxView",
            "box_style": "",
            "children": [
              "IPY_MODEL_9dfc232bee7d4b3d9d15bb4650249e2f",
              "IPY_MODEL_3546bb0522874cf985837162c6415c21",
              "IPY_MODEL_8acc15ca079a43a6b38e6d6f7eca3a2d"
            ],
            "layout": "IPY_MODEL_cf4ebbe8f40f4427aadd2176298734ab"
          }
        },
        "9dfc232bee7d4b3d9d15bb4650249e2f": {
          "model_module": "@jupyter-widgets/controls",
          "model_name": "HTMLModel",
          "model_module_version": "1.5.0",
          "state": {
            "_dom_classes": [],
            "_model_module": "@jupyter-widgets/controls",
            "_model_module_version": "1.5.0",
            "_model_name": "HTMLModel",
            "_view_count": null,
            "_view_module": "@jupyter-widgets/controls",
            "_view_module_version": "1.5.0",
            "_view_name": "HTMLView",
            "description": "",
            "description_tooltip": null,
            "layout": "IPY_MODEL_42df7a8fde5442f2b2745d5b88fa72b6",
            "placeholder": "​",
            "style": "IPY_MODEL_834bb7aa505846dda744129235833209",
            "value": "config.json: 100%"
          }
        },
        "3546bb0522874cf985837162c6415c21": {
          "model_module": "@jupyter-widgets/controls",
          "model_name": "FloatProgressModel",
          "model_module_version": "1.5.0",
          "state": {
            "_dom_classes": [],
            "_model_module": "@jupyter-widgets/controls",
            "_model_module_version": "1.5.0",
            "_model_name": "FloatProgressModel",
            "_view_count": null,
            "_view_module": "@jupyter-widgets/controls",
            "_view_module_version": "1.5.0",
            "_view_name": "ProgressView",
            "bar_style": "success",
            "description": "",
            "description_tooltip": null,
            "layout": "IPY_MODEL_11942ac1afb84f069c82a8f5f1882179",
            "max": 190,
            "min": 0,
            "orientation": "horizontal",
            "style": "IPY_MODEL_1c478b1af9804caeb64674bf310c4b53",
            "value": 190
          }
        },
        "8acc15ca079a43a6b38e6d6f7eca3a2d": {
          "model_module": "@jupyter-widgets/controls",
          "model_name": "HTMLModel",
          "model_module_version": "1.5.0",
          "state": {
            "_dom_classes": [],
            "_model_module": "@jupyter-widgets/controls",
            "_model_module_version": "1.5.0",
            "_model_name": "HTMLModel",
            "_view_count": null,
            "_view_module": "@jupyter-widgets/controls",
            "_view_module_version": "1.5.0",
            "_view_name": "HTMLView",
            "description": "",
            "description_tooltip": null,
            "layout": "IPY_MODEL_c5d5c0832c944062a15ac1a8c81e9818",
            "placeholder": "​",
            "style": "IPY_MODEL_e3b329e4713f40a0967f1bba404dbd55",
            "value": " 190/190 [00:00&lt;00:00, 11.0kB/s]"
          }
        },
        "cf4ebbe8f40f4427aadd2176298734ab": {
          "model_module": "@jupyter-widgets/base",
          "model_name": "LayoutModel",
          "model_module_version": "1.2.0",
          "state": {
            "_model_module": "@jupyter-widgets/base",
            "_model_module_version": "1.2.0",
            "_model_name": "LayoutModel",
            "_view_count": null,
            "_view_module": "@jupyter-widgets/base",
            "_view_module_version": "1.2.0",
            "_view_name": "LayoutView",
            "align_content": null,
            "align_items": null,
            "align_self": null,
            "border": null,
            "bottom": null,
            "display": null,
            "flex": null,
            "flex_flow": null,
            "grid_area": null,
            "grid_auto_columns": null,
            "grid_auto_flow": null,
            "grid_auto_rows": null,
            "grid_column": null,
            "grid_gap": null,
            "grid_row": null,
            "grid_template_areas": null,
            "grid_template_columns": null,
            "grid_template_rows": null,
            "height": null,
            "justify_content": null,
            "justify_items": null,
            "left": null,
            "margin": null,
            "max_height": null,
            "max_width": null,
            "min_height": null,
            "min_width": null,
            "object_fit": null,
            "object_position": null,
            "order": null,
            "overflow": null,
            "overflow_x": null,
            "overflow_y": null,
            "padding": null,
            "right": null,
            "top": null,
            "visibility": null,
            "width": null
          }
        },
        "42df7a8fde5442f2b2745d5b88fa72b6": {
          "model_module": "@jupyter-widgets/base",
          "model_name": "LayoutModel",
          "model_module_version": "1.2.0",
          "state": {
            "_model_module": "@jupyter-widgets/base",
            "_model_module_version": "1.2.0",
            "_model_name": "LayoutModel",
            "_view_count": null,
            "_view_module": "@jupyter-widgets/base",
            "_view_module_version": "1.2.0",
            "_view_name": "LayoutView",
            "align_content": null,
            "align_items": null,
            "align_self": null,
            "border": null,
            "bottom": null,
            "display": null,
            "flex": null,
            "flex_flow": null,
            "grid_area": null,
            "grid_auto_columns": null,
            "grid_auto_flow": null,
            "grid_auto_rows": null,
            "grid_column": null,
            "grid_gap": null,
            "grid_row": null,
            "grid_template_areas": null,
            "grid_template_columns": null,
            "grid_template_rows": null,
            "height": null,
            "justify_content": null,
            "justify_items": null,
            "left": null,
            "margin": null,
            "max_height": null,
            "max_width": null,
            "min_height": null,
            "min_width": null,
            "object_fit": null,
            "object_position": null,
            "order": null,
            "overflow": null,
            "overflow_x": null,
            "overflow_y": null,
            "padding": null,
            "right": null,
            "top": null,
            "visibility": null,
            "width": null
          }
        },
        "834bb7aa505846dda744129235833209": {
          "model_module": "@jupyter-widgets/controls",
          "model_name": "DescriptionStyleModel",
          "model_module_version": "1.5.0",
          "state": {
            "_model_module": "@jupyter-widgets/controls",
            "_model_module_version": "1.5.0",
            "_model_name": "DescriptionStyleModel",
            "_view_count": null,
            "_view_module": "@jupyter-widgets/base",
            "_view_module_version": "1.2.0",
            "_view_name": "StyleView",
            "description_width": ""
          }
        },
        "11942ac1afb84f069c82a8f5f1882179": {
          "model_module": "@jupyter-widgets/base",
          "model_name": "LayoutModel",
          "model_module_version": "1.2.0",
          "state": {
            "_model_module": "@jupyter-widgets/base",
            "_model_module_version": "1.2.0",
            "_model_name": "LayoutModel",
            "_view_count": null,
            "_view_module": "@jupyter-widgets/base",
            "_view_module_version": "1.2.0",
            "_view_name": "LayoutView",
            "align_content": null,
            "align_items": null,
            "align_self": null,
            "border": null,
            "bottom": null,
            "display": null,
            "flex": null,
            "flex_flow": null,
            "grid_area": null,
            "grid_auto_columns": null,
            "grid_auto_flow": null,
            "grid_auto_rows": null,
            "grid_column": null,
            "grid_gap": null,
            "grid_row": null,
            "grid_template_areas": null,
            "grid_template_columns": null,
            "grid_template_rows": null,
            "height": null,
            "justify_content": null,
            "justify_items": null,
            "left": null,
            "margin": null,
            "max_height": null,
            "max_width": null,
            "min_height": null,
            "min_width": null,
            "object_fit": null,
            "object_position": null,
            "order": null,
            "overflow": null,
            "overflow_x": null,
            "overflow_y": null,
            "padding": null,
            "right": null,
            "top": null,
            "visibility": null,
            "width": null
          }
        },
        "1c478b1af9804caeb64674bf310c4b53": {
          "model_module": "@jupyter-widgets/controls",
          "model_name": "ProgressStyleModel",
          "model_module_version": "1.5.0",
          "state": {
            "_model_module": "@jupyter-widgets/controls",
            "_model_module_version": "1.5.0",
            "_model_name": "ProgressStyleModel",
            "_view_count": null,
            "_view_module": "@jupyter-widgets/base",
            "_view_module_version": "1.2.0",
            "_view_name": "StyleView",
            "bar_color": null,
            "description_width": ""
          }
        },
        "c5d5c0832c944062a15ac1a8c81e9818": {
          "model_module": "@jupyter-widgets/base",
          "model_name": "LayoutModel",
          "model_module_version": "1.2.0",
          "state": {
            "_model_module": "@jupyter-widgets/base",
            "_model_module_version": "1.2.0",
            "_model_name": "LayoutModel",
            "_view_count": null,
            "_view_module": "@jupyter-widgets/base",
            "_view_module_version": "1.2.0",
            "_view_name": "LayoutView",
            "align_content": null,
            "align_items": null,
            "align_self": null,
            "border": null,
            "bottom": null,
            "display": null,
            "flex": null,
            "flex_flow": null,
            "grid_area": null,
            "grid_auto_columns": null,
            "grid_auto_flow": null,
            "grid_auto_rows": null,
            "grid_column": null,
            "grid_gap": null,
            "grid_row": null,
            "grid_template_areas": null,
            "grid_template_columns": null,
            "grid_template_rows": null,
            "height": null,
            "justify_content": null,
            "justify_items": null,
            "left": null,
            "margin": null,
            "max_height": null,
            "max_width": null,
            "min_height": null,
            "min_width": null,
            "object_fit": null,
            "object_position": null,
            "order": null,
            "overflow": null,
            "overflow_x": null,
            "overflow_y": null,
            "padding": null,
            "right": null,
            "top": null,
            "visibility": null,
            "width": null
          }
        },
        "e3b329e4713f40a0967f1bba404dbd55": {
          "model_module": "@jupyter-widgets/controls",
          "model_name": "DescriptionStyleModel",
          "model_module_version": "1.5.0",
          "state": {
            "_model_module": "@jupyter-widgets/controls",
            "_model_module_version": "1.5.0",
            "_model_name": "DescriptionStyleModel",
            "_view_count": null,
            "_view_module": "@jupyter-widgets/base",
            "_view_module_version": "1.2.0",
            "_view_name": "StyleView",
            "description_width": ""
          }
        }
      }
    }
  },
  "cells": [
    {
      "cell_type": "markdown",
      "metadata": {
        "id": "view-in-github"
      },
      "source": [
        "<a href=\"https://colab.research.google.com/github/sunnysavita10/Indepth-GENAI/blob/main/RAG_With_Knowledge_graph(Neo4j).ipynb\" target=\"_parent\"><img src=\"https://colab.research.google.com/assets/colab-badge.svg\" alt=\"Open In Colab\"/></a>"
      ]
    },
    {
      "cell_type": "markdown",
      "source": [
        "# langchain-core\n",
        "\n",
        "contains simple, core abstractions that have emerged as a standard, as well as LangChain Expression Language as a way to compose these components together. This package is now at version 0.1 and all breaking changes will be accompanied by a minor version bump.\n",
        "\n",
        "# langchain-community\n",
        "contains all third party integrations. We will work with partners on splitting key integrations out into standalone packages over the next month.\n",
        "\n",
        "# langchain\n",
        "contains higher-level and use-case specific chains, agents, and retrieval algorithms that are at the core of your application's cognitive architecture. We are targeting a launch of a stable 0.1 release for langchain in early January.#"
      ],
      "metadata": {
        "id": "xB3OyiU14byv"
      }
    },
    {
      "cell_type": "code",
      "source": [
        "%pip install --upgrade --quiet  langchain langchain-community langchain_google_genai langchain-groq langchain-experimental langchain-neo4j neo4j wikipedia tiktoken yfiles_jupyter_graphs"
      ],
      "metadata": {
        "id": "usWcdmOr7GAH",
        "colab": {
          "base_uri": "https://localhost:8080/"
        },
        "outputId": "3c21f999-d7c1-40cd-e333-77212cd0684a"
      },
      "execution_count": 1,
      "outputs": [
        {
          "output_type": "stream",
          "name": "stdout",
          "text": [
            "  Preparing metadata (setup.py) ... \u001b[?25l\u001b[?25hdone\n",
            "\u001b[2K   \u001b[90m━━━━━━━━━━━━━━━━━━━━━━━━━━━━━━━━━━━━━━━━\u001b[0m \u001b[32m2.5/2.5 MB\u001b[0m \u001b[31m14.9 MB/s\u001b[0m eta \u001b[36m0:00:00\u001b[0m\n",
            "\u001b[2K   \u001b[90m━━━━━━━━━━━━━━━━━━━━━━━━━━━━━━━━━━━━━━━━\u001b[0m \u001b[32m44.3/44.3 kB\u001b[0m \u001b[31m1.6 MB/s\u001b[0m eta \u001b[36m0:00:00\u001b[0m\n",
            "\u001b[2K   \u001b[90m━━━━━━━━━━━━━━━━━━━━━━━━━━━━━━━━━━━━━━━━\u001b[0m \u001b[32m209.2/209.2 kB\u001b[0m \u001b[31m7.5 MB/s\u001b[0m eta \u001b[36m0:00:00\u001b[0m\n",
            "\u001b[2K   \u001b[90m━━━━━━━━━━━━━━━━━━━━━━━━━━━━━━━━━━━━━━━━\u001b[0m \u001b[32m312.3/312.3 kB\u001b[0m \u001b[31m9.9 MB/s\u001b[0m eta \u001b[36m0:00:00\u001b[0m\n",
            "\u001b[2K   \u001b[90m━━━━━━━━━━━━━━━━━━━━━━━━━━━━━━━━━━━━━━━━\u001b[0m \u001b[32m15.7/15.7 MB\u001b[0m \u001b[31m31.1 MB/s\u001b[0m eta \u001b[36m0:00:00\u001b[0m\n",
            "\u001b[2K   \u001b[90m━━━━━━━━━━━━━━━━━━━━━━━━━━━━━━━━━━━━━━━━\u001b[0m \u001b[32m1.4/1.4 MB\u001b[0m \u001b[31m21.3 MB/s\u001b[0m eta \u001b[36m0:00:00\u001b[0m\n",
            "\u001b[2K   \u001b[90m━━━━━━━━━━━━━━━━━━━━━━━━━━━━━━━━━━━━━━━━\u001b[0m \u001b[32m129.4/129.4 kB\u001b[0m \u001b[31m3.2 MB/s\u001b[0m eta \u001b[36m0:00:00\u001b[0m\n",
            "\u001b[2K   \u001b[90m━━━━━━━━━━━━━━━━━━━━━━━━━━━━━━━━━━━━━━━━\u001b[0m \u001b[32m180.4/180.4 kB\u001b[0m \u001b[31m4.2 MB/s\u001b[0m eta \u001b[36m0:00:00\u001b[0m\n",
            "\u001b[2K   \u001b[90m━━━━━━━━━━━━━━━━━━━━━━━━━━━━━━━━━━━━━━━━\u001b[0m \u001b[32m44.4/44.4 kB\u001b[0m \u001b[31m2.4 MB/s\u001b[0m eta \u001b[36m0:00:00\u001b[0m\n",
            "\u001b[2K   \u001b[90m━━━━━━━━━━━━━━━━━━━━━━━━━━━━━━━━━━━━━━━━\u001b[0m \u001b[32m183.9/183.9 kB\u001b[0m \u001b[31m11.3 MB/s\u001b[0m eta \u001b[36m0:00:00\u001b[0m\n",
            "\u001b[2K   \u001b[90m━━━━━━━━━━━━━━━━━━━━━━━━━━━━━━━━━━━━━━━━\u001b[0m \u001b[32m50.9/50.9 kB\u001b[0m \u001b[31m2.5 MB/s\u001b[0m eta \u001b[36m0:00:00\u001b[0m\n",
            "\u001b[2K   \u001b[90m━━━━━━━━━━━━━━━━━━━━━━━━━━━━━━━━━━━━━━━━\u001b[0m \u001b[32m303.4/303.4 kB\u001b[0m \u001b[31m11.6 MB/s\u001b[0m eta \u001b[36m0:00:00\u001b[0m\n",
            "\u001b[2K   \u001b[90m━━━━━━━━━━━━━━━━━━━━━━━━━━━━━━━━━━━━━━━━\u001b[0m \u001b[32m1.6/1.6 MB\u001b[0m \u001b[31m25.7 MB/s\u001b[0m eta \u001b[36m0:00:00\u001b[0m\n",
            "\u001b[?25h  Building wheel for wikipedia (setup.py) ... \u001b[?25l\u001b[?25hdone\n",
            "\u001b[31mERROR: pip's dependency resolver does not currently take into account all the packages that are installed. This behaviour is the source of the following dependency conflicts.\n",
            "torch 2.6.0+cu124 requires nvidia-cublas-cu12==12.4.5.8; platform_system == \"Linux\" and platform_machine == \"x86_64\", but you have nvidia-cublas-cu12 12.5.3.2 which is incompatible.\n",
            "torch 2.6.0+cu124 requires nvidia-cuda-cupti-cu12==12.4.127; platform_system == \"Linux\" and platform_machine == \"x86_64\", but you have nvidia-cuda-cupti-cu12 12.5.82 which is incompatible.\n",
            "torch 2.6.0+cu124 requires nvidia-cuda-nvrtc-cu12==12.4.127; platform_system == \"Linux\" and platform_machine == \"x86_64\", but you have nvidia-cuda-nvrtc-cu12 12.5.82 which is incompatible.\n",
            "torch 2.6.0+cu124 requires nvidia-cuda-runtime-cu12==12.4.127; platform_system == \"Linux\" and platform_machine == \"x86_64\", but you have nvidia-cuda-runtime-cu12 12.5.82 which is incompatible.\n",
            "torch 2.6.0+cu124 requires nvidia-cudnn-cu12==9.1.0.70; platform_system == \"Linux\" and platform_machine == \"x86_64\", but you have nvidia-cudnn-cu12 9.3.0.75 which is incompatible.\n",
            "torch 2.6.0+cu124 requires nvidia-cufft-cu12==11.2.1.3; platform_system == \"Linux\" and platform_machine == \"x86_64\", but you have nvidia-cufft-cu12 11.2.3.61 which is incompatible.\n",
            "torch 2.6.0+cu124 requires nvidia-curand-cu12==10.3.5.147; platform_system == \"Linux\" and platform_machine == \"x86_64\", but you have nvidia-curand-cu12 10.3.6.82 which is incompatible.\n",
            "torch 2.6.0+cu124 requires nvidia-cusolver-cu12==11.6.1.9; platform_system == \"Linux\" and platform_machine == \"x86_64\", but you have nvidia-cusolver-cu12 11.6.3.83 which is incompatible.\n",
            "torch 2.6.0+cu124 requires nvidia-cusparse-cu12==12.3.1.170; platform_system == \"Linux\" and platform_machine == \"x86_64\", but you have nvidia-cusparse-cu12 12.5.1.3 which is incompatible.\n",
            "torch 2.6.0+cu124 requires nvidia-nvjitlink-cu12==12.4.127; platform_system == \"Linux\" and platform_machine == \"x86_64\", but you have nvidia-nvjitlink-cu12 12.5.82 which is incompatible.\n",
            "gcsfs 2025.3.2 requires fsspec==2025.3.2, but you have fsspec 2024.12.0 which is incompatible.\n",
            "google-generativeai 0.8.5 requires google-ai-generativelanguage==0.6.15, but you have google-ai-generativelanguage 0.6.18 which is incompatible.\u001b[0m\u001b[31m\n",
            "\u001b[0m"
          ]
        }
      ]
    },
    {
      "cell_type": "code",
      "source": [
        "## Graphdb configuration(Download and set in env )\n",
        "import os\n",
        "from google.colab import userdata\n",
        "\n",
        "# Fetch secrets from Colab Secrets storage\n",
        "NEO4J_URI = userdata.get(\"NEO4J_URI\")\n",
        "NEO4J_USERNAME = userdata.get(\"NEO4J_USERNAME\")\n",
        "NEO4J_PASSWORD = userdata.get(\"NEO4J_PASSWORD\")\n",
        "\n"
      ],
      "metadata": {
        "id": "qIPa-raw0AZY"
      },
      "execution_count": 2,
      "outputs": []
    },
    {
      "cell_type": "code",
      "source": [
        "# Graph\n",
        "from langchain_neo4j import  Neo4jGraph\n",
        "graph=Neo4jGraph(\n",
        "    url=NEO4J_URI,\n",
        "    username=NEO4J_USERNAME,\n",
        "    password=NEO4J_PASSWORD,\n",
        ")"
      ],
      "metadata": {
        "id": "B0AxTK7-0AWA"
      },
      "execution_count": 3,
      "outputs": []
    },
    {
      "cell_type": "code",
      "source": [
        "# LLM\n",
        "from google.colab import userdata\n",
        "from langchain_groq import ChatGroq\n",
        "from langchain_google_genai import ChatGoogleGenerativeAI\n",
        "\n",
        "# GOOGLE_API_KEY=userdata.get(\"GOOGLE_API_KEY\")\n",
        "groq_api_key=userdata.get(\"groq_api_key\")\n",
        "\n",
        "\n",
        "# llm=ChatGoogleGenerativeAI(model=\"gemini-2.0-flash\")\n",
        "llm=ChatGroq(groq_api_key=groq_api_key,model_name=\"llama-3.3-70b-versatile\")\n",
        "llm"
      ],
      "metadata": {
        "id": "rHLyOSju0AS2",
        "colab": {
          "base_uri": "https://localhost:8080/"
        },
        "outputId": "c9e3c4b9-95ad-4378-8df3-fffff472d5aa"
      },
      "execution_count": 4,
      "outputs": [
        {
          "output_type": "execute_result",
          "data": {
            "text/plain": [
              "ChatGroq(client=<groq.resources.chat.completions.Completions object at 0x7f3deee0ea50>, async_client=<groq.resources.chat.completions.AsyncCompletions object at 0x7f3dee907090>, model_name='llama-3.3-70b-versatile', model_kwargs={}, groq_api_key=SecretStr('**********'))"
            ]
          },
          "metadata": {},
          "execution_count": 4
        }
      ]
    },
    {
      "cell_type": "code",
      "source": [
        "# Data\n",
        "from langchain_community.document_loaders import WikipediaLoader\n",
        "raw_documents = WikipediaLoader(query=\"NGC 4144\").load()\n",
        "raw_documents"
      ],
      "metadata": {
        "colab": {
          "base_uri": "https://localhost:8080/"
        },
        "id": "Y4PUlm4T0ALG",
        "outputId": "86a6c662-88b8-4069-b0dd-8435424e5b4a"
      },
      "execution_count": 6,
      "outputs": [
        {
          "output_type": "execute_result",
          "data": {
            "text/plain": [
              "[Document(metadata={'title': 'NGC 4144', 'summary': 'NGC 4144 is a barred spiral galaxy located in the Ursa Major constellation. It was discovered by the German-born British astronomer William Herschel on April 10, 1788. The galaxy is also known by several other catalog names, including IRAS F12074+4644, 2MASX J12095860+4627258, UGC 7151, and PGC 38688. It has an apparent magnitude of 12.17 in the blue band.', 'source': 'https://en.wikipedia.org/wiki/NGC_4144'}, page_content='NGC 4144 is a barred spiral galaxy located in the Ursa Major constellation. It was discovered by the German-born British astronomer William Herschel on April 10, 1788. The galaxy is also known by several other catalog names, including IRAS F12074+4644, 2MASX J12095860+4627258, UGC 7151, and PGC 38688. It has an apparent magnitude of 12.17 in the blue band.\\n\\n\\n== Description ==\\nNGC 4144 is a barred spiral galaxy classified as Im/BCD C, meaning it displays features of both irregular and blue compact dwarf galaxies. The galaxy is situated approximately 40 million light-years away from Earth. It is part of the Ursa Major Group, which consists of several galaxies in close proximity to each other. NGC 4144 is particularly notable for its faint appearance and for being relatively difficult to observe without a telescope due to its low luminosity.\\n\\n\\n== Gallery ==\\n\\n\\t\\t\\n\\t\\t\\t\\n\\t\\t\\t\\n\\t\\t\\n\\t\\t\\n\\t\\t\\t\\n\\t\\t\\t\\n\\t\\t\\n\\t\\t\\n\\t\\t\\t\\n\\t\\t\\t\\n\\t\\t\\n\\n\\n== References ==\\n\\n\\n== External links ==\\n Media related to NGC 4144 at Wikimedia Commons'),\n",
              " Document(metadata={'title': 'List of NGC objects (4001–5000)', 'summary': 'This is a list of NGC objects 4001–5000 from the New General Catalogue (NGC). The astronomical catalogue is composed mainly of star clusters, nebulae, and galaxies. Other objects in the catalogue can be found in the other subpages of the list of NGC objects.\\nThe constellation information in these tables is taken from The Complete New General Catalogue and Index Catalogue of Nebulae and Star Clusters by Jjiko. L. E. Dreyer, which was accessed using the \"VizieR Service\". Galaxy types are identified using the NASA/IPAC Extragalactic Database. The other data in these tables are from the SIMBAD Astronomical Database unless otherwise stated.', 'source': 'https://en.wikipedia.org/wiki/List_of_NGC_objects_(4001%E2%80%935000)'}, page_content='This is a list of NGC objects 4001–5000 from the New General Catalogue (NGC). The astronomical catalogue is composed mainly of star clusters, nebulae, and galaxies. Other objects in the catalogue can be found in the other subpages of the list of NGC objects.\\nThe constellation information in these tables is taken from The Complete New General Catalogue and Index Catalogue of Nebulae and Star Clusters by Jjiko. L. E. Dreyer, which was accessed using the \"VizieR Service\". Galaxy types are identified using the NASA/IPAC Extragalactic Database. The other data in these tables are from the SIMBAD Astronomical Database unless otherwise stated.\\n\\n\\n== 4001–4100 ==\\n\\n\\n== 4101–4200 ==\\n\\n\\n== 4201-4300 ==\\n\\n\\n== 4301–4400 ==\\n\\n\\n== 4401–4500 ==\\n\\n\\n== 4501–4600 ==\\n\\n\\n== 4601–4700 ==\\n\\n\\n== 4701–4800 ==\\n\\n\\n== 4801–4900 ==\\n\\n\\n== 4901–5000 ==\\n\\n\\n== See also ==\\nLists of astronomical objects\\n\\n\\n== References =='),\n",
              " Document(metadata={'title': 'M94 Group', 'summary': 'The M94 Group (Canes I Group or Canes Venatici I Group) is a loose, extended group of galaxies located about 13 million light-years away in the constellations Canes Venatici and Coma Berenices.  The group is one of many groups that lies within the Virgo Supercluster (i.e. the Local Supercluster) and one of the closest groups to the Local Group.\\nAlthough the galaxies in this cluster appear to be from a single large cloud-like structure, many of the galaxies within the group are only weakly gravitationally bound, and some have not yet formed stable orbits around the center of this group.  Instead, most of the galaxies in this group appear to be moving with the expansion of the universe.', 'source': 'https://en.wikipedia.org/wiki/M94_Group'}, page_content='The M94 Group (Canes I Group or Canes Venatici I Group) is a loose, extended group of galaxies located about 13 million light-years away in the constellations Canes Venatici and Coma Berenices.  The group is one of many groups that lies within the Virgo Supercluster (i.e. the Local Supercluster) and one of the closest groups to the Local Group.\\nAlthough the galaxies in this cluster appear to be from a single large cloud-like structure, many of the galaxies within the group are only weakly gravitationally bound, and some have not yet formed stable orbits around the center of this group.  Instead, most of the galaxies in this group appear to be moving with the expansion of the universe.\\n\\n\\n== Members ==\\nThe table below lists galaxies that have been consistently identified as group members in the Nearby Galaxies Catalog, the Lyons Groups of Galaxies (LGG) Catalog, and the three group lists created from the Nearby Optical Galaxy sample of Giuricin et al.\\n\\nAdditionally, NGC 4105 and DDO 169 are frequently but not consistently identified as members of this group in the references cited above.\\nThe brightest member in this galaxy group is questionable and partly depends on the analysis used to determine group members.  The LGG Catalog identifies M106 as part of this group, which would make it the brightest galaxy within the group.  However, the other catalogs cited above do not identify M106 as a group member, in which case M94 would be the brightest galaxy within the group.\\n\\n\\n== Canes Venatici Cloud ==\\nThis galaxy group is sometimes erroneously called the Canes Venatici Cloud, a larger structure of which it is a member. A galaxy cloud is a supercluster substructure. The CVn Cloud used in this manner is identified by Tully and de Vaucoleurs.\\n\\n\\n== See also ==\\nM96 Group\\nSculptor Group\\nCanes II Group (CVn II Group)\\n\\n\\n== References ==\\n\\n\\n== External links ==\\n Media related to M94 Group at Wikimedia Commons'),\n",
              " Document(metadata={'title': 'Canes II Group', 'summary': 'The Canes II Group or Canes Venatici II Group (CVn II Group) is a group of galaxies about 26.1 million light-years away from Earth. The group resides in the Local Supercluster. The largest galaxy within the cluster is M106 (NGC 4258), which is a barred spiral galaxy.', 'source': 'https://en.wikipedia.org/wiki/Canes_II_Group'}, page_content='The Canes II Group or Canes Venatici II Group (CVn II Group) is a group of galaxies about 26.1 million light-years away from Earth. The group resides in the Local Supercluster. The largest galaxy within the cluster is M106 (NGC 4258), which is a barred spiral galaxy.\\n\\n\\n== Galaxies in the Cluster ==\\nCanes II is directly behind Canes I, which makes it difficult to show which galaxy belongs in which cluster. It is generally accepted that the following galaxies belong in Canes II;\\n\\n\\n== References ==\\n\\n\\n== See also ==\\nCanes I Group (CVn I GrG)\\nCanes Venatici Cloud'),\n",
              " Document(metadata={'title': 'NGC 4041', 'summary': \"NGC 4041 is the New General Catalogue identifier for a spiral galaxy in the northern circumpolar constellation of Ursa Major. It is located an estimated 70 million light years from the Sun. It was discovered by the German-British astronomer William Herschel on 19 March 1790.\\nThe morphological classification of SA(rs)bc indicates this is a spiral galaxy the lacks a bar; the 'rs' means it has a weakly-formed ring structure, and the 'bc' indicates the spiral arms are moderately to loosely wound.\\nThe galaxy is inclined by around 20° to the line of sight from the Earth. It is forming new stars at the estimated rate of 4.10 M☉ yr−1, which is fairly typical for a galaxy of this morphology. The star formation rate is much higher in the central region, which may be the result of recent merger with a dwarf galaxy within the last 100 million years.\\nThis galaxy has no detected activity in the nuclear region. There is a rotating nuclear disk of high brightness at the core that is consistent with the presence of a compact mass of 1+0.6−0.7×107 M☉. Most likely this is a supermassive black hole (SMBH).\\nNGC 4041 is a member of the LGG 266 galaxy group, along with NGC 4036, IC 758, UGC 7009, and UGC 7019. It is located just 17 arc minutes from NGC 4036, and the two form a pair with a projected separation of around 470 kly (143 kpc).\", 'source': 'https://en.wikipedia.org/wiki/NGC_4041'}, page_content=\"NGC 4041 is the New General Catalogue identifier for a spiral galaxy in the northern circumpolar constellation of Ursa Major. It is located an estimated 70 million light years from the Sun. It was discovered by the German-British astronomer William Herschel on 19 March 1790.\\nThe morphological classification of SA(rs)bc indicates this is a spiral galaxy the lacks a bar; the 'rs' means it has a weakly-formed ring structure, and the 'bc' indicates the spiral arms are moderately to loosely wound.\\nThe galaxy is inclined by around 20° to the line of sight from the Earth. It is forming new stars at the estimated rate of 4.10 M☉ yr−1, which is fairly typical for a galaxy of this morphology. The star formation rate is much higher in the central region, which may be the result of recent merger with a dwarf galaxy within the last 100 million years.\\nThis galaxy has no detected activity in the nuclear region. There is a rotating nuclear disk of high brightness at the core that is consistent with the presence of a compact mass of 1+0.6−0.7×107 M☉. Most likely this is a supermassive black hole (SMBH).\\nNGC 4041 is a member of the LGG 266 galaxy group, along with NGC 4036, IC 758, UGC 7009, and UGC 7019. It is located just 17 arc minutes from NGC 4036, and the two form a pair with a projected separation of around 470 kly (143 kpc).\\n\\n\\n== Supernova ==\\nOn July 29, 1994, the type IIp supernova designated SN 1994W was discovered in this galaxy by Giancarlo Cortini and Mirko Villi. The event reached peak visual magnitude on August 13, and declined thereafter. It was located about 19 arc seconds to the northwest of the nucleus. This supernova was unusual for the exceptionally low quantity of nickel-56 released—indeed, it was the lowest inferred amount measured for any type II supernova as of that date. Based upon a possible detection of X-ray emission from the remnant, this may be a high-luminosity type IIn supernova.\\n\\n\\n== See also ==\\nList of NGC objects (4001–5000)\\n\\n\\n== References ==\\n\\n\\n== External links ==\\n Media related to NGC 4041 at Wikimedia Commons\"),\n",
              " Document(metadata={'title': 'NGC 4036', 'summary': 'NGC 4036 is the New General Catalogue identifier for a lenticular galaxy  in the northern circumpolar constellation of Ursa Major. In the Carnegie Atlas of Galaxies, it is described as being \"characterized by an irregular\\npattern of dust lanes threaded through the disc in an \\'embryonic\\' spiral pattern indicating a mixed S0/Sa form.\" It is located near the Big Dipper, a little to the north of the mid-way point between the stars Alpha Ursae Majoris and Delta Ursae Majoris. With a visual magnitude of 10.7, it can be dimly viewed using a 4 in (10 cm) aperture telescope.\\nThe visual dimensions of this galaxy are 2.703 × 1.027 arc minutes, with the major axis having a position angle of 85°. The galaxy is being viewed nearly edge-on, with an inclination of 18° to the line of sight from the Earth. It is moving away from us with a heliocentric radial velocity of 1,445 km/s. The estimated visual luminosity of the galaxy is 4.2×1010 L⊙, or 42 billion times the brightness of the Sun. Photographs show a tightly wound spiral pattern in the galactic disk, with three dust lanes—the southern side of the galaxy appears dimmer due to the dust configuration. The mass of the free gas and dust in the galaxy is about 1.7×109 M⊙ and 4.4×105 M⊙, respectively, with around 7×104 M⊙ of the gas being in an ionized state.\\nThis is a type of active galaxy known as a LINER, which means that it shows emission lines of ionized gas in the region of its nucleus. Chemically, the stars at the center of the nucleus have a higher metallicity than in the neighboring regions. It appears that there is a tilted disk of stars orbiting the nucleus within a radius of 820 ly (250 pc). The galactic bulge itself appears triaxial with the ionized gas concentrated near the center of this bulge region. Images of the galaxy with the Hubble Space Telescope show a wispy disk of dust on all sides of the nucleus, with what appears to be the tendrilous remains of an ionization cone leading away 4 arc seconds to the northeast. Such features are common in Seyfert galaxies.\\nNGC 4036 is a member of the LGG 266 galaxy group, along with NGC 4041, IC 758, UGC 7009, and UGC 7019. It is located just 17 arc minutes from NGC 4041, and the two form a pair with a projected separation of around 470 kly (143 kpc).', 'source': 'https://en.wikipedia.org/wiki/NGC_4036'}, page_content='NGC 4036 is the New General Catalogue identifier for a lenticular galaxy  in the northern circumpolar constellation of Ursa Major. In the Carnegie Atlas of Galaxies, it is described as being \"characterized by an irregular\\npattern of dust lanes threaded through the disc in an \\'embryonic\\' spiral pattern indicating a mixed S0/Sa form.\" It is located near the Big Dipper, a little to the north of the mid-way point between the stars Alpha Ursae Majoris and Delta Ursae Majoris. With a visual magnitude of 10.7, it can be dimly viewed using a 4 in (10 cm) aperture telescope.\\nThe visual dimensions of this galaxy are 2.703 × 1.027 arc minutes, with the major axis having a position angle of 85°. The galaxy is being viewed nearly edge-on, with an inclination of 18° to the line of sight from the Earth. It is moving away from us with a heliocentric radial velocity of 1,445 km/s. The estimated visual luminosity of the galaxy is 4.2×1010 L⊙, or 42 billion times the brightness of the Sun. Photographs show a tightly wound spiral pattern in the galactic disk, with three dust lanes—the southern side of the galaxy appears dimmer due to the dust configuration. The mass of the free gas and dust in the galaxy is about 1.7×109 M⊙ and 4.4×105 M⊙, respectively, with around 7×104 M⊙ of the gas being in an ionized state.\\nThis is a type of active galaxy known as a LINER, which means that it shows emission lines of ionized gas in the region of its nucleus. Chemically, the stars at the center of the nucleus have a higher metallicity than in the neighboring regions. It appears that there is a tilted disk of stars orbiting the nucleus within a radius of 820 ly (250 pc). The galactic bulge itself appears triaxial with the ionized gas concentrated near the center of this bulge region. Images of the galaxy with the Hubble Space Telescope show a wispy disk of dust on all sides of the nucleus, with what appears to be the tendrilous remains of an ionization cone leading away 4 arc seconds to the northeast. Such features are common in Seyfert galaxies.\\nNGC 4036 is a member of the LGG 266 galaxy group, along with NGC 4041, IC 758, UGC 7009, and UGC 7019. It is located just 17 arc minutes from NGC 4041, and the two form a pair with a projected separation of around 470 kly (143 kpc).\\n\\n\\n== Supernova ==\\nOne supernova has been observed in NGC 4036. SN 2007gi (type Ia, mag. 16.3) was discovered by Kōichi Itagaki on 23 July 2007, located near the central bulge of the galaxy. It reached peak magnitude around August 14, then steadily declined in brightness thereafter. Materials identified in the spectrum included silicon, calcium, and sulfur moving outward at velocities of around 15,500 km/s. This is a 50% higher velocity than what is normally observed with supernovae of this type.\\n\\n\\n== Gallery ==\\n\\n\\t\\t\\n\\t\\t\\t\\n\\t\\t\\t\\n\\t\\t\\n\\t\\t\\n\\t\\t\\t\\n\\t\\t\\t\\n\\t\\t\\n\\n\\n== References ==\\n\\n\\n== External links ==\\n Media related to NGC 4036 at Wikimedia Commons'),\n",
              " Document(metadata={'title': 'NGC 4614', 'summary': \"NGC 4614 is a barred lenticular galaxy in the New General Catalog. It is located in the constellation of Coma Berenices. It was discovered in 1864 by the German astronomer Heinrich d'Arrest with a 11.9 inch (11 inch) diameter lens type telescope.\\nOne supernova, SN 2018ata (type Ia, mag. 20), was discovered in NGC 4614 on 10 April 2018.\", 'source': 'https://en.wikipedia.org/wiki/NGC_4614'}, page_content=\"NGC 4614 is a barred lenticular galaxy in the New General Catalog. It is located in the constellation of Coma Berenices. It was discovered in 1864 by the German astronomer Heinrich d'Arrest with a 11.9 inch (11 inch) diameter lens type telescope.\\nOne supernova, SN 2018ata (type Ia, mag. 20), was discovered in NGC 4614 on 10 April 2018.\\n\\n\\n== References ==\\n\\n\\n== External links ==\\n Media related to NGC 4614 at Wikimedia Commons\\nSEDS\"),\n",
              " Document(metadata={'title': 'NGC 4701', 'summary': 'NGC 4701 is an unbarred spiral galaxy located in the constellation Virgo. Its velocity with respect to the cosmic microwave background is 1054 ± 24 km/s, which corresponds to a Hubble distance of 50.7 ± 3.8 Mly (15.54 ± 1.15 Mpc). However, 10 non-redshift measurements give a greater distance of 72.31 ± 6.14 Mly (22.170 ± 1.883 Mpc).It was discovered by the German-British astronomer William Herschel on 30 April 1786 using a 47.5 cm (18.7 inch) diameter mirror type telescope. It is a member of the Virgo II Groups, a series of galaxies and galaxy clusters strung out from the southern edge of the Virgo Supercluster.\\nNGC 4701 is a member of the M49 Group (also known as LGG 292). This group contains at least 127 galaxies, including 63 galaxies from the New General Catalogue and 20 galaxies from the Index Catalogue.', 'source': 'https://en.wikipedia.org/wiki/NGC_4701'}, page_content='NGC 4701 is an unbarred spiral galaxy located in the constellation Virgo. Its velocity with respect to the cosmic microwave background is 1054 ± 24 km/s, which corresponds to a Hubble distance of 50.7 ± 3.8 Mly (15.54 ± 1.15 Mpc). However, 10 non-redshift measurements give a greater distance of 72.31 ± 6.14 Mly (22.170 ± 1.883 Mpc).It was discovered by the German-British astronomer William Herschel on 30 April 1786 using a 47.5 cm (18.7 inch) diameter mirror type telescope. It is a member of the Virgo II Groups, a series of galaxies and galaxy clusters strung out from the southern edge of the Virgo Supercluster.\\nNGC 4701 is a member of the M49 Group (also known as LGG 292). This group contains at least 127 galaxies, including 63 galaxies from the New General Catalogue and 20 galaxies from the Index Catalogue.\\n\\n\\n== See also ==\\nList of NGC objects (4001–5000)\\n\\n\\n== References ==\\n\\n\\n== External links ==\\n Media related to NGC 4701 at Wikimedia Commons'),\n",
              " Document(metadata={'title': 'List of IC objects', 'summary': 'This is a partial list of IC objects, which are astronomical objects included in the Index Catalogue of Nebulae and Clusters of Stars. This two volume catalog was published in 1895 and 1908 by J. E. L. Dreyer.\\nThe constellation information for this table is available from the NGC2000.0: Complete New General Catalog and Index Catalog. In some cases, the NASA/IPAC Extragalactic Database was used to confirm cross-identifications of galaxies. The remaining data is from the SIMBAD Astronomical Database unless otherwise noted.', 'source': 'https://en.wikipedia.org/wiki/List_of_IC_objects'}, page_content='This is a partial list of IC objects, which are astronomical objects included in the Index Catalogue of Nebulae and Clusters of Stars. This two volume catalog was published in 1895 and 1908 by J. E. L. Dreyer.\\nThe constellation information for this table is available from the NGC2000.0: Complete New General Catalog and Index Catalog. In some cases, the NASA/IPAC Extragalactic Database was used to confirm cross-identifications of galaxies. The remaining data is from the SIMBAD Astronomical Database unless otherwise noted.\\n\\n\\n== 1–999 ==\\n\\n\\n== 1000–1999 ==\\n\\n\\n== 2000–2999 ==\\n\\n\\n== 3000–3999 ==\\n\\n\\n== 4000–4999 ==\\n\\n\\n== 5000–5386 ==\\n\\n\\n== See also ==\\nLists of astronomical objects\\nList of NGC objects\\nCollinder catalogue\\nLyon-Meudon Extragalactic Database\\nMelotte catalogue\\nNew General Catalogue\\nUppsala General Catalogue\\n\\n\\n== References ==\\n\\n\\n== Resources ==\\nDreyer, J. L. E. (1878), \"A Supplement to Sir John Herschel\\'s \\'General Catalogue of Nebulae and Clusters of Stars\\'\", Transactions of the Royal Irish Academy, 26: 381–426, Bibcode:1878TRIA...26..381D, JSTOR 30079091.\\nDreyer, J. L. E. (1910), \"Second Index Catalogue of Nebulæ and Clusters of Stars, containing objects found in the years 1895 to 1907; with Notes and Corrections to the New General Catalogue and to the Index Catalogue for 1888-94\", Memoirs of the Royal Astronomical Society, 59: 105, Bibcode:1910MmRAS..59..105D.\\nDreyer, J. L. E. (November 1912), \"Corrections to the New General Catalogue\", Monthly Notices of the Royal Astronomical Society, 73: 37–40, Bibcode:1912MNRAS..73...37D, doi:10.1093/mnras/73.1.37.\\nLindsay, E. M. (1965), \"J. L. E. Dreyer and His New General Catalogue of Nebulae and Clusters of Stars\", Astronomical Society of the Pacific Leaflets, 9 (436): 289, Bibcode:1965ASPL....9..289L.\\nSeligman, Courtney, \"Index Catalog (IC) I / II Objects\", Celestial Atlas, retrieved 2024-08-26.'),\n",
              " Document(metadata={'title': 'Gliese 806', 'summary': 'Gliese 806 is a star in the northern constellation of Cygnus, located about a degree to the southeast of the bright star Deneb. It is invisible to the naked eye with an apparent visual magnitude of +10.79. The star is located at a distance of 39.3 light years from the Sun based on stellar parallax. It is drifting closer with a radial velocity of −24.6 km/s, and is predicted to come to within 30.1 light-years in ~198,600 years. The star hosts two known planetary companions.\\nThe stellar classification of Gliese 806 is dM1.5, which indicates this is a small red dwarf star – an M-type main-sequence star that is generating energy through core hydrogen fusion. It is roughly three billion years old and is spinning with a projected rotational velocity of 0.46 km/s. The star has 42% of the mass and radius of the Sun. It is radiating 0.3% of the luminosity of the Sun from its photosphere at an effective temperature of 3,586 K.\\n\\n', 'source': 'https://en.wikipedia.org/wiki/Gliese_806'}, page_content='Gliese 806 is a star in the northern constellation of Cygnus, located about a degree to the southeast of the bright star Deneb. It is invisible to the naked eye with an apparent visual magnitude of +10.79. The star is located at a distance of 39.3 light years from the Sun based on stellar parallax. It is drifting closer with a radial velocity of −24.6 km/s, and is predicted to come to within 30.1 light-years in ~198,600 years. The star hosts two known planetary companions.\\nThe stellar classification of Gliese 806 is dM1.5, which indicates this is a small red dwarf star – an M-type main-sequence star that is generating energy through core hydrogen fusion. It is roughly three billion years old and is spinning with a projected rotational velocity of 0.46 km/s. The star has 42% of the mass and radius of the Sun. It is radiating 0.3% of the luminosity of the Sun from its photosphere at an effective temperature of 3,586 K.\\n\\n\\n== Planetary system ==\\nIn 1989, Marcy and Benitz detected a periodicity of 416 days in radial velocity variation, inferring the possible presence of a companion with a mass of about 0.011 M☉. However, this candidate object was never confirmed.\\nMore recently, observations by TESS have found a candidate transiting planet with a period of less than a day. In January 2023, this planet was confirmed and a second, non-transiting planet found via radial velocity observations. A third radial velocity signal was also found, but the study was unable to confirm it as having a planetary origin. All known planets are super-Earths, and the inner transiting planet Gliese 806 b is likely to be rocky.\\n\\n\\n== See also ==\\nGliese 521\\n\\n\\n== References =='),\n",
              " Document(metadata={'title': 'Chi Ursae Majoris', 'summary': 'Chi Ursae Majoris or χ Ursae Majoris, formally named Taiyangshou , is a single star in the northern circumpolar constellation of Ursa Major. The star has an orange hue and is visible to the naked eye at night with an apparent visual magnitude of 3.72. It is located at a distance of approximately 198 light-years from the Sun based on parallax, but is drifting closer with a radial velocity of −9 km/s.\\n\\n', 'source': 'https://en.wikipedia.org/wiki/Chi_Ursae_Majoris'}, page_content='Chi Ursae Majoris or χ Ursae Majoris, formally named Taiyangshou , is a single star in the northern circumpolar constellation of Ursa Major. The star has an orange hue and is visible to the naked eye at night with an apparent visual magnitude of 3.72. It is located at a distance of approximately 198 light-years from the Sun based on parallax, but is drifting closer with a radial velocity of −9 km/s.\\n\\n\\n== Nomenclature ==\\n\\nχ Ursae Majoris (Latinised to Chi Ursae Majoris) is the star\\'s Bayer designation.\\nIt bore the traditional name Tai Yang Show, \"the Sun Governor\", from Chinese astronomy. The name was possibly derived from the word 太陽守, Pinyin: Tàiyángshǒu, meaning Guard of the Sun, because this star is marking itself and standing alone in the Guard of the Sun asterism, Purple Forbidden enclosure (see : Chinese constellations). It also bore traditional names of Arabic origin:  Alkafzah, Alkaphrah, and El Koprah.\\nIn 2016, the IAU organized a Working Group on Star Names (WGSN) to catalog and standardize proper names for stars. The WGSN approved the name Taiyangshou for this star on 30 June 2017 and it is now so included in the List of IAU-approved Star Names.\\n\\n\\n== Properties ==\\nChi Ursae Majoris is an evolved, orange hued K-type giant with a stellar classification of K0.5 IIIb. It is a red clump giant, which means it is on the horizontal branch and is generating energy through helium fusion at its core. This star has expanded to 23 times the radius of the Sun with 1.49 times the Sun\\'s mass. It is radiating 170 times the luminosity of the Sun from its enlarged photosphere at an effective temperature of 4,331 K.\\nThe spiral galaxy in Ursa Major, NGC 3877 (= H I.201), type Sc, is best found from Chi Ursae Majoris, which is almost exactly 15 arcminutes north of the galaxy.\\n\\n\\n== References ==\\n\\n\\n== External links ==\\n\\nChi Ursae Majoris on WikiSky: DSS2, SDSS, GALEX, IRAS, Hydrogen α, X-Ray, Astrophoto, Sky Map, Articles and images'),\n",
              " Document(metadata={'title': 'Sigma1 Ursae Majoris', 'summary': 'Sigma1 Ursae Majoris (σ1 UMa) is the Bayer designation for a solitary star in the northern circumpolar constellation of Ursa Major. With an apparent visual magnitude of 5.14 it is faintly visible to the naked eye on dark nights. Based upon an annual parallax shift of 6.26 mas, it is located roughly 520 light years from the Sun. At that distance, the visual magnitude of the star is diminished by an extinction factor of 0.06 due to interstellar dust.\\nThis is an evolved K-type giant star with a stellar classification of K5 III. It is a suspected variable with an amplitude of 0.03 magnitude. The measured angular diameter of the star after correcting for limb darkening is 2.67±0.04 mas, which, at the estimated distance of this star, yields a physical size of about 46 times the radius of the Sun. The star is radiating around 560 times the solar luminosity from its outer atmosphere at an effective temperature of 3,940 K.', 'source': 'https://en.wikipedia.org/wiki/Sigma1_Ursae_Majoris'}, page_content='Sigma1 Ursae Majoris (σ1 UMa) is the Bayer designation for a solitary star in the northern circumpolar constellation of Ursa Major. With an apparent visual magnitude of 5.14 it is faintly visible to the naked eye on dark nights. Based upon an annual parallax shift of 6.26 mas, it is located roughly 520 light years from the Sun. At that distance, the visual magnitude of the star is diminished by an extinction factor of 0.06 due to interstellar dust.\\nThis is an evolved K-type giant star with a stellar classification of K5 III. It is a suspected variable with an amplitude of 0.03 magnitude. The measured angular diameter of the star after correcting for limb darkening is 2.67±0.04 mas, which, at the estimated distance of this star, yields a physical size of about 46 times the radius of the Sun. The star is radiating around 560 times the solar luminosity from its outer atmosphere at an effective temperature of 3,940 K.\\n\\n\\n== Naming ==\\nWith π1, π2, σ2, ρ, A and d, it composed the Arabic asterism Al Ṭhibā᾽, the Gazelle. According to the catalogue of stars in the Technical Memorandum 33-507 - A Reduced Star Catalog Containing 537 Named Stars, Al Ṭhibā were the title for seven stars : A as Althiba I, this star (π1) as Althiba II, π2 as Althiba III, ρ as Althiba IV, this star (σ1) as Althiba V, σ2 as Althiba VI, and d as Althiba VII.\\n\\n\\n== References =='),\n",
              " Document(metadata={'title': '15 Leonis Minoris', 'summary': \"15 Leonis Minoris is the Flamsteed designation for a single star in the northern circumpolar constellation of Ursa Major. It has an apparent visual magnitude of 5.08, making it a fifth magnitude star that is visible to the naked eye. Based on parallax measurements, it is located at a distance of 61.7 light years from the Sun. The star has been examined for an infrared excess, but none was detected.\\nThis star has a stellar classification of G0 IV-V with an age of about 9.3 billion years, which suggests that it is an older G-type main sequence star that may be evolving into a subgiant as the hydrogen at its core runs out. The estimated mass of the star is 15% greater than the Sun's mass, and it is larger in girth than the Sun by +52%. It is spinning with a projected rotational velocity of 4 km/s. The star is radiating almost three times the luminosity of the Sun from its photosphere at an effective temperature of 5,859 K, giving it the yellow-hued glow of a G-type star.\", 'source': 'https://en.wikipedia.org/wiki/15_Leonis_Minoris'}, page_content=\"15 Leonis Minoris is the Flamsteed designation for a single star in the northern circumpolar constellation of Ursa Major. It has an apparent visual magnitude of 5.08, making it a fifth magnitude star that is visible to the naked eye. Based on parallax measurements, it is located at a distance of 61.7 light years from the Sun. The star has been examined for an infrared excess, but none was detected.\\nThis star has a stellar classification of G0 IV-V with an age of about 9.3 billion years, which suggests that it is an older G-type main sequence star that may be evolving into a subgiant as the hydrogen at its core runs out. The estimated mass of the star is 15% greater than the Sun's mass, and it is larger in girth than the Sun by +52%. It is spinning with a projected rotational velocity of 4 km/s. The star is radiating almost three times the luminosity of the Sun from its photosphere at an effective temperature of 5,859 K, giving it the yellow-hued glow of a G-type star.\\n\\n\\n== References ==\"),\n",
              " Document(metadata={'title': 'Tau Ursae Majoris', 'summary': \"Tau Ursae Majoris (τ UMa) is the Bayer designation for a binary star in the northern circumpolar constellation of Ursa Major. It is visible to the naked eye, having an apparent visual magnitude of 4.66. With an annual parallax shift of 25.82 mas, it is located about 126 light years from the Sun. At that distance, the visual magnitude is diminished by an extinction factor of 0.19 due to interstellar dust.\\nThis is a single-lined spectroscopic binary star system with an orbital period of 2.9 years and an eccentricity of 0.48. The primary member, component A, is an evolved bright giant with a stellar classification of kA5hF0mF5 II. This notation indicates the star's spectrum shows the calcium K lines of an A5 star, the hydrogen lines of an F0 star, and the metallic lines of an F5 star. It is an evolved Am star of the ρ Puppis type, a class of evolved stars showing the Am chemical peculiarities.  It is located in the instability strip of the Hertzsprung–Russell diagram but is not thought to be variable.\\n\\n\", 'source': 'https://en.wikipedia.org/wiki/Tau_Ursae_Majoris'}, page_content=\"Tau Ursae Majoris (τ UMa) is the Bayer designation for a binary star in the northern circumpolar constellation of Ursa Major. It is visible to the naked eye, having an apparent visual magnitude of 4.66. With an annual parallax shift of 25.82 mas, it is located about 126 light years from the Sun. At that distance, the visual magnitude is diminished by an extinction factor of 0.19 due to interstellar dust.\\nThis is a single-lined spectroscopic binary star system with an orbital period of 2.9 years and an eccentricity of 0.48. The primary member, component A, is an evolved bright giant with a stellar classification of kA5hF0mF5 II. This notation indicates the star's spectrum shows the calcium K lines of an A5 star, the hydrogen lines of an F0 star, and the metallic lines of an F5 star. It is an evolved Am star of the ρ Puppis type, a class of evolved stars showing the Am chemical peculiarities.  It is located in the instability strip of the Hertzsprung–Russell diagram but is not thought to be variable.\\n\\n\\n== Naming ==\\nWith φ, h, υ, θ, e, and f, it composed the Arabic asterism Sarīr Banāt al-Na'sh, the Throne of the daughters of Na'sh, and Al-Haud, the Pond. According to the catalogue of stars in the Technical Memorandum 33-507 - A Reduced Star Catalog Containing 537 Named Stars, Al-Haud were the title for seven stars : f as Alhaud I, this star (τ) as Alhaud II, e as Alhaud III, h as Alhaud IV, θ as Alhaud V, υ as Alhaud VI and φ as Alhaud VII .\\n\\n\\n== References ==\"),\n",
              " Document(metadata={'title': 'Upsilon Ursae Majoris', 'summary': \"Upsilon Ursae Majoris, Latinized from υ Ursae Majoris, is a binary star in the northern circumpolar constellation of Ursa Major. It is visible to the naked eye with an apparent visual magnitude of +3.79. Based upon an annual parallax shift of 13.24 mas, it is located roughly 246 light-years from the Sun.\\n\\nThe primary member of the system, component A, is an F-type subgiant star. It is a Delta Scuti variable with a period of 0.1327 day and an amplitude of 0.050 magnitude. With an estimated age of 1.168 billion years, it is spinning rapidly with a projected rotational velocity of 124.2 km/s and a rotation period of 1.2 days. The star has about 1.57 times the mass of the Sun and 2.79 times the Sun's radius. (De Rosa and colleagues give a mass estimate of 2.2 times the Sun's mass.) It is radiating around 29.5 times the solar luminosity from its outer atmosphere at an effective temperature of 7,211 K.\\nThe companion, component B, is a magnitude +11.0 star. As of 2008, it has an angular separation of 11.78 arcseconds along a position angle of 295.4°. This corresponds to a projected separation of 419.8 AU. It has a mass around 40% that of the Sun.\", 'source': 'https://en.wikipedia.org/wiki/Upsilon_Ursae_Majoris'}, page_content=\"Upsilon Ursae Majoris, Latinized from υ Ursae Majoris, is a binary star in the northern circumpolar constellation of Ursa Major. It is visible to the naked eye with an apparent visual magnitude of +3.79. Based upon an annual parallax shift of 13.24 mas, it is located roughly 246 light-years from the Sun.\\n\\nThe primary member of the system, component A, is an F-type subgiant star. It is a Delta Scuti variable with a period of 0.1327 day and an amplitude of 0.050 magnitude. With an estimated age of 1.168 billion years, it is spinning rapidly with a projected rotational velocity of 124.2 km/s and a rotation period of 1.2 days. The star has about 1.57 times the mass of the Sun and 2.79 times the Sun's radius. (De Rosa and colleagues give a mass estimate of 2.2 times the Sun's mass.) It is radiating around 29.5 times the solar luminosity from its outer atmosphere at an effective temperature of 7,211 K.\\nThe companion, component B, is a magnitude +11.0 star. As of 2008, it has an angular separation of 11.78 arcseconds along a position angle of 295.4°. This corresponds to a projected separation of 419.8 AU. It has a mass around 40% that of the Sun.\\n\\n\\n== Naming ==\\nWith τ, h, φ, θ, e and f, it composed the Arabic asterism Sarīr Banāt al-Na'sh, the Throne of the daughters of Na'sh, and Al-Haud, the Pond. According to the catalogue of stars in the Technical Memorandum 33-507 - A Reduced Star Catalog Containing 537 Named Stars, Al-Haud were the title for seven stars : f as Alhaud I, τ as Alhaud II, e as Alhaud III, h as Alhaud IV, θ as Alhaud V, this star (υ) as Alhaud VI and φ as Alhaud VII .\\nIn Chinese, 文昌 (Wén Chāng), meaning Administrative Center, refers to an asterism consisting of υ Ursae Majoris, φ Ursae Majoris, θ Ursae Majoris, 15 Ursae Majoris and 18 Ursae Majoris. Consequently, the Chinese name for υ Ursae Majoris itself is 文昌一 (Wén Chāng yī, English: the first Star of Administrative Center.).\\n\\n\\n== References ==\"),\n",
              " Document(metadata={'title': 'Rho Ursae Majoris', 'summary': 'Rho Ursae Majoris (ρ UMa) is the Bayer designation for a solitary star in the northern circumpolar constellation of Ursa Major. It is faintly visible to the naked eye with an apparent visual magnitude of 4.74. The distance to this star, based upon an annual parallax shift of 10.37 mas, is around 315 light years.\\nWith a stellar classification of M3 III, this is a red giant star on the asymptotic giant branch. It is a suspected small amplitude variable. The measured angular diameter of the star after correcting for limb darkening is 5.64±0.15 mas, which, at the estimated distance of this star, yields a physical size of about 58 times the radius of the Sun. It is radiating 464 times the solar luminosity from its outer atmosphere at an effective temperature of about 3,725 K. Based upon its motion through space, there is a 60.6% chance that this star is a member of the Sirius stream.', 'source': 'https://en.wikipedia.org/wiki/Rho_Ursae_Majoris'}, page_content='Rho Ursae Majoris (ρ UMa) is the Bayer designation for a solitary star in the northern circumpolar constellation of Ursa Major. It is faintly visible to the naked eye with an apparent visual magnitude of 4.74. The distance to this star, based upon an annual parallax shift of 10.37 mas, is around 315 light years.\\nWith a stellar classification of M3 III, this is a red giant star on the asymptotic giant branch. It is a suspected small amplitude variable. The measured angular diameter of the star after correcting for limb darkening is 5.64±0.15 mas, which, at the estimated distance of this star, yields a physical size of about 58 times the radius of the Sun. It is radiating 464 times the solar luminosity from its outer atmosphere at an effective temperature of about 3,725 K. Based upon its motion through space, there is a 60.6% chance that this star is a member of the Sirius stream.\\n\\n\\n== Naming ==\\nWith π1, π2, σ1, σ2, A and d, it composed the Arabic asterism Al Ṭhibā᾽, the Gazelle. According to the catalogue of stars in the Technical Memorandum 33-507 - A Reduced Star Catalog Containing 537 Named Stars, Al Ṭhibā were the title for seven stars : A as Althiba I, π1 as Althiba II, π2 as Althiba III, this star (ρ) as Althiba IV, σ1 as Althiba V, σ2 as Althiba VI, and d as Althiba VII\\nIn Chinese, 三師 (Sān Shī), meaning Three Top Instructors, refers to an asterism consisting of ρ Ursae Majoris and σ2 Ursae Majoris. Consequently, the Chinese name for ρ Ursae Majoris itself is 三師一 (Sān Shī yī, English: the First Star of Three Top Instructors.).\\n\\n\\n== References =='),\n",
              " Document(metadata={'title': 'Omega Ursae Majoris', 'summary': 'Omega Ursae Majoris (Omega UMa, ω Ursae Majoris, ω UMa) is a binary star system in the northern circumpolar constellation of Ursa Major. It is visible to the naked eye with an apparent visual magnitude of 4.61. Based upon an annual parallax shift of 13.24 mas, it is roughly 246 light years from the Sun. At that distance, the visual magnitude of the star is diminished by an extinction factor of 0.11 due to interstellar dust.\\nThis is a single-lined spectroscopic binary star system with an orbital period of 15.8 days and an eccentricity of 0.31. The primary member, component A, is an A-type main sequence star with a stellar classification of A1VsSi:. The stellar spectrum has the appearance of a hot Am star, showing overabundances of many iron-peak and heavier elements, but an underabundance of helium. In particular, it has an abnormal abundance of silicon.\\n\\n', 'source': 'https://en.wikipedia.org/wiki/Omega_Ursae_Majoris'}, page_content='Omega Ursae Majoris (Omega UMa, ω Ursae Majoris, ω UMa) is a binary star system in the northern circumpolar constellation of Ursa Major. It is visible to the naked eye with an apparent visual magnitude of 4.61. Based upon an annual parallax shift of 13.24 mas, it is roughly 246 light years from the Sun. At that distance, the visual magnitude of the star is diminished by an extinction factor of 0.11 due to interstellar dust.\\nThis is a single-lined spectroscopic binary star system with an orbital period of 15.8 days and an eccentricity of 0.31. The primary member, component A, is an A-type main sequence star with a stellar classification of A1VsSi:. The stellar spectrum has the appearance of a hot Am star, showing overabundances of many iron-peak and heavier elements, but an underabundance of helium. In particular, it has an abnormal abundance of silicon.\\n\\n\\n== Naming ==\\nIn Chinese, 天牢 (Tiān Láo), meaning Celestial Prison, refers to an asterism consisting of ω Ursae Majoris, 57 Ursae Majoris, 47 Ursae Majoris, 58 Ursae Majoris, 49 Ursae Majoris and 56 Ursae Majoris. Consequently, the Chinese name for ω Ursae Majoris itself is 天牢一 (Tiān Láo yī, English: the First Star of Celestial Prison.).\\n\\n\\n== References =='),\n",
              " Document(metadata={'title': 'HD 111456', 'summary': 'HD 111456 is a yellow-white hued star in the northern circumpolar constellation of Ursa Major. It is dimly visible to the naked eye, having an apparent visual magnitude of 5.85. Based upon an annual parallax shift of 38.2 mas as seen from Earth, it is located about 85 light years from the Sun. The star is moving closer to the Sun with a radial velocity of −18 km/s. HD 111456 is a nucleus cluster member of the Ursa Major Moving Group, a set of stars that are moving through space with a similar heading and velocity. Six other stars in the nucleus of the group are prominent members of the Big Dipper asterism.\\nThe stellar classification for this star is F7 V, indicating that it is an ordinary F-type main-sequence star. It is young, around 300−400 million years of age, and is spinning with a relatively high projected rotational velocity of 41.5 km/s. This is one of the most active F-type stars known, and it is a strong emitter of X-rays and an extreme UV source. It is an astrometric binary with a period of four years and a mass ratio of 0.5. Hence, the companion may be a young white dwarf star.', 'source': 'https://en.wikipedia.org/wiki/HD_111456'}, page_content='HD 111456 is a yellow-white hued star in the northern circumpolar constellation of Ursa Major. It is dimly visible to the naked eye, having an apparent visual magnitude of 5.85. Based upon an annual parallax shift of 38.2 mas as seen from Earth, it is located about 85 light years from the Sun. The star is moving closer to the Sun with a radial velocity of −18 km/s. HD 111456 is a nucleus cluster member of the Ursa Major Moving Group, a set of stars that are moving through space with a similar heading and velocity. Six other stars in the nucleus of the group are prominent members of the Big Dipper asterism.\\nThe stellar classification for this star is F7 V, indicating that it is an ordinary F-type main-sequence star. It is young, around 300−400 million years of age, and is spinning with a relatively high projected rotational velocity of 41.5 km/s. This is one of the most active F-type stars known, and it is a strong emitter of X-rays and an extreme UV source. It is an astrometric binary with a period of four years and a mass ratio of 0.5. Hence, the companion may be a young white dwarf star.\\n\\n\\n== References =='),\n",
              " Document(metadata={'title': 'C Ursae Majoris', 'summary': \"c Ursae Majoris is the Bayer designation for a double-lined spectroscopic binary star system in the northern constellation of Ursa Major. It has an apparent visual magnitude of 5.18, which indicates that is visible to the naked eye. Parallax measurements yield an estimated distance of 66 light years from the Sun. The star is moving closer to the Earth with a heliocentric radial velocity of −14 km/s.\\nThe spectroscopic binary nature of this system was among the first 75 such discovered by the Dominion Astrophysical Observatory in 1919. The pair orbit each other every 16.2 days with an eccentricity of 0.1. The semimajor axis of their orbit has an angle of around 2.9 mas, and the plane of the orbit is inclined to the line of sight at an angle of around 106°.\\nThe primary component has a stellar classification of G0 V, suggesting that it is a G-type main sequence star similar to ι Per. It has a mass of about 1.2 times the mass of the Sun, and 2.6 times the Sun's radius. The magnitude difference between the two components is estimated to be 4.5±0.6. The estimated properties of the secondary indicate that it is most likely a K-type main sequence star. The system displays no indication of chromospheric activity.\\nThe system has been examined for evidence of an infrared excess that could indicate the presence of a circumstellar debris disk, but none has been found. At present, c UMa is moving in Earth's direction with a radial velocity of −14.3 km/s. Perihelion passage will occur in 1.3 million years when the system comes within 10 ly (4 pc) of the Sun. This is most likely a member of the Milky Way's thin disk population of stars.\", 'source': 'https://en.wikipedia.org/wiki/C_Ursae_Majoris'}, page_content=\"c Ursae Majoris is the Bayer designation for a double-lined spectroscopic binary star system in the northern constellation of Ursa Major. It has an apparent visual magnitude of 5.18, which indicates that is visible to the naked eye. Parallax measurements yield an estimated distance of 66 light years from the Sun. The star is moving closer to the Earth with a heliocentric radial velocity of −14 km/s.\\nThe spectroscopic binary nature of this system was among the first 75 such discovered by the Dominion Astrophysical Observatory in 1919. The pair orbit each other every 16.2 days with an eccentricity of 0.1. The semimajor axis of their orbit has an angle of around 2.9 mas, and the plane of the orbit is inclined to the line of sight at an angle of around 106°.\\nThe primary component has a stellar classification of G0 V, suggesting that it is a G-type main sequence star similar to ι Per. It has a mass of about 1.2 times the mass of the Sun, and 2.6 times the Sun's radius. The magnitude difference between the two components is estimated to be 4.5±0.6. The estimated properties of the secondary indicate that it is most likely a K-type main sequence star. The system displays no indication of chromospheric activity.\\nThe system has been examined for evidence of an infrared excess that could indicate the presence of a circumstellar debris disk, but none has been found. At present, c UMa is moving in Earth's direction with a radial velocity of −14.3 km/s. Perihelion passage will occur in 1.3 million years when the system comes within 10 ly (4 pc) of the Sun. This is most likely a member of the Milky Way's thin disk population of stars.\\n\\n\\n== References ==\")]"
            ]
          },
          "metadata": {},
          "execution_count": 6
        }
      ]
    },
    {
      "cell_type": "code",
      "source": [
        "len(raw_documents)"
      ],
      "metadata": {
        "colab": {
          "base_uri": "https://localhost:8080/"
        },
        "id": "-fDHKlCd0AHw",
        "outputId": "fcd86295-c4ef-4c0e-9487-55df591a7542"
      },
      "execution_count": 7,
      "outputs": [
        {
          "output_type": "execute_result",
          "data": {
            "text/plain": [
              "19"
            ]
          },
          "metadata": {},
          "execution_count": 7
        }
      ]
    },
    {
      "cell_type": "code",
      "source": [
        "# chunking\n",
        "from langchain.text_splitter import TokenTextSplitter\n",
        "text_splitter = TokenTextSplitter(chunk_size=512, chunk_overlap=24)\n",
        "documents = text_splitter.split_documents(raw_documents)"
      ],
      "metadata": {
        "id": "wRH2YxDN0AEd"
      },
      "execution_count": 8,
      "outputs": []
    },
    {
      "cell_type": "code",
      "source": [
        "# create graph\n",
        "from langchain_experimental.graph_transformers.llm import LLMGraphTransformer #(Runs the query and generated the graph )\n",
        "llm_transformer=LLMGraphTransformer(llm=llm)"
      ],
      "metadata": {
        "id": "vF23gHtaz-re"
      },
      "execution_count": 9,
      "outputs": []
    },
    {
      "cell_type": "code",
      "source": [
        "# Convert the document to graph document\n",
        "graph_documents=llm_transformer.convert_to_graph_documents(documents)"
      ],
      "metadata": {
        "id": "6h-QgYB1YkwV"
      },
      "execution_count": 10,
      "outputs": []
    },
    {
      "cell_type": "code",
      "source": [
        "graph_documents # For proper visualizing(https://llm-graph-builder.neo4jlabs.com/)"
      ],
      "metadata": {
        "id": "dx6cGeR6z-lB",
        "colab": {
          "base_uri": "https://localhost:8080/"
        },
        "outputId": "3b76a784-e4d8-454b-805d-1090f69d7fb4"
      },
      "execution_count": 11,
      "outputs": [
        {
          "output_type": "execute_result",
          "data": {
            "text/plain": [
              "[GraphDocument(nodes=[Node(id='Ngc 4144', type='Galaxy', properties={}), Node(id='William Herschel', type='Person', properties={}), Node(id='Ursa Major', type='Constellation', properties={}), Node(id='Iras F12074+4644', type='Catalog name', properties={}), Node(id='2Masx J12095860+4627258', type='Catalog name', properties={}), Node(id='Ugc 7151', type='Catalog name', properties={}), Node(id='Pgc 38688', type='Catalog name', properties={}), Node(id='Ursa Major Group', type='Galaxy group', properties={}), Node(id='Earth', type='Planet', properties={})], relationships=[Relationship(source=Node(id='William Herschel', type='Person', properties={}), target=Node(id='Ngc 4144', type='Galaxy', properties={}), type='DISCOVERED', properties={}), Relationship(source=Node(id='Ngc 4144', type='Galaxy', properties={}), target=Node(id='Ursa Major', type='Constellation', properties={}), type='LOCATED_IN', properties={}), Relationship(source=Node(id='Ngc 4144', type='Galaxy', properties={}), target=Node(id='Iras F12074+4644', type='Catalog name', properties={}), type='ALSO_KNOWN_AS', properties={}), Relationship(source=Node(id='Ngc 4144', type='Galaxy', properties={}), target=Node(id='2Masx J12095860+4627258', type='Catalog name', properties={}), type='ALSO_KNOWN_AS', properties={}), Relationship(source=Node(id='Ngc 4144', type='Galaxy', properties={}), target=Node(id='Ugc 7151', type='Catalog name', properties={}), type='ALSO_KNOWN_AS', properties={}), Relationship(source=Node(id='Ngc 4144', type='Galaxy', properties={}), target=Node(id='Pgc 38688', type='Catalog name', properties={}), type='ALSO_KNOWN_AS', properties={}), Relationship(source=Node(id='Ngc 4144', type='Galaxy', properties={}), target=Node(id='Ursa Major Group', type='Galaxy group', properties={}), type='PART_OF', properties={}), Relationship(source=Node(id='Ngc 4144', type='Galaxy', properties={}), target=Node(id='Earth', type='Planet', properties={}), type='_OBSERVABLE_FROM', properties={})], source=Document(metadata={'title': 'NGC 4144', 'summary': 'NGC 4144 is a barred spiral galaxy located in the Ursa Major constellation. It was discovered by the German-born British astronomer William Herschel on April 10, 1788. The galaxy is also known by several other catalog names, including IRAS F12074+4644, 2MASX J12095860+4627258, UGC 7151, and PGC 38688. It has an apparent magnitude of 12.17 in the blue band.', 'source': 'https://en.wikipedia.org/wiki/NGC_4144'}, page_content='NGC 4144 is a barred spiral galaxy located in the Ursa Major constellation. It was discovered by the German-born British astronomer William Herschel on April 10, 1788. The galaxy is also known by several other catalog names, including IRAS F12074+4644, 2MASX J12095860+4627258, UGC 7151, and PGC 38688. It has an apparent magnitude of 12.17 in the blue band.\\n\\n\\n== Description ==\\nNGC 4144 is a barred spiral galaxy classified as Im/BCD C, meaning it displays features of both irregular and blue compact dwarf galaxies. The galaxy is situated approximately 40 million light-years away from Earth. It is part of the Ursa Major Group, which consists of several galaxies in close proximity to each other. NGC 4144 is particularly notable for its faint appearance and for being relatively difficult to observe without a telescope due to its low luminosity.\\n\\n\\n== Gallery ==\\n\\n\\t\\t\\n\\t\\t\\t\\n\\t\\t\\t\\n\\t\\t\\n\\t\\t\\n\\t\\t\\t\\n\\t\\t\\t\\n\\t\\t\\n\\t\\t\\n\\t\\t\\t\\n\\t\\t\\t\\n\\t\\t\\n\\n\\n== References ==\\n\\n\\n== External links ==\\n Media related to NGC 4144 at Wikimedia Commons')),\n",
              " GraphDocument(nodes=[Node(id='Ngc', type='Catalogue', properties={}), Node(id='New General Catalogue', type='Catalogue', properties={}), Node(id='Star Clusters', type='Astronomical object', properties={}), Node(id='Nebulae', type='Astronomical object', properties={}), Node(id='Galaxies', type='Astronomical object', properties={}), Node(id='Jjiko. L. E. Dreyer', type='Person', properties={}), Node(id='Vizier Service', type='Database', properties={}), Node(id='Nasa/Ipac Extragalactic Database', type='Database', properties={}), Node(id='Simbad Astronomical Database', type='Database', properties={})], relationships=[Relationship(source=Node(id='Ngc', type='Catalogue', properties={}), target=Node(id='Star Clusters', type='Astronomical object', properties={}), type='CONTAINS', properties={}), Relationship(source=Node(id='Ngc', type='Catalogue', properties={}), target=Node(id='Nebulae', type='Astronomical object', properties={}), type='CONTAINS', properties={}), Relationship(source=Node(id='Ngc', type='Catalogue', properties={}), target=Node(id='Galaxies', type='Astronomical object', properties={}), type='CONTAINS', properties={}), Relationship(source=Node(id='Jjiko. L. E. Dreyer', type='Person', properties={}), target=Node(id='The Complete New General Catalogue And Index Catalogue Of Nebulae And Star Clusters', type='Book', properties={}), type='AUTHOR', properties={}), Relationship(source=Node(id='Vizier Service', type='Database', properties={}), target=Node(id='The Complete New General Catalogue And Index Catalogue Of Nebulae And Star Clusters', type='Book', properties={}), type='SOURCE', properties={}), Relationship(source=Node(id='Nasa/Ipac Extragalactic Database', type='Database', properties={}), target=Node(id='Galaxy Types', type='Data', properties={}), type='PROVIDER', properties={}), Relationship(source=Node(id='Simbad Astronomical Database', type='Database', properties={}), target=Node(id='Astronomical Data', type='Data', properties={}), type='PROVIDER', properties={})], source=Document(metadata={'title': 'List of NGC objects (4001–5000)', 'summary': 'This is a list of NGC objects 4001–5000 from the New General Catalogue (NGC). The astronomical catalogue is composed mainly of star clusters, nebulae, and galaxies. Other objects in the catalogue can be found in the other subpages of the list of NGC objects.\\nThe constellation information in these tables is taken from The Complete New General Catalogue and Index Catalogue of Nebulae and Star Clusters by Jjiko. L. E. Dreyer, which was accessed using the \"VizieR Service\". Galaxy types are identified using the NASA/IPAC Extragalactic Database. The other data in these tables are from the SIMBAD Astronomical Database unless otherwise stated.', 'source': 'https://en.wikipedia.org/wiki/List_of_NGC_objects_(4001%E2%80%935000)'}, page_content='This is a list of NGC objects 4001–5000 from the New General Catalogue (NGC). The astronomical catalogue is composed mainly of star clusters, nebulae, and galaxies. Other objects in the catalogue can be found in the other subpages of the list of NGC objects.\\nThe constellation information in these tables is taken from The Complete New General Catalogue and Index Catalogue of Nebulae and Star Clusters by Jjiko. L. E. Dreyer, which was accessed using the \"VizieR Service\". Galaxy types are identified using the NASA/IPAC Extragalactic Database. The other data in these tables are from the SIMBAD Astronomical Database unless otherwise stated.\\n\\n\\n== 4001–4100 ==\\n\\n\\n== 4101–4200 ==\\n\\n\\n== 4201-4300 ==\\n\\n\\n== 4301–4400 ==\\n\\n\\n== 4401–4500 ==\\n\\n\\n== 4501–4600 ==\\n\\n\\n== 4601–4700 ==\\n\\n\\n== 4701–4800 ==\\n\\n\\n== 4801–4900 ==\\n\\n\\n== 4901–5000 ==\\n\\n\\n== See also ==\\nLists of astronomical objects\\n\\n\\n== References ==')),\n",
              " GraphDocument(nodes=[Node(id='M94 Group', type='Galaxy group', properties={}), Node(id='Canes Venatici', type='Constellation', properties={}), Node(id='Coma Berenices', type='Constellation', properties={}), Node(id='Virgo Supercluster', type='Supercluster', properties={}), Node(id='Local Group', type='Galaxy group', properties={}), Node(id='Ngc 4105', type='Galaxy', properties={}), Node(id='Ddo 169', type='Galaxy', properties={}), Node(id='M106', type='Galaxy', properties={}), Node(id='M94', type='Galaxy', properties={}), Node(id='Canes Venatici Cloud', type='Galaxy cloud', properties={})], relationships=[Relationship(source=Node(id='M94 Group', type='Galaxy group', properties={}), target=Node(id='Canes Venatici', type='Constellation', properties={}), type='LOCATED_IN', properties={}), Relationship(source=Node(id='M94 Group', type='Galaxy group', properties={}), target=Node(id='Coma Berenices', type='Constellation', properties={}), type='LOCATED_IN', properties={}), Relationship(source=Node(id='M94 Group', type='Galaxy group', properties={}), target=Node(id='Virgo Supercluster', type='Supercluster', properties={}), type='PART_OF', properties={}), Relationship(source=Node(id='M94 Group', type='Galaxy group', properties={}), target=Node(id='Local Group', type='Galaxy group', properties={}), type='NEAR', properties={}), Relationship(source=Node(id='Ngc 4105', type='Galaxy', properties={}), target=Node(id='M94 Group', type='Galaxy group', properties={}), type='MEMBER_OF', properties={}), Relationship(source=Node(id='Ddo 169', type='Galaxy', properties={}), target=Node(id='M94 Group', type='Galaxy group', properties={}), type='MEMBER_OF', properties={}), Relationship(source=Node(id='M106', type='Galaxy', properties={}), target=Node(id='M94 Group', type='Galaxy group', properties={}), type='POSSIBLE_MEMBER_OF', properties={}), Relationship(source=Node(id='M94', type='Galaxy', properties={}), target=Node(id='M94 Group', type='Galaxy group', properties={}), type='MEMBER_OF', properties={}), Relationship(source=Node(id='M94 Group', type='Galaxy group', properties={}), target=Node(id='Canes Venatici Cloud', type='Galaxy cloud', properties={}), type='PART_OF', properties={})], source=Document(metadata={'title': 'M94 Group', 'summary': 'The M94 Group (Canes I Group or Canes Venatici I Group) is a loose, extended group of galaxies located about 13 million light-years away in the constellations Canes Venatici and Coma Berenices.  The group is one of many groups that lies within the Virgo Supercluster (i.e. the Local Supercluster) and one of the closest groups to the Local Group.\\nAlthough the galaxies in this cluster appear to be from a single large cloud-like structure, many of the galaxies within the group are only weakly gravitationally bound, and some have not yet formed stable orbits around the center of this group.  Instead, most of the galaxies in this group appear to be moving with the expansion of the universe.', 'source': 'https://en.wikipedia.org/wiki/M94_Group'}, page_content='The M94 Group (Canes I Group or Canes Venatici I Group) is a loose, extended group of galaxies located about 13 million light-years away in the constellations Canes Venatici and Coma Berenices.  The group is one of many groups that lies within the Virgo Supercluster (i.e. the Local Supercluster) and one of the closest groups to the Local Group.\\nAlthough the galaxies in this cluster appear to be from a single large cloud-like structure, many of the galaxies within the group are only weakly gravitationally bound, and some have not yet formed stable orbits around the center of this group.  Instead, most of the galaxies in this group appear to be moving with the expansion of the universe.\\n\\n\\n== Members ==\\nThe table below lists galaxies that have been consistently identified as group members in the Nearby Galaxies Catalog, the Lyons Groups of Galaxies (LGG) Catalog, and the three group lists created from the Nearby Optical Galaxy sample of Giuricin et al.\\n\\nAdditionally, NGC 4105 and DDO 169 are frequently but not consistently identified as members of this group in the references cited above.\\nThe brightest member in this galaxy group is questionable and partly depends on the analysis used to determine group members.  The LGG Catalog identifies M106 as part of this group, which would make it the brightest galaxy within the group.  However, the other catalogs cited above do not identify M106 as a group member, in which case M94 would be the brightest galaxy within the group.\\n\\n\\n== Canes Venatici Cloud ==\\nThis galaxy group is sometimes erroneously called the Canes Venatici Cloud, a larger structure of which it is a member. A galaxy cloud is a supercluster substructure. The CVn Cloud used in this manner is identified by Tully and de Vaucoleurs.\\n\\n\\n== See also ==\\nM96 Group\\nSculptor Group\\nCanes II Group (CVn II Group)\\n\\n\\n== References ==\\n\\n\\n== External links ==\\n Media related to M94 Group at Wikimedia Commons')),\n",
              " GraphDocument(nodes=[Node(id='Canes Ii Group', type='Galaxy group', properties={}), Node(id='Earth', type='Planet', properties={}), Node(id='Local Supercluster', type='Supercluster', properties={}), Node(id='M106', type='Barred spiral galaxy', properties={}), Node(id='Canes I Group', type='Galaxy group', properties={}), Node(id='Canes Venatici Cloud', type='Galaxy cloud', properties={})], relationships=[Relationship(source=Node(id='Canes Ii Group', type='Galaxy group', properties={}), target=Node(id='Local Supercluster', type='Supercluster', properties={}), type='PART_OF', properties={}), Relationship(source=Node(id='M106', type='Barred spiral galaxy', properties={}), target=Node(id='Canes Ii Group', type='Galaxy group', properties={}), type='PART_OF', properties={}), Relationship(source=Node(id='Canes Ii Group', type='Galaxy group', properties={}), target=Node(id='Earth', type='Planet', properties={}), type='LOCATED_NEAR', properties={}), Relationship(source=Node(id='Canes I Group', type='Galaxy group', properties={}), target=Node(id='Canes Ii Group', type='Galaxy group', properties={}), type='RELATED_TO', properties={}), Relationship(source=Node(id='Canes Venatici Cloud', type='Galaxy cloud', properties={}), target=Node(id='Canes Ii Group', type='Galaxy group', properties={}), type='RELATED_TO', properties={})], source=Document(metadata={'title': 'Canes II Group', 'summary': 'The Canes II Group or Canes Venatici II Group (CVn II Group) is a group of galaxies about 26.1 million light-years away from Earth. The group resides in the Local Supercluster. The largest galaxy within the cluster is M106 (NGC 4258), which is a barred spiral galaxy.', 'source': 'https://en.wikipedia.org/wiki/Canes_II_Group'}, page_content='The Canes II Group or Canes Venatici II Group (CVn II Group) is a group of galaxies about 26.1 million light-years away from Earth. The group resides in the Local Supercluster. The largest galaxy within the cluster is M106 (NGC 4258), which is a barred spiral galaxy.\\n\\n\\n== Galaxies in the Cluster ==\\nCanes II is directly behind Canes I, which makes it difficult to show which galaxy belongs in which cluster. It is generally accepted that the following galaxies belong in Canes II;\\n\\n\\n== References ==\\n\\n\\n== See also ==\\nCanes I Group (CVn I GrG)\\nCanes Venatici Cloud')),\n",
              " GraphDocument(nodes=[Node(id='Ngc 4041', type='Galaxy', properties={}), Node(id='William Herschel', type='Astronomer', properties={}), Node(id='Ursa Major', type='Constellation', properties={}), Node(id='Sun', type='Star', properties={}), Node(id='Earth', type='Planet', properties={}), Node(id='Giancarlo Cortini', type='Astronomer', properties={}), Node(id='Mirko Villi', type='Astronomer', properties={}), Node(id='Sn 1994W', type='Supernova', properties={}), Node(id='Lgg 266 Galaxy Group', type='Galaxy group', properties={}), Node(id='Ngc 4036', type='Galaxy', properties={}), Node(id='Ic 758', type='Galaxy', properties={}), Node(id='Ugc 7009', type='Galaxy', properties={}), Node(id='Ugc 7019', type='Galaxy', properties={})], relationships=[Relationship(source=Node(id='William Herschel', type='Astronomer', properties={}), target=Node(id='Ngc 4041', type='Galaxy', properties={}), type='DISCOVERED', properties={}), Relationship(source=Node(id='Ngc 4041', type='Galaxy', properties={}), target=Node(id='Ursa Major', type='Constellation', properties={}), type='LOCATED_IN', properties={}), Relationship(source=Node(id='Ngc 4041', type='Galaxy', properties={}), target=Node(id='Sun', type='Star', properties={}), type='ESTIMATED_DISTANCE_FROM', properties={}), Relationship(source=Node(id='Giancarlo Cortini', type='Astronomer', properties={}), target=Node(id='Sn 1994W', type='Supernova', properties={}), type='DISCOVERED', properties={}), Relationship(source=Node(id='Mirko Villi', type='Astronomer', properties={}), target=Node(id='Sn 1994W', type='Supernova', properties={}), type='DISCOVERED', properties={}), Relationship(source=Node(id='Ngc 4041', type='Galaxy', properties={}), target=Node(id='Lgg 266 Galaxy Group', type='Galaxy group', properties={}), type='MEMBER_OF', properties={}), Relationship(source=Node(id='Ngc 4041', type='Galaxy', properties={}), target=Node(id='Ngc 4036', type='Galaxy', properties={}), type='PAIR_WITH', properties={})], source=Document(metadata={'title': 'NGC 4041', 'summary': \"NGC 4041 is the New General Catalogue identifier for a spiral galaxy in the northern circumpolar constellation of Ursa Major. It is located an estimated 70 million light years from the Sun. It was discovered by the German-British astronomer William Herschel on 19 March 1790.\\nThe morphological classification of SA(rs)bc indicates this is a spiral galaxy the lacks a bar; the 'rs' means it has a weakly-formed ring structure, and the 'bc' indicates the spiral arms are moderately to loosely wound.\\nThe galaxy is inclined by around 20° to the line of sight from the Earth. It is forming new stars at the estimated rate of 4.10 M☉ yr−1, which is fairly typical for a galaxy of this morphology. The star formation rate is much higher in the central region, which may be the result of recent merger with a dwarf galaxy within the last 100 million years.\\nThis galaxy has no detected activity in the nuclear region. There is a rotating nuclear disk of high brightness at the core that is consistent with the presence of a compact mass of 1+0.6−0.7×107 M☉. Most likely this is a supermassive black hole (SMBH).\\nNGC 4041 is a member of the LGG 266 galaxy group, along with NGC 4036, IC 758, UGC 7009, and UGC 7019. It is located just 17 arc minutes from NGC 4036, and the two form a pair with a projected separation of around 470 kly (143 kpc).\", 'source': 'https://en.wikipedia.org/wiki/NGC_4041'}, page_content=\"NGC 4041 is the New General Catalogue identifier for a spiral galaxy in the northern circumpolar constellation of Ursa Major. It is located an estimated 70 million light years from the Sun. It was discovered by the German-British astronomer William Herschel on 19 March 1790.\\nThe morphological classification of SA(rs)bc indicates this is a spiral galaxy the lacks a bar; the 'rs' means it has a weakly-formed ring structure, and the 'bc' indicates the spiral arms are moderately to loosely wound.\\nThe galaxy is inclined by around 20° to the line of sight from the Earth. It is forming new stars at the estimated rate of 4.10 M☉ yr−1, which is fairly typical for a galaxy of this morphology. The star formation rate is much higher in the central region, which may be the result of recent merger with a dwarf galaxy within the last 100 million years.\\nThis galaxy has no detected activity in the nuclear region. There is a rotating nuclear disk of high brightness at the core that is consistent with the presence of a compact mass of 1+0.6−0.7×107 M☉. Most likely this is a supermassive black hole (SMBH).\\nNGC 4041 is a member of the LGG 266 galaxy group, along with NGC 4036, IC 758, UGC 7009, and UGC 7019. It is located just 17 arc minutes from NGC 4036, and the two form a pair with a projected separation of around 470 kly (143 kpc).\\n\\n\\n== Supernova ==\\nOn July 29, 1994, the type IIp supernova designated SN 1994W was discovered in this galaxy by Giancarlo Cortini and Mirko Villi. The event reached peak visual magnitude on August 13, and declined thereafter. It was located about 19 arc seconds to the northwest of the nucleus. This supernova was unusual for the exceptionally low quantity of nickel-56 released—indeed, it was the lowest inferred amount measured for any type II supernova as of that date. Based upon a possible detection of X-ray emission from the remnant, this may be a high-luminosity type IIn supernova.\\n\\n\\n== See also ==\\nList of NGC objects (4001–5000)\\n\\n\\n== References ==\\n\\n\\n== External links ==\\n Media related to NGC 4041 at Wikimedia Commons\")),\n",
              " GraphDocument(nodes=[Node(id='Ngc 4036', type='Galaxy', properties={}), Node(id='Ursa Major', type='Constellation', properties={}), Node(id='Big Dipper', type='Asterism', properties={}), Node(id='Alpha Ursae Majoris', type='Star', properties={}), Node(id='Delta Ursae Majoris', type='Star', properties={}), Node(id='Lgg 266', type='Galaxy group', properties={}), Node(id='Ngc 40', type='Galaxy', properties={})], relationships=[Relationship(source=Node(id='Ngc 4036', type='Galaxy', properties={}), target=Node(id='Ursa Major', type='Constellation', properties={}), type='LOCATED_IN', properties={}), Relationship(source=Node(id='Ngc 4036', type='Galaxy', properties={}), target=Node(id='Big Dipper', type='Asterism', properties={}), type='NEAR', properties={}), Relationship(source=Node(id='Ngc 4036', type='Galaxy', properties={}), target=Node(id='Alpha Ursae Majoris', type='Star', properties={}), type='NEAR', properties={}), Relationship(source=Node(id='Ngc 4036', type='Galaxy', properties={}), target=Node(id='Delta Ursae Majoris', type='Star', properties={}), type='NEAR', properties={}), Relationship(source=Node(id='Ngc 4036', type='Galaxy', properties={}), target=Node(id='Lgg 266', type='Galaxy group', properties={}), type='MEMBER_OF', properties={}), Relationship(source=Node(id='Ngc 40', type='Galaxy', properties={}), target=Node(id='Lgg 266', type='Galaxy group', properties={}), type='MEMBER_OF', properties={})], source=Document(metadata={'title': 'NGC 4036', 'summary': 'NGC 4036 is the New General Catalogue identifier for a lenticular galaxy  in the northern circumpolar constellation of Ursa Major. In the Carnegie Atlas of Galaxies, it is described as being \"characterized by an irregular\\npattern of dust lanes threaded through the disc in an \\'embryonic\\' spiral pattern indicating a mixed S0/Sa form.\" It is located near the Big Dipper, a little to the north of the mid-way point between the stars Alpha Ursae Majoris and Delta Ursae Majoris. With a visual magnitude of 10.7, it can be dimly viewed using a 4 in (10 cm) aperture telescope.\\nThe visual dimensions of this galaxy are 2.703 × 1.027 arc minutes, with the major axis having a position angle of 85°. The galaxy is being viewed nearly edge-on, with an inclination of 18° to the line of sight from the Earth. It is moving away from us with a heliocentric radial velocity of 1,445 km/s. The estimated visual luminosity of the galaxy is 4.2×1010 L⊙, or 42 billion times the brightness of the Sun. Photographs show a tightly wound spiral pattern in the galactic disk, with three dust lanes—the southern side of the galaxy appears dimmer due to the dust configuration. The mass of the free gas and dust in the galaxy is about 1.7×109 M⊙ and 4.4×105 M⊙, respectively, with around 7×104 M⊙ of the gas being in an ionized state.\\nThis is a type of active galaxy known as a LINER, which means that it shows emission lines of ionized gas in the region of its nucleus. Chemically, the stars at the center of the nucleus have a higher metallicity than in the neighboring regions. It appears that there is a tilted disk of stars orbiting the nucleus within a radius of 820 ly (250 pc). The galactic bulge itself appears triaxial with the ionized gas concentrated near the center of this bulge region. Images of the galaxy with the Hubble Space Telescope show a wispy disk of dust on all sides of the nucleus, with what appears to be the tendrilous remains of an ionization cone leading away 4 arc seconds to the northeast. Such features are common in Seyfert galaxies.\\nNGC 4036 is a member of the LGG 266 galaxy group, along with NGC 4041, IC 758, UGC 7009, and UGC 7019. It is located just 17 arc minutes from NGC 4041, and the two form a pair with a projected separation of around 470 kly (143 kpc).', 'source': 'https://en.wikipedia.org/wiki/NGC_4036'}, page_content='NGC 4036 is the New General Catalogue identifier for a lenticular galaxy  in the northern circumpolar constellation of Ursa Major. In the Carnegie Atlas of Galaxies, it is described as being \"characterized by an irregular\\npattern of dust lanes threaded through the disc in an \\'embryonic\\' spiral pattern indicating a mixed S0/Sa form.\" It is located near the Big Dipper, a little to the north of the mid-way point between the stars Alpha Ursae Majoris and Delta Ursae Majoris. With a visual magnitude of 10.7, it can be dimly viewed using a 4 in (10 cm) aperture telescope.\\nThe visual dimensions of this galaxy are 2.703 × 1.027 arc minutes, with the major axis having a position angle of 85°. The galaxy is being viewed nearly edge-on, with an inclination of 18° to the line of sight from the Earth. It is moving away from us with a heliocentric radial velocity of 1,445 km/s. The estimated visual luminosity of the galaxy is 4.2×1010 L⊙, or 42 billion times the brightness of the Sun. Photographs show a tightly wound spiral pattern in the galactic disk, with three dust lanes—the southern side of the galaxy appears dimmer due to the dust configuration. The mass of the free gas and dust in the galaxy is about 1.7×109 M⊙ and 4.4×105 M⊙, respectively, with around 7×104 M⊙ of the gas being in an ionized state.\\nThis is a type of active galaxy known as a LINER, which means that it shows emission lines of ionized gas in the region of its nucleus. Chemically, the stars at the center of the nucleus have a higher metallicity than in the neighboring regions. It appears that there is a tilted disk of stars orbiting the nucleus within a radius of 820 ly (250 pc). The galactic bulge itself appears triaxial with the ionized gas concentrated near the center of this bulge region. Images of the galaxy with the Hubble Space Telescope show a wispy disk of dust on all sides of the nucleus, with what appears to be the tendrilous remains of an ionization cone leading away 4 arc seconds to the northeast. Such features are common in Seyfert galaxies.\\nNGC 4036 is a member of the LGG 266 galaxy group, along with NGC 40')),\n",
              " GraphDocument(nodes=[Node(id='Ngc 4036', type='Galaxy', properties={}), Node(id='Ngc 4041', type='Galaxy', properties={}), Node(id='Ic 758', type='Galaxy', properties={}), Node(id='Ugc 7009', type='Galaxy', properties={}), Node(id='Ugc 7019', type='Galaxy', properties={}), Node(id='Lgg 266', type='Galaxy group', properties={}), Node(id='Sn 2007Gi', type='Supernova', properties={}), Node(id='Kōichi Itagaki', type='Person', properties={})], relationships=[Relationship(source=Node(id='Ngc 4036', type='Galaxy', properties={}), target=Node(id='Lgg 266', type='Galaxy group', properties={}), type='MEMBER', properties={}), Relationship(source=Node(id='Ngc 4041', type='Galaxy', properties={}), target=Node(id='Lgg 266', type='Galaxy group', properties={}), type='MEMBER', properties={}), Relationship(source=Node(id='Ic 758', type='Galaxy', properties={}), target=Node(id='Lgg 266', type='Galaxy group', properties={}), type='MEMBER', properties={}), Relationship(source=Node(id='Ugc 7009', type='Galaxy', properties={}), target=Node(id='Lgg 266', type='Galaxy group', properties={}), type='MEMBER', properties={}), Relationship(source=Node(id='Ugc 7019', type='Galaxy', properties={}), target=Node(id='Lgg 266', type='Galaxy group', properties={}), type='MEMBER', properties={}), Relationship(source=Node(id='Ngc 4036', type='Galaxy', properties={}), target=Node(id='Ngc 4041', type='Galaxy', properties={}), type='PAIR', properties={}), Relationship(source=Node(id='Sn 2007Gi', type='Supernova', properties={}), target=Node(id='Ngc 4036', type='Galaxy', properties={}), type='LOCATED_IN', properties={}), Relationship(source=Node(id='Kōichi Itagaki', type='Person', properties={}), target=Node(id='Sn 2007Gi', type='Supernova', properties={}), type='DISCOVERED', properties={})], source=Document(metadata={'title': 'NGC 4036', 'summary': 'NGC 4036 is the New General Catalogue identifier for a lenticular galaxy  in the northern circumpolar constellation of Ursa Major. In the Carnegie Atlas of Galaxies, it is described as being \"characterized by an irregular\\npattern of dust lanes threaded through the disc in an \\'embryonic\\' spiral pattern indicating a mixed S0/Sa form.\" It is located near the Big Dipper, a little to the north of the mid-way point between the stars Alpha Ursae Majoris and Delta Ursae Majoris. With a visual magnitude of 10.7, it can be dimly viewed using a 4 in (10 cm) aperture telescope.\\nThe visual dimensions of this galaxy are 2.703 × 1.027 arc minutes, with the major axis having a position angle of 85°. The galaxy is being viewed nearly edge-on, with an inclination of 18° to the line of sight from the Earth. It is moving away from us with a heliocentric radial velocity of 1,445 km/s. The estimated visual luminosity of the galaxy is 4.2×1010 L⊙, or 42 billion times the brightness of the Sun. Photographs show a tightly wound spiral pattern in the galactic disk, with three dust lanes—the southern side of the galaxy appears dimmer due to the dust configuration. The mass of the free gas and dust in the galaxy is about 1.7×109 M⊙ and 4.4×105 M⊙, respectively, with around 7×104 M⊙ of the gas being in an ionized state.\\nThis is a type of active galaxy known as a LINER, which means that it shows emission lines of ionized gas in the region of its nucleus. Chemically, the stars at the center of the nucleus have a higher metallicity than in the neighboring regions. It appears that there is a tilted disk of stars orbiting the nucleus within a radius of 820 ly (250 pc). The galactic bulge itself appears triaxial with the ionized gas concentrated near the center of this bulge region. Images of the galaxy with the Hubble Space Telescope show a wispy disk of dust on all sides of the nucleus, with what appears to be the tendrilous remains of an ionization cone leading away 4 arc seconds to the northeast. Such features are common in Seyfert galaxies.\\nNGC 4036 is a member of the LGG 266 galaxy group, along with NGC 4041, IC 758, UGC 7009, and UGC 7019. It is located just 17 arc minutes from NGC 4041, and the two form a pair with a projected separation of around 470 kly (143 kpc).', 'source': 'https://en.wikipedia.org/wiki/NGC_4036'}, page_content='ert galaxies.\\nNGC 4036 is a member of the LGG 266 galaxy group, along with NGC 4041, IC 758, UGC 7009, and UGC 7019. It is located just 17 arc minutes from NGC 4041, and the two form a pair with a projected separation of around 470 kly (143 kpc).\\n\\n\\n== Supernova ==\\nOne supernova has been observed in NGC 4036. SN 2007gi (type Ia, mag. 16.3) was discovered by Kōichi Itagaki on 23 July 2007, located near the central bulge of the galaxy. It reached peak magnitude around August 14, then steadily declined in brightness thereafter. Materials identified in the spectrum included silicon, calcium, and sulfur moving outward at velocities of around 15,500 km/s. This is a 50% higher velocity than what is normally observed with supernovae of this type.\\n\\n\\n== Gallery ==\\n\\n\\t\\t\\n\\t\\t\\t\\n\\t\\t\\t\\n\\t\\t\\n\\t\\t\\n\\t\\t\\t\\n\\t\\t\\t\\n\\t\\t\\n\\n\\n== References ==\\n\\n\\n== External links ==\\n Media related to NGC 4036 at Wikimedia Commons')),\n",
              " GraphDocument(nodes=[Node(id='Ngc 4614', type='Galaxy', properties={}), Node(id='New General Catalog', type='Catalog', properties={}), Node(id='Coma Berenices', type='Constellation', properties={}), Node(id=\"Heinrich D'Arrest\", type='Person', properties={}), Node(id='Sn 2018Ata', type='Supernova', properties={})], relationships=[Relationship(source=Node(id='Ngc 4614', type='Galaxy', properties={}), target=Node(id='New General Catalog', type='Catalog', properties={}), type='PART_OF', properties={}), Relationship(source=Node(id='Ngc 4614', type='Galaxy', properties={}), target=Node(id='Coma Berenices', type='Constellation', properties={}), type='LOCATED_IN', properties={}), Relationship(source=Node(id=\"Heinrich D'Arrest\", type='Person', properties={}), target=Node(id='Ngc 4614', type='Galaxy', properties={}), type='DISCOVERED', properties={}), Relationship(source=Node(id='Sn 2018Ata', type='Supernova', properties={}), target=Node(id='Ngc 4614', type='Galaxy', properties={}), type='OCCURRED_IN', properties={})], source=Document(metadata={'title': 'NGC 4614', 'summary': \"NGC 4614 is a barred lenticular galaxy in the New General Catalog. It is located in the constellation of Coma Berenices. It was discovered in 1864 by the German astronomer Heinrich d'Arrest with a 11.9 inch (11 inch) diameter lens type telescope.\\nOne supernova, SN 2018ata (type Ia, mag. 20), was discovered in NGC 4614 on 10 April 2018.\", 'source': 'https://en.wikipedia.org/wiki/NGC_4614'}, page_content=\"NGC 4614 is a barred lenticular galaxy in the New General Catalog. It is located in the constellation of Coma Berenices. It was discovered in 1864 by the German astronomer Heinrich d'Arrest with a 11.9 inch (11 inch) diameter lens type telescope.\\nOne supernova, SN 2018ata (type Ia, mag. 20), was discovered in NGC 4614 on 10 April 2018.\\n\\n\\n== References ==\\n\\n\\n== External links ==\\n Media related to NGC 4614 at Wikimedia Commons\\nSEDS\")),\n",
              " GraphDocument(nodes=[Node(id='Ngc 4701', type='Galaxy', properties={}), Node(id='Virgo', type='Constellation', properties={}), Node(id='William Herschel', type='Person', properties={}), Node(id='Virgo Ii Groups', type='Galaxy group', properties={}), Node(id='Virgo Supercluster', type='Galaxy supercluster', properties={}), Node(id='M49 Group', type='Galaxy group', properties={})], relationships=[Relationship(source=Node(id='Ngc 4701', type='Galaxy', properties={}), target=Node(id='Virgo', type='Constellation', properties={}), type='LOCATED_IN', properties={}), Relationship(source=Node(id='William Herschel', type='Person', properties={}), target=Node(id='Ngc 4701', type='Galaxy', properties={}), type='DISCOVERED', properties={}), Relationship(source=Node(id='Ngc 4701', type='Galaxy', properties={}), target=Node(id='Virgo Ii Groups', type='Galaxy group', properties={}), type='MEMBER_OF', properties={}), Relationship(source=Node(id='Ngc 4701', type='Galaxy', properties={}), target=Node(id='M49 Group', type='Galaxy group', properties={}), type='MEMBER_OF', properties={})], source=Document(metadata={'title': 'NGC 4701', 'summary': 'NGC 4701 is an unbarred spiral galaxy located in the constellation Virgo. Its velocity with respect to the cosmic microwave background is 1054 ± 24 km/s, which corresponds to a Hubble distance of 50.7 ± 3.8 Mly (15.54 ± 1.15 Mpc). However, 10 non-redshift measurements give a greater distance of 72.31 ± 6.14 Mly (22.170 ± 1.883 Mpc).It was discovered by the German-British astronomer William Herschel on 30 April 1786 using a 47.5 cm (18.7 inch) diameter mirror type telescope. It is a member of the Virgo II Groups, a series of galaxies and galaxy clusters strung out from the southern edge of the Virgo Supercluster.\\nNGC 4701 is a member of the M49 Group (also known as LGG 292). This group contains at least 127 galaxies, including 63 galaxies from the New General Catalogue and 20 galaxies from the Index Catalogue.', 'source': 'https://en.wikipedia.org/wiki/NGC_4701'}, page_content='NGC 4701 is an unbarred spiral galaxy located in the constellation Virgo. Its velocity with respect to the cosmic microwave background is 1054 ± 24 km/s, which corresponds to a Hubble distance of 50.7 ± 3.8 Mly (15.54 ± 1.15 Mpc). However, 10 non-redshift measurements give a greater distance of 72.31 ± 6.14 Mly (22.170 ± 1.883 Mpc).It was discovered by the German-British astronomer William Herschel on 30 April 1786 using a 47.5 cm (18.7 inch) diameter mirror type telescope. It is a member of the Virgo II Groups, a series of galaxies and galaxy clusters strung out from the southern edge of the Virgo Supercluster.\\nNGC 4701 is a member of the M49 Group (also known as LGG 292). This group contains at least 127 galaxies, including 63 galaxies from the New General Catalogue and 20 galaxies from the Index Catalogue.\\n\\n\\n== See also ==\\nList of NGC objects (4001–5000)\\n\\n\\n== References ==\\n\\n\\n== External links ==\\n Media related to NGC 4701 at Wikimedia Commons')),\n",
              " GraphDocument(nodes=[Node(id='Index Catalogue Of Nebulae And Clusters Of Stars', type='Catalogue', properties={}), Node(id='J. E. L. Dreyer', type='Person', properties={}), Node(id='Ngc2000.0', type='Catalogue', properties={}), Node(id='Nasa/Ipac Extragalactic Database', type='Database', properties={}), Node(id='Simbad Astronomical Database', type='Database', properties={})], relationships=[Relationship(source=Node(id='J. E. L. Dreyer', type='Person', properties={}), target=Node(id='Index Catalogue Of Nebulae And Clusters Of Stars', type='Catalogue', properties={}), type='AUTHOR', properties={})], source=Document(metadata={'title': 'List of IC objects', 'summary': 'This is a partial list of IC objects, which are astronomical objects included in the Index Catalogue of Nebulae and Clusters of Stars. This two volume catalog was published in 1895 and 1908 by J. E. L. Dreyer.\\nThe constellation information for this table is available from the NGC2000.0: Complete New General Catalog and Index Catalog. In some cases, the NASA/IPAC Extragalactic Database was used to confirm cross-identifications of galaxies. The remaining data is from the SIMBAD Astronomical Database unless otherwise noted.', 'source': 'https://en.wikipedia.org/wiki/List_of_IC_objects'}, page_content='This is a partial list of IC objects, which are astronomical objects included in the Index Catalogue of Nebulae and Clusters of Stars. This two volume catalog was published in 1895 and 1908 by J. E. L. Dreyer.\\nThe constellation information for this table is available from the NGC2000.0: Complete New General Catalog and Index Catalog. In some cases, the NASA/IPAC Extragalactic Database was used to confirm cross-identifications of galaxies. The remaining data is from the SIMBAD Astronomical Database unless otherwise noted.\\n\\n\\n== 1–999 ==\\n\\n\\n== 1000–1999 ==\\n\\n\\n== 2000–2999 ==\\n\\n\\n== 3000–3999 ==\\n\\n\\n== 4000–4999 ==\\n\\n\\n== 5000–5386 ==\\n\\n\\n== See also ==\\nLists of astronomical objects\\nList of NGC objects\\nCollinder catalogue\\nLyon-Meudon Extragalactic Database\\nMelotte catalogue\\nNew General Catalogue\\nUppsala General Catalogue\\n\\n\\n== References ==\\n\\n\\n== Resources ==\\nDreyer, J. L. E. (1878), \"A Supplement to Sir John Herschel\\'s \\'General Catalogue of Nebulae and Clusters of Stars\\'\", Transactions of the Royal Irish Academy, 26: 381–426, Bibcode:1878TRIA...26..381D, JSTOR 30079091.\\nDreyer, J. L. E. (1910), \"Second Index Catalogue of Nebulæ and Clusters of Stars, containing objects found in the years 1895 to 1907; with Notes and Corrections to the New General Catalogue and to the Index Catalogue for 1888-94\", Memoirs of the Royal Astronomical Society, 59: 105, Bibcode:1910MmRAS..59..105D.\\nDreyer, J. L. E. (November 1912), \"Corrections to the New General Catalogue\", Monthly Notices of the Royal Astronomical Society, 73: 37–40, Bibcode:1912MNRAS..73...37D, doi:10.1093/mnras/73.1.37.\\nLindsay, E. M. (1965), \"J. L. E. Dreyer and His New General Catalogue of Nebulae and Clusters of Stars\", Astronomical Society of the Pacific Leaflets, 9 (436): 289, Bibcode:')),\n",
              " GraphDocument(nodes=[Node(id='Astronomical Society Of The Pacific Leaflets', type='Publication', properties={}), Node(id='Courtney Seligman', type='Person', properties={}), Node(id='Index Catalog (Ic) I / Ii Objects', type='Astronomical catalog', properties={}), Node(id='Celestial Atlas', type='Website', properties={})], relationships=[Relationship(source=Node(id='Astronomical Society Of The Pacific Leaflets', type='Publication', properties={}), target=Node(id='Courtney Seligman', type='Person', properties={}), type='REFERENCES', properties={}), Relationship(source=Node(id='Courtney Seligman', type='Person', properties={}), target=Node(id='Index Catalog (Ic) I / Ii Objects', type='Astronomical catalog', properties={}), type='CREATOR', properties={}), Relationship(source=Node(id='Index Catalog (Ic) I / Ii Objects', type='Astronomical catalog', properties={}), target=Node(id='Celestial Atlas', type='Website', properties={}), type='HOSTED_ON', properties={})], source=Document(metadata={'title': 'List of IC objects', 'summary': 'This is a partial list of IC objects, which are astronomical objects included in the Index Catalogue of Nebulae and Clusters of Stars. This two volume catalog was published in 1895 and 1908 by J. E. L. Dreyer.\\nThe constellation information for this table is available from the NGC2000.0: Complete New General Catalog and Index Catalog. In some cases, the NASA/IPAC Extragalactic Database was used to confirm cross-identifications of galaxies. The remaining data is from the SIMBAD Astronomical Database unless otherwise noted.', 'source': 'https://en.wikipedia.org/wiki/List_of_IC_objects'}, page_content=' and Clusters of Stars\", Astronomical Society of the Pacific Leaflets, 9 (436): 289, Bibcode:1965ASPL....9..289L.\\nSeligman, Courtney, \"Index Catalog (IC) I / II Objects\", Celestial Atlas, retrieved 2024-08-26.')),\n",
              " GraphDocument(nodes=[Node(id='Gliese 806', type='Star', properties={}), Node(id='Cygnus', type='Constellation', properties={}), Node(id='Deneb', type='Star', properties={}), Node(id='Sun', type='Star', properties={}), Node(id='Gliese 806 B', type='Planet', properties={})], relationships=[Relationship(source=Node(id='Gliese 806', type='Star', properties={}), target=Node(id='Cygnus', type='Constellation', properties={}), type='LOCATED_IN', properties={}), Relationship(source=Node(id='Gliese 806', type='Star', properties={}), target=Node(id='Deneb', type='Star', properties={}), type='NEAR', properties={}), Relationship(source=Node(id='Gliese 806', type='Star', properties={}), target=Node(id='Sun', type='Star', properties={}), type='DRIFTING_TOWARDS', properties={}), Relationship(source=Node(id='Gliese 806', type='Star', properties={}), target=Node(id='Gliese 806 B', type='Planet', properties={}), type='HOSTS', properties={})], source=Document(metadata={'title': 'Gliese 806', 'summary': 'Gliese 806 is a star in the northern constellation of Cygnus, located about a degree to the southeast of the bright star Deneb. It is invisible to the naked eye with an apparent visual magnitude of +10.79. The star is located at a distance of 39.3 light years from the Sun based on stellar parallax. It is drifting closer with a radial velocity of −24.6 km/s, and is predicted to come to within 30.1 light-years in ~198,600 years. The star hosts two known planetary companions.\\nThe stellar classification of Gliese 806 is dM1.5, which indicates this is a small red dwarf star – an M-type main-sequence star that is generating energy through core hydrogen fusion. It is roughly three billion years old and is spinning with a projected rotational velocity of 0.46 km/s. The star has 42% of the mass and radius of the Sun. It is radiating 0.3% of the luminosity of the Sun from its photosphere at an effective temperature of 3,586 K.\\n\\n', 'source': 'https://en.wikipedia.org/wiki/Gliese_806'}, page_content='Gliese 806 is a star in the northern constellation of Cygnus, located about a degree to the southeast of the bright star Deneb. It is invisible to the naked eye with an apparent visual magnitude of +10.79. The star is located at a distance of 39.3 light years from the Sun based on stellar parallax. It is drifting closer with a radial velocity of −24.6 km/s, and is predicted to come to within 30.1 light-years in ~198,600 years. The star hosts two known planetary companions.\\nThe stellar classification of Gliese 806 is dM1.5, which indicates this is a small red dwarf star – an M-type main-sequence star that is generating energy through core hydrogen fusion. It is roughly three billion years old and is spinning with a projected rotational velocity of 0.46 km/s. The star has 42% of the mass and radius of the Sun. It is radiating 0.3% of the luminosity of the Sun from its photosphere at an effective temperature of 3,586 K.\\n\\n\\n== Planetary system ==\\nIn 1989, Marcy and Benitz detected a periodicity of 416 days in radial velocity variation, inferring the possible presence of a companion with a mass of about 0.011 M☉. However, this candidate object was never confirmed.\\nMore recently, observations by TESS have found a candidate transiting planet with a period of less than a day. In January 2023, this planet was confirmed and a second, non-transiting planet found via radial velocity observations. A third radial velocity signal was also found, but the study was unable to confirm it as having a planetary origin. All known planets are super-Earths, and the inner transiting planet Gliese 806 b is likely to be rocky.\\n\\n\\n== See also ==\\nGliese 521\\n\\n\\n== References ==')),\n",
              " GraphDocument(nodes=[Node(id='Chi Ursae Majoris', type='Star', properties={}), Node(id='Ursa Major', type='Constellation', properties={}), Node(id='Sun', type='Star', properties={}), Node(id='Iau', type='Organization', properties={}), Node(id='Tai Yang Show', type='Name', properties={}), Node(id='Alkafzah', type='Name', properties={}), Node(id='Alkaphrah', type='Name', properties={}), Node(id='El Koprah', type='Name', properties={}), Node(id='Ngc 3877', type='Galaxy', properties={})], relationships=[Relationship(source=Node(id='Chi Ursae Majoris', type='Star', properties={}), target=Node(id='Ursa Major', type='Constellation', properties={}), type='LOCATED_IN', properties={}), Relationship(source=Node(id='Chi Ursae Majoris', type='Star', properties={}), target=Node(id='Sun', type='Star', properties={}), type='DRIFTING_CLOSER_TO', properties={}), Relationship(source=Node(id='Iau', type='Organization', properties={}), target=Node(id='Chi Ursae Majoris', type='Star', properties={}), type='APPROVED_NAME_FOR', properties={}), Relationship(source=Node(id='Chi Ursae Majoris', type='Star', properties={}), target=Node(id='Tai Yang Show', type='Name', properties={}), type='ALSO_KNOWN_AS', properties={}), Relationship(source=Node(id='Chi Ursae Majoris', type='Star', properties={}), target=Node(id='Alkafzah', type='Name', properties={}), type='ALSO_KNOWN_AS', properties={}), Relationship(source=Node(id='Chi Ursae Majoris', type='Star', properties={}), target=Node(id='Alkaphrah', type='Name', properties={}), type='ALSO_KNOWN_AS', properties={}), Relationship(source=Node(id='Chi Ursae Majoris', type='Star', properties={}), target=Node(id='El Koprah', type='Name', properties={}), type='ALSO_KNOWN_AS', properties={}), Relationship(source=Node(id='Chi Ursae Majoris', type='Star', properties={}), target=Node(id='Ngc 3877', type='Galaxy', properties={}), type='NEAR', properties={})], source=Document(metadata={'title': 'Chi Ursae Majoris', 'summary': 'Chi Ursae Majoris or χ Ursae Majoris, formally named Taiyangshou , is a single star in the northern circumpolar constellation of Ursa Major. The star has an orange hue and is visible to the naked eye at night with an apparent visual magnitude of 3.72. It is located at a distance of approximately 198 light-years from the Sun based on parallax, but is drifting closer with a radial velocity of −9 km/s.\\n\\n', 'source': 'https://en.wikipedia.org/wiki/Chi_Ursae_Majoris'}, page_content='Chi Ursae Majoris or χ Ursae Majoris, formally named Taiyangshou , is a single star in the northern circumpolar constellation of Ursa Major. The star has an orange hue and is visible to the naked eye at night with an apparent visual magnitude of 3.72. It is located at a distance of approximately 198 light-years from the Sun based on parallax, but is drifting closer with a radial velocity of −9 km/s.\\n\\n\\n== Nomenclature ==\\n\\nχ Ursae Majoris (Latinised to Chi Ursae Majoris) is the star\\'s Bayer designation.\\nIt bore the traditional name Tai Yang Show, \"the Sun Governor\", from Chinese astronomy. The name was possibly derived from the word 太陽守, Pinyin: Tàiyángshǒu, meaning Guard of the Sun, because this star is marking itself and standing alone in the Guard of the Sun asterism, Purple Forbidden enclosure (see : Chinese constellations). It also bore traditional names of Arabic origin:  Alkafzah, Alkaphrah, and El Koprah.\\nIn 2016, the IAU organized a Working Group on Star Names (WGSN) to catalog and standardize proper names for stars. The WGSN approved the name Taiyangshou for this star on 30 June 2017 and it is now so included in the List of IAU-approved Star Names.\\n\\n\\n== Properties ==\\nChi Ursae Majoris is an evolved, orange hued K-type giant with a stellar classification of K0.5 IIIb. It is a red clump giant, which means it is on the horizontal branch and is generating energy through helium fusion at its core. This star has expanded to 23 times the radius of the Sun with 1.49 times the Sun\\'s mass. It is radiating 170 times the luminosity of the Sun from its enlarged photosphere at an effective temperature of 4,331 K.\\nThe spiral galaxy in Ursa Major, NGC 3877 (= H I.201), type Sc, is best found from Chi Ursae Majoris, which is almost exactly 15 arcminutes north of the galaxy.\\n\\n\\n== References ==\\n\\n\\n== External links ==\\n\\nChi Ursae Majoris on WikiSky: DSS2, SDSS, GALEX, IRAS, Hydrogen α, X-Ray, Astrophoto, Sky Map')),\n",
              " GraphDocument(nodes=[Node(id='Dss', type='Survey', properties={}), Node(id='Galex', type='Survey', properties={}), Node(id='Iras', type='Survey', properties={}), Node(id='Hydrogen Α', type='Wavelength', properties={}), Node(id='X-Ray', type='Wavelength', properties={}), Node(id='Astrophoto', type='Image', properties={}), Node(id='Sky Map', type='Map', properties={}), Node(id='Articles', type='Resource', properties={}), Node(id='Images', type='Resource', properties={})], relationships=[Relationship(source=Node(id='Dss', type='Survey', properties={}), target=Node(id='Astrophoto', type='Image', properties={}), type='PROVIDES', properties={}), Relationship(source=Node(id='Galex', type='Survey', properties={}), target=Node(id='Astrophoto', type='Image', properties={}), type='PROVIDES', properties={}), Relationship(source=Node(id='Iras', type='Survey', properties={}), target=Node(id='Astrophoto', type='Image', properties={}), type='PROVIDES', properties={}), Relationship(source=Node(id='Hydrogen Α', type='Wavelength', properties={}), target=Node(id='Astrophoto', type='Image', properties={}), type='OBSERVED', properties={}), Relationship(source=Node(id='X-Ray', type='Wavelength', properties={}), target=Node(id='Astrophoto', type='Image', properties={}), type='OBSERVED', properties={}), Relationship(source=Node(id='Astrophoto', type='Image', properties={}), target=Node(id='Sky Map', type='Map', properties={}), type='DISPLAYED_ON', properties={}), Relationship(source=Node(id='Articles', type='Resource', properties={}), target=Node(id='Images', type='Resource', properties={}), type='ACCOMPANIES', properties={})], source=Document(metadata={'title': 'Chi Ursae Majoris', 'summary': 'Chi Ursae Majoris or χ Ursae Majoris, formally named Taiyangshou , is a single star in the northern circumpolar constellation of Ursa Major. The star has an orange hue and is visible to the naked eye at night with an apparent visual magnitude of 3.72. It is located at a distance of approximately 198 light-years from the Sun based on parallax, but is drifting closer with a radial velocity of −9 km/s.\\n\\n', 'source': 'https://en.wikipedia.org/wiki/Chi_Ursae_Majoris'}, page_content='DSS, GALEX, IRAS, Hydrogen α, X-Ray, Astrophoto, Sky Map, Articles and images')),\n",
              " GraphDocument(nodes=[Node(id='Sigma1 Ursae Majoris', type='Star', properties={}), Node(id='Ursa Major', type='Constellation', properties={}), Node(id='Sun', type='Star', properties={}), Node(id='Al Ṭhibā᾽', type='Asterism', properties={}), Node(id='Π1', type='Star', properties={}), Node(id='Π2', type='Star', properties={}), Node(id='Σ2', type='Star', properties={}), Node(id='Ρ', type='Star', properties={}), Node(id='A', type='Star', properties={}), Node(id='D', type='Star', properties={})], relationships=[Relationship(source=Node(id='Sigma1 Ursae Majoris', type='Star', properties={}), target=Node(id='Ursa Major', type='Constellation', properties={}), type='LOCATED_IN', properties={}), Relationship(source=Node(id='Sigma1 Ursae Majoris', type='Star', properties={}), target=Node(id='Sun', type='Star', properties={}), type='DISTANCE_FROM', properties={}), Relationship(source=Node(id='Sigma1 Ursae Majoris', type='Star', properties={}), target=Node(id='Al Ṭhibā᾽', type='Asterism', properties={}), type='PART_OF', properties={}), Relationship(source=Node(id='Π1', type='Star', properties={}), target=Node(id='Al Ṭhibā᾽', type='Asterism', properties={}), type='PART_OF', properties={}), Relationship(source=Node(id='Π2', type='Star', properties={}), target=Node(id='Al Ṭhibā᾽', type='Asterism', properties={}), type='PART_OF', properties={}), Relationship(source=Node(id='Σ2', type='Star', properties={}), target=Node(id='Al Ṭhibā᾽', type='Asterism', properties={}), type='PART_OF', properties={}), Relationship(source=Node(id='Ρ', type='Star', properties={}), target=Node(id='Al Ṭhibā᾽', type='Asterism', properties={}), type='PART_OF', properties={}), Relationship(source=Node(id='A', type='Star', properties={}), target=Node(id='Al Ṭhibā᾽', type='Asterism', properties={}), type='PART_OF', properties={}), Relationship(source=Node(id='D', type='Star', properties={}), target=Node(id='Al Ṭhibā᾽', type='Asterism', properties={}), type='PART_OF', properties={})], source=Document(metadata={'title': 'Sigma1 Ursae Majoris', 'summary': 'Sigma1 Ursae Majoris (σ1 UMa) is the Bayer designation for a solitary star in the northern circumpolar constellation of Ursa Major. With an apparent visual magnitude of 5.14 it is faintly visible to the naked eye on dark nights. Based upon an annual parallax shift of 6.26 mas, it is located roughly 520 light years from the Sun. At that distance, the visual magnitude of the star is diminished by an extinction factor of 0.06 due to interstellar dust.\\nThis is an evolved K-type giant star with a stellar classification of K5 III. It is a suspected variable with an amplitude of 0.03 magnitude. The measured angular diameter of the star after correcting for limb darkening is 2.67±0.04 mas, which, at the estimated distance of this star, yields a physical size of about 46 times the radius of the Sun. The star is radiating around 560 times the solar luminosity from its outer atmosphere at an effective temperature of 3,940 K.', 'source': 'https://en.wikipedia.org/wiki/Sigma1_Ursae_Majoris'}, page_content='Sigma1 Ursae Majoris (σ1 UMa) is the Bayer designation for a solitary star in the northern circumpolar constellation of Ursa Major. With an apparent visual magnitude of 5.14 it is faintly visible to the naked eye on dark nights. Based upon an annual parallax shift of 6.26 mas, it is located roughly 520 light years from the Sun. At that distance, the visual magnitude of the star is diminished by an extinction factor of 0.06 due to interstellar dust.\\nThis is an evolved K-type giant star with a stellar classification of K5 III. It is a suspected variable with an amplitude of 0.03 magnitude. The measured angular diameter of the star after correcting for limb darkening is 2.67±0.04 mas, which, at the estimated distance of this star, yields a physical size of about 46 times the radius of the Sun. The star is radiating around 560 times the solar luminosity from its outer atmosphere at an effective temperature of 3,940 K.\\n\\n\\n== Naming ==\\nWith π1, π2, σ2, ρ, A and d, it composed the Arabic asterism Al Ṭhibā᾽, the Gazelle. According to the catalogue of stars in the Technical Memorandum 33-507 - A Reduced Star Catalog Containing 537 Named Stars, Al Ṭhibā were the title for seven stars : A as Althiba I, this star (π1) as Althiba II, π2 as Althiba III, ρ as Althiba IV, this star (σ1) as Althiba V, σ2 as Althiba VI, and d as Althiba VII.\\n\\n\\n== References ==')),\n",
              " GraphDocument(nodes=[Node(id='15 Leonis Minoris', type='Star', properties={}), Node(id='Ursa Major', type='Constellation', properties={}), Node(id='Sun', type='Star', properties={})], relationships=[Relationship(source=Node(id='15 Leonis Minoris', type='Star', properties={}), target=Node(id='Ursa Major', type='Constellation', properties={}), type='LOCATED_IN', properties={}), Relationship(source=Node(id='15 Leonis Minoris', type='Star', properties={}), target=Node(id='Sun', type='Star', properties={}), type='COMPARED_TO', properties={})], source=Document(metadata={'title': '15 Leonis Minoris', 'summary': \"15 Leonis Minoris is the Flamsteed designation for a single star in the northern circumpolar constellation of Ursa Major. It has an apparent visual magnitude of 5.08, making it a fifth magnitude star that is visible to the naked eye. Based on parallax measurements, it is located at a distance of 61.7 light years from the Sun. The star has been examined for an infrared excess, but none was detected.\\nThis star has a stellar classification of G0 IV-V with an age of about 9.3 billion years, which suggests that it is an older G-type main sequence star that may be evolving into a subgiant as the hydrogen at its core runs out. The estimated mass of the star is 15% greater than the Sun's mass, and it is larger in girth than the Sun by +52%. It is spinning with a projected rotational velocity of 4 km/s. The star is radiating almost three times the luminosity of the Sun from its photosphere at an effective temperature of 5,859 K, giving it the yellow-hued glow of a G-type star.\", 'source': 'https://en.wikipedia.org/wiki/15_Leonis_Minoris'}, page_content=\"15 Leonis Minoris is the Flamsteed designation for a single star in the northern circumpolar constellation of Ursa Major. It has an apparent visual magnitude of 5.08, making it a fifth magnitude star that is visible to the naked eye. Based on parallax measurements, it is located at a distance of 61.7 light years from the Sun. The star has been examined for an infrared excess, but none was detected.\\nThis star has a stellar classification of G0 IV-V with an age of about 9.3 billion years, which suggests that it is an older G-type main sequence star that may be evolving into a subgiant as the hydrogen at its core runs out. The estimated mass of the star is 15% greater than the Sun's mass, and it is larger in girth than the Sun by +52%. It is spinning with a projected rotational velocity of 4 km/s. The star is radiating almost three times the luminosity of the Sun from its photosphere at an effective temperature of 5,859 K, giving it the yellow-hued glow of a G-type star.\\n\\n\\n== References ==\")),\n",
              " GraphDocument(nodes=[Node(id='Tau Ursae Majoris', type='Star', properties={}), Node(id='Ursa Major', type='Constellation', properties={}), Node(id='Sun', type='Star', properties={}), Node(id='Al-Haud', type='Asterism', properties={}), Node(id=\"Sarīr Banāt Al-Na'Sh\", type='Asterism', properties={}), Node(id='Technical Memorandum 33-507', type='Catalogue', properties={}), Node(id='Φ', type='Star', properties={}), Node(id='H', type='Star', properties={}), Node(id='Υ', type='Star', properties={}), Node(id='Θ', type='Star', properties={}), Node(id='E', type='Star', properties={}), Node(id='F', type='Star', properties={})], relationships=[Relationship(source=Node(id='Tau Ursae Majoris', type='Star', properties={}), target=Node(id='Ursa Major', type='Constellation', properties={}), type='LOCATED_IN', properties={}), Relationship(source=Node(id='Tau Ursae Majoris', type='Star', properties={}), target=Node(id='Sun', type='Star', properties={}), type='NEAR', properties={}), Relationship(source=Node(id='Tau Ursae Majoris', type='Star', properties={}), target=Node(id='Al-Haud', type='Asterism', properties={}), type='PART_OF', properties={}), Relationship(source=Node(id='Tau Ursae Majoris', type='Star', properties={}), target=Node(id=\"Sarīr Banāt Al-Na'Sh\", type='Asterism', properties={}), type='PART_OF', properties={}), Relationship(source=Node(id='Φ', type='Star', properties={}), target=Node(id='Al-Haud', type='Asterism', properties={}), type='PART_OF', properties={}), Relationship(source=Node(id='H', type='Star', properties={}), target=Node(id='Al-Haud', type='Asterism', properties={}), type='PART_OF', properties={}), Relationship(source=Node(id='Υ', type='Star', properties={}), target=Node(id='Al-Haud', type='Asterism', properties={}), type='PART_OF', properties={}), Relationship(source=Node(id='Θ', type='Star', properties={}), target=Node(id='Al-Haud', type='Asterism', properties={}), type='PART_OF', properties={}), Relationship(source=Node(id='E', type='Star', properties={}), target=Node(id='Al-Haud', type='Asterism', properties={}), type='PART_OF', properties={}), Relationship(source=Node(id='F', type='Star', properties={}), target=Node(id='Al-Haud', type='Asterism', properties={}), type='PART_OF', properties={})], source=Document(metadata={'title': 'Tau Ursae Majoris', 'summary': \"Tau Ursae Majoris (τ UMa) is the Bayer designation for a binary star in the northern circumpolar constellation of Ursa Major. It is visible to the naked eye, having an apparent visual magnitude of 4.66. With an annual parallax shift of 25.82 mas, it is located about 126 light years from the Sun. At that distance, the visual magnitude is diminished by an extinction factor of 0.19 due to interstellar dust.\\nThis is a single-lined spectroscopic binary star system with an orbital period of 2.9 years and an eccentricity of 0.48. The primary member, component A, is an evolved bright giant with a stellar classification of kA5hF0mF5 II. This notation indicates the star's spectrum shows the calcium K lines of an A5 star, the hydrogen lines of an F0 star, and the metallic lines of an F5 star. It is an evolved Am star of the ρ Puppis type, a class of evolved stars showing the Am chemical peculiarities.  It is located in the instability strip of the Hertzsprung–Russell diagram but is not thought to be variable.\\n\\n\", 'source': 'https://en.wikipedia.org/wiki/Tau_Ursae_Majoris'}, page_content=\"Tau Ursae Majoris (τ UMa) is the Bayer designation for a binary star in the northern circumpolar constellation of Ursa Major. It is visible to the naked eye, having an apparent visual magnitude of 4.66. With an annual parallax shift of 25.82 mas, it is located about 126 light years from the Sun. At that distance, the visual magnitude is diminished by an extinction factor of 0.19 due to interstellar dust.\\nThis is a single-lined spectroscopic binary star system with an orbital period of 2.9 years and an eccentricity of 0.48. The primary member, component A, is an evolved bright giant with a stellar classification of kA5hF0mF5 II. This notation indicates the star's spectrum shows the calcium K lines of an A5 star, the hydrogen lines of an F0 star, and the metallic lines of an F5 star. It is an evolved Am star of the ρ Puppis type, a class of evolved stars showing the Am chemical peculiarities.  It is located in the instability strip of the Hertzsprung–Russell diagram but is not thought to be variable.\\n\\n\\n== Naming ==\\nWith φ, h, υ, θ, e, and f, it composed the Arabic asterism Sarīr Banāt al-Na'sh, the Throne of the daughters of Na'sh, and Al-Haud, the Pond. According to the catalogue of stars in the Technical Memorandum 33-507 - A Reduced Star Catalog Containing 537 Named Stars, Al-Haud were the title for seven stars : f as Alhaud I, this star (τ) as Alhaud II, e as Alhaud III, h as Alhaud IV, θ as Alhaud V, υ as Alhaud VI and φ as Alhaud VII .\\n\\n\\n== References ==\")),\n",
              " GraphDocument(nodes=[Node(id='Upsilon Ursae Majoris', type='Star', properties={}), Node(id='Ursa Major', type='Constellation', properties={}), Node(id='Sun', type='Star', properties={}), Node(id='Component A', type='Subgiant star', properties={}), Node(id='Component B', type='Star', properties={}), Node(id=\"Sarīr Banāt Al-Na'Sh\", type='Asterism', properties={}), Node(id='Al-Haud', type='Asterism', properties={}), Node(id='Technical Memorandum 33-507', type='Catalogue', properties={}), Node(id='Τ', type='Star', properties={}), Node(id='H', type='Star', properties={}), Node(id='Φ', type='Star', properties={}), Node(id='Θ', type='Star', properties={}), Node(id='E', type='Star', properties={}), Node(id='F', type='Star', properties={}), Node(id='Alhaud I', type='Star', properties={}), Node(id='Alhaud Ii', type='Star', properties={}), Node(id='Alhaud Iii', type='Star', properties={}), Node(id='Alhaud Iv', type='Star', properties={}), Node(id='Alhaud V', type='Star', properties={}), Node(id='Alhaud Vi', type='Star', properties={}), Node(id='Alhaud Vii', type='Star', properties={}), Node(id='Wén Chāng', type='Asterism', properties={}), Node(id='15 Ursae Majoris', type='Star', properties={}), Node(id='18 Ursae Majoris', type='Star', properties={})], relationships=[Relationship(source=Node(id='Upsilon Ursae Majoris', type='Star', properties={}), target=Node(id='Ursa Major', type='Constellation', properties={}), type='LOCATED_IN', properties={}), Relationship(source=Node(id='Component A', type='Subgiant star', properties={}), target=Node(id='Upsilon Ursae Majoris', type='Star', properties={}), type='PART_OF', properties={}), Relationship(source=Node(id='Component B', type='Star', properties={}), target=Node(id='Upsilon Ursae Majoris', type='Star', properties={}), type='COMPANION_OF', properties={}), Relationship(source=Node(id='Upsilon Ursae Majoris', type='Star', properties={}), target=Node(id='Sun', type='Star', properties={}), type='NEAR', properties={}), Relationship(source=Node(id=\"Sarīr Banāt Al-Na'Sh\", type='Asterism', properties={}), target=Node(id='Upsilon Ursae Majoris', type='Star', properties={}), type='INCLUDES', properties={}), Relationship(source=Node(id='Al-Haud', type='Asterism', properties={}), target=Node(id='Upsilon Ursae Majoris', type='Star', properties={}), type='INCLUDES', properties={}), Relationship(source=Node(id='Technical Memorandum 33-507', type='Catalogue', properties={}), target=Node(id='Upsilon Ursae Majoris', type='Star', properties={}), type='CATALOGUES', properties={}), Relationship(source=Node(id='Τ', type='Star', properties={}), target=Node(id=\"Sarīr Banāt Al-Na'Sh\", type='Asterism', properties={}), type='PART_OF', properties={}), Relationship(source=Node(id='H', type='Star', properties={}), target=Node(id=\"Sarīr Banāt Al-Na'Sh\", type='Asterism', properties={}), type='PART_OF', properties={}), Relationship(source=Node(id='Φ', type='Star', properties={}), target=Node(id=\"Sarīr Banāt Al-Na'Sh\", type='Asterism', properties={}), type='PART_OF', properties={}), Relationship(source=Node(id='Θ', type='Star', properties={}), target=Node(id=\"Sarīr Banāt Al-Na'Sh\", type='Asterism', properties={}), type='PART_OF', properties={}), Relationship(source=Node(id='E', type='Star', properties={}), target=Node(id=\"Sarīr Banāt Al-Na'Sh\", type='Asterism', properties={}), type='PART_OF', properties={}), Relationship(source=Node(id='F', type='Star', properties={}), target=Node(id=\"Sarīr Banāt Al-Na'Sh\", type='Asterism', properties={}), type='PART_OF', properties={}), Relationship(source=Node(id='Alhaud I', type='Star', properties={}), target=Node(id='Al-Haud', type='Asterism', properties={}), type='PART_OF', properties={}), Relationship(source=Node(id='Alhaud Ii', type='Star', properties={}), target=Node(id='Al-Haud', type='Asterism', properties={}), type='PART_OF', properties={}), Relationship(source=Node(id='Alhaud Iii', type='Star', properties={}), target=Node(id='Al-Haud', type='Asterism', properties={}), type='PART_OF', properties={}), Relationship(source=Node(id='Alhaud Iv', type='Star', properties={}), target=Node(id='Al-Haud', type='Asterism', properties={}), type='PART_OF', properties={}), Relationship(source=Node(id='Alhaud V', type='Star', properties={}), target=Node(id='Al-Haud', type='Asterism', properties={}), type='PART_OF', properties={}), Relationship(source=Node(id='Alhaud Vi', type='Star', properties={}), target=Node(id='Al-Haud', type='Asterism', properties={}), type='PART_OF', properties={}), Relationship(source=Node(id='Alhaud Vii', type='Star', properties={}), target=Node(id='Al-Haud', type='Asterism', properties={}), type='PART_OF', properties={}), Relationship(source=Node(id='Wén Chāng', type='Asterism', properties={}), target=Node(id='Upsilon Ursae Majoris', type='Star', properties={}), type='INCLUDES', properties={}), Relationship(source=Node(id='15 Ursae Majoris', type='Star', properties={}), target=Node(id='Wén Chāng', type='Asterism', properties={}), type='PART_OF', properties={}), Relationship(source=Node(id='18 Ursae Majoris', type='Star', properties={}), target=Node(id='Wén Chāng', type='Asterism', properties={}), type='PART_OF', properties={})], source=Document(metadata={'title': 'Upsilon Ursae Majoris', 'summary': \"Upsilon Ursae Majoris, Latinized from υ Ursae Majoris, is a binary star in the northern circumpolar constellation of Ursa Major. It is visible to the naked eye with an apparent visual magnitude of +3.79. Based upon an annual parallax shift of 13.24 mas, it is located roughly 246 light-years from the Sun.\\n\\nThe primary member of the system, component A, is an F-type subgiant star. It is a Delta Scuti variable with a period of 0.1327 day and an amplitude of 0.050 magnitude. With an estimated age of 1.168 billion years, it is spinning rapidly with a projected rotational velocity of 124.2 km/s and a rotation period of 1.2 days. The star has about 1.57 times the mass of the Sun and 2.79 times the Sun's radius. (De Rosa and colleagues give a mass estimate of 2.2 times the Sun's mass.) It is radiating around 29.5 times the solar luminosity from its outer atmosphere at an effective temperature of 7,211 K.\\nThe companion, component B, is a magnitude +11.0 star. As of 2008, it has an angular separation of 11.78 arcseconds along a position angle of 295.4°. This corresponds to a projected separation of 419.8 AU. It has a mass around 40% that of the Sun.\", 'source': 'https://en.wikipedia.org/wiki/Upsilon_Ursae_Majoris'}, page_content=\"Upsilon Ursae Majoris, Latinized from υ Ursae Majoris, is a binary star in the northern circumpolar constellation of Ursa Major. It is visible to the naked eye with an apparent visual magnitude of +3.79. Based upon an annual parallax shift of 13.24 mas, it is located roughly 246 light-years from the Sun.\\n\\nThe primary member of the system, component A, is an F-type subgiant star. It is a Delta Scuti variable with a period of 0.1327 day and an amplitude of 0.050 magnitude. With an estimated age of 1.168 billion years, it is spinning rapidly with a projected rotational velocity of 124.2 km/s and a rotation period of 1.2 days. The star has about 1.57 times the mass of the Sun and 2.79 times the Sun's radius. (De Rosa and colleagues give a mass estimate of 2.2 times the Sun's mass.) It is radiating around 29.5 times the solar luminosity from its outer atmosphere at an effective temperature of 7,211 K.\\nThe companion, component B, is a magnitude +11.0 star. As of 2008, it has an angular separation of 11.78 arcseconds along a position angle of 295.4°. This corresponds to a projected separation of 419.8 AU. It has a mass around 40% that of the Sun.\\n\\n\\n== Naming ==\\nWith τ, h, φ, θ, e and f, it composed the Arabic asterism Sarīr Banāt al-Na'sh, the Throne of the daughters of Na'sh, and Al-Haud, the Pond. According to the catalogue of stars in the Technical Memorandum 33-507 - A Reduced Star Catalog Containing 537 Named Stars, Al-Haud were the title for seven stars : f as Alhaud I, τ as Alhaud II, e as Alhaud III, h as Alhaud IV, θ as Alhaud V, this star (υ) as Alhaud VI and φ as Alhaud VII .\\nIn Chinese, 文昌 (Wén Chāng), meaning Administrative Center, refers to an asterism consisting of υ Ursae Majoris, φ Ursae Majoris, θ Ursae Majoris, 15 Ursae Majoris and 18 Ursae Majoris. Consequently, the\")),\n",
              " GraphDocument(nodes=[Node(id='Θ Ursae Majoris', type='Star', properties={}), Node(id='15 Ursae Majoris', type='Star', properties={}), Node(id='18 Ursae Majoris', type='Star', properties={}), Node(id='Υ Ursae Majoris', type='Star', properties={}), Node(id='Chinese', type='Language', properties={}), Node(id='English', type='Language', properties={})], relationships=[Relationship(source=Node(id='Θ Ursae Majoris', type='Star', properties={}), target=Node(id='Ursae Majoris', type='Constellation', properties={}), type='PART_OF', properties={}), Relationship(source=Node(id='15 Ursae Majoris', type='Star', properties={}), target=Node(id='Ursae Majoris', type='Constellation', properties={}), type='PART_OF', properties={}), Relationship(source=Node(id='18 Ursae Majoris', type='Star', properties={}), target=Node(id='Ursae Majoris', type='Constellation', properties={}), type='PART_OF', properties={}), Relationship(source=Node(id='Υ Ursae Majoris', type='Star', properties={}), target=Node(id='Ursae Majoris', type='Constellation', properties={}), type='PART_OF', properties={}), Relationship(source=Node(id='Υ Ursae Majoris', type='Star', properties={}), target=Node(id='文昌一', type='Chinese name', properties={}), type='HAS_NAME', properties={}), Relationship(source=Node(id='文昌一', type='Chinese name', properties={}), target=Node(id='The First Star Of Administrative Center', type='English name', properties={}), type='TRANSLATED_TO', properties={})], source=Document(metadata={'title': 'Upsilon Ursae Majoris', 'summary': \"Upsilon Ursae Majoris, Latinized from υ Ursae Majoris, is a binary star in the northern circumpolar constellation of Ursa Major. It is visible to the naked eye with an apparent visual magnitude of +3.79. Based upon an annual parallax shift of 13.24 mas, it is located roughly 246 light-years from the Sun.\\n\\nThe primary member of the system, component A, is an F-type subgiant star. It is a Delta Scuti variable with a period of 0.1327 day and an amplitude of 0.050 magnitude. With an estimated age of 1.168 billion years, it is spinning rapidly with a projected rotational velocity of 124.2 km/s and a rotation period of 1.2 days. The star has about 1.57 times the mass of the Sun and 2.79 times the Sun's radius. (De Rosa and colleagues give a mass estimate of 2.2 times the Sun's mass.) It is radiating around 29.5 times the solar luminosity from its outer atmosphere at an effective temperature of 7,211 K.\\nThe companion, component B, is a magnitude +11.0 star. As of 2008, it has an angular separation of 11.78 arcseconds along a position angle of 295.4°. This corresponds to a projected separation of 419.8 AU. It has a mass around 40% that of the Sun.\", 'source': 'https://en.wikipedia.org/wiki/Upsilon_Ursae_Majoris'}, page_content='is, θ Ursae Majoris, 15 Ursae Majoris and 18 Ursae Majoris. Consequently, the Chinese name for υ Ursae Majoris itself is 文昌一 (Wén Chāng yī, English: the first Star of Administrative Center.).\\n\\n\\n== References ==')),\n",
              " GraphDocument(nodes=[Node(id='Rho Ursae Majoris', type='Star', properties={}), Node(id='Ursa Major', type='Constellation', properties={}), Node(id='Sun', type='Star', properties={}), Node(id='Sirius Stream', type='Star stream', properties={}), Node(id='Al Ṭhibā᾽', type='Asterism', properties={}), Node(id='Three Top Instructors', type='Asterism', properties={}), Node(id='Π1', type='Star', properties={}), Node(id='Π2', type='Star', properties={}), Node(id='Σ1', type='Star', properties={}), Node(id='Σ2', type='Star', properties={}), Node(id='A', type='Star', properties={}), Node(id='D', type='Star', properties={})], relationships=[Relationship(source=Node(id='Rho Ursae Majoris', type='Star', properties={}), target=Node(id='Ursa Major', type='Constellation', properties={}), type='LOCATED_IN', properties={}), Relationship(source=Node(id='Rho Ursae Majoris', type='Star', properties={}), target=Node(id='Al Ṭhibā᾽', type='Asterism', properties={}), type='PART_OF', properties={}), Relationship(source=Node(id='Rho Ursae Majoris', type='Star', properties={}), target=Node(id='Three Top Instructors', type='Asterism', properties={}), type='PART_OF', properties={}), Relationship(source=Node(id='Rho Ursae Majoris', type='Star', properties={}), target=Node(id='Sirius Stream', type='Star stream', properties={}), type='POSSIBLY_MEMBER_OF', properties={}), Relationship(source=Node(id='Rho Ursae Majoris', type='Star', properties={}), target=Node(id='Σ2 Ursae Majoris', type='Star', properties={}), type='ASSOCIATED_WITH', properties={})], source=Document(metadata={'title': 'Rho Ursae Majoris', 'summary': 'Rho Ursae Majoris (ρ UMa) is the Bayer designation for a solitary star in the northern circumpolar constellation of Ursa Major. It is faintly visible to the naked eye with an apparent visual magnitude of 4.74. The distance to this star, based upon an annual parallax shift of 10.37 mas, is around 315 light years.\\nWith a stellar classification of M3 III, this is a red giant star on the asymptotic giant branch. It is a suspected small amplitude variable. The measured angular diameter of the star after correcting for limb darkening is 5.64±0.15 mas, which, at the estimated distance of this star, yields a physical size of about 58 times the radius of the Sun. It is radiating 464 times the solar luminosity from its outer atmosphere at an effective temperature of about 3,725 K. Based upon its motion through space, there is a 60.6% chance that this star is a member of the Sirius stream.', 'source': 'https://en.wikipedia.org/wiki/Rho_Ursae_Majoris'}, page_content='Rho Ursae Majoris (ρ UMa) is the Bayer designation for a solitary star in the northern circumpolar constellation of Ursa Major. It is faintly visible to the naked eye with an apparent visual magnitude of 4.74. The distance to this star, based upon an annual parallax shift of 10.37 mas, is around 315 light years.\\nWith a stellar classification of M3 III, this is a red giant star on the asymptotic giant branch. It is a suspected small amplitude variable. The measured angular diameter of the star after correcting for limb darkening is 5.64±0.15 mas, which, at the estimated distance of this star, yields a physical size of about 58 times the radius of the Sun. It is radiating 464 times the solar luminosity from its outer atmosphere at an effective temperature of about 3,725 K. Based upon its motion through space, there is a 60.6% chance that this star is a member of the Sirius stream.\\n\\n\\n== Naming ==\\nWith π1, π2, σ1, σ2, A and d, it composed the Arabic asterism Al Ṭhibā᾽, the Gazelle. According to the catalogue of stars in the Technical Memorandum 33-507 - A Reduced Star Catalog Containing 537 Named Stars, Al Ṭhibā were the title for seven stars : A as Althiba I, π1 as Althiba II, π2 as Althiba III, this star (ρ) as Althiba IV, σ1 as Althiba V, σ2 as Althiba VI, and d as Althiba VII\\nIn Chinese, 三師 (Sān Shī), meaning Three Top Instructors, refers to an asterism consisting of ρ Ursae Majoris and σ2 Ursae Majoris. Consequently, the Chinese name for ρ Ursae Majoris itself is 三師一 (Sān Shī yī, English: the First Star of Three Top Instructors.).\\n\\n\\n== References ==')),\n",
              " GraphDocument(nodes=[Node(id='Omega Ursae Majoris', type='Star system', properties={}), Node(id='Ursa Major', type='Constellation', properties={}), Node(id='Sun', type='Star', properties={}), Node(id='Interstellar Dust', type='Astronomical object', properties={}), Node(id='Celestial Prison', type='Asterism', properties={}), Node(id='57 Ursae Majoris', type='Star', properties={}), Node(id='47 Ursae Majoris', type='Star', properties={}), Node(id='58 Ursae Majoris', type='Star', properties={}), Node(id='49 Ursae Majoris', type='Star', properties={}), Node(id='56 Ursae Majoris', type='Star', properties={})], relationships=[Relationship(source=Node(id='Omega Ursae Majoris', type='Star system', properties={}), target=Node(id='Ursa Major', type='Constellation', properties={}), type='LOCATED_IN', properties={}), Relationship(source=Node(id='Omega Ursae Majoris', type='Star system', properties={}), target=Node(id='Sun', type='Star', properties={}), type='NEAR', properties={}), Relationship(source=Node(id='Omega Ursae Majoris', type='Star system', properties={}), target=Node(id='Interstellar Dust', type='Astronomical object', properties={}), type='AFFECTED_BY', properties={}), Relationship(source=Node(id='Omega Ursae Majoris', type='Star system', properties={}), target=Node(id='Celestial Prison', type='Asterism', properties={}), type='PART_OF', properties={}), Relationship(source=Node(id='57 Ursae Majoris', type='Star', properties={}), target=Node(id='Celestial Prison', type='Asterism', properties={}), type='PART_OF', properties={}), Relationship(source=Node(id='47 Ursae Majoris', type='Star', properties={}), target=Node(id='Celestial Prison', type='Asterism', properties={}), type='PART_OF', properties={}), Relationship(source=Node(id='58 Ursae Majoris', type='Star', properties={}), target=Node(id='Celestial Prison', type='Asterism', properties={}), type='PART_OF', properties={}), Relationship(source=Node(id='49 Ursae Majoris', type='Star', properties={}), target=Node(id='Celestial Prison', type='Asterism', properties={}), type='PART_OF', properties={}), Relationship(source=Node(id='56 Ursae Majoris', type='Star', properties={}), target=Node(id='Celestial Prison', type='Asterism', properties={}), type='PART_OF', properties={})], source=Document(metadata={'title': 'Omega Ursae Majoris', 'summary': 'Omega Ursae Majoris (Omega UMa, ω Ursae Majoris, ω UMa) is a binary star system in the northern circumpolar constellation of Ursa Major. It is visible to the naked eye with an apparent visual magnitude of 4.61. Based upon an annual parallax shift of 13.24 mas, it is roughly 246 light years from the Sun. At that distance, the visual magnitude of the star is diminished by an extinction factor of 0.11 due to interstellar dust.\\nThis is a single-lined spectroscopic binary star system with an orbital period of 15.8 days and an eccentricity of 0.31. The primary member, component A, is an A-type main sequence star with a stellar classification of A1VsSi:. The stellar spectrum has the appearance of a hot Am star, showing overabundances of many iron-peak and heavier elements, but an underabundance of helium. In particular, it has an abnormal abundance of silicon.\\n\\n', 'source': 'https://en.wikipedia.org/wiki/Omega_Ursae_Majoris'}, page_content='Omega Ursae Majoris (Omega UMa, ω Ursae Majoris, ω UMa) is a binary star system in the northern circumpolar constellation of Ursa Major. It is visible to the naked eye with an apparent visual magnitude of 4.61. Based upon an annual parallax shift of 13.24 mas, it is roughly 246 light years from the Sun. At that distance, the visual magnitude of the star is diminished by an extinction factor of 0.11 due to interstellar dust.\\nThis is a single-lined spectroscopic binary star system with an orbital period of 15.8 days and an eccentricity of 0.31. The primary member, component A, is an A-type main sequence star with a stellar classification of A1VsSi:. The stellar spectrum has the appearance of a hot Am star, showing overabundances of many iron-peak and heavier elements, but an underabundance of helium. In particular, it has an abnormal abundance of silicon.\\n\\n\\n== Naming ==\\nIn Chinese, 天牢 (Tiān Láo), meaning Celestial Prison, refers to an asterism consisting of ω Ursae Majoris, 57 Ursae Majoris, 47 Ursae Majoris, 58 Ursae Majoris, 49 Ursae Majoris and 56 Ursae Majoris. Consequently, the Chinese name for ω Ursae Majoris itself is 天牢一 (Tiān Láo yī, English: the First Star of Celestial Prison.).\\n\\n\\n== References ==')),\n",
              " GraphDocument(nodes=[Node(id='Hd 111456', type='Star', properties={}), Node(id='Ursa Major', type='Constellation', properties={}), Node(id='Sun', type='Star', properties={}), Node(id='Ursa Major Moving Group', type='Star group', properties={}), Node(id='Big Dipper', type='Asterism', properties={})], relationships=[Relationship(source=Node(id='Hd 111456', type='Star', properties={}), target=Node(id='Ursa Major', type='Constellation', properties={}), type='LOCATED_IN', properties={}), Relationship(source=Node(id='Hd 111456', type='Star', properties={}), target=Node(id='Sun', type='Star', properties={}), type='MOVING_TOWARDS', properties={}), Relationship(source=Node(id='Hd 111456', type='Star', properties={}), target=Node(id='Ursa Major Moving Group', type='Star group', properties={}), type='MEMBER_OF', properties={}), Relationship(source=Node(id='Ursa Major Moving Group', type='Star group', properties={}), target=Node(id='Big Dipper', type='Asterism', properties={}), type='ASSOCIATED_WITH', properties={})], source=Document(metadata={'title': 'HD 111456', 'summary': 'HD 111456 is a yellow-white hued star in the northern circumpolar constellation of Ursa Major. It is dimly visible to the naked eye, having an apparent visual magnitude of 5.85. Based upon an annual parallax shift of 38.2 mas as seen from Earth, it is located about 85 light years from the Sun. The star is moving closer to the Sun with a radial velocity of −18 km/s. HD 111456 is a nucleus cluster member of the Ursa Major Moving Group, a set of stars that are moving through space with a similar heading and velocity. Six other stars in the nucleus of the group are prominent members of the Big Dipper asterism.\\nThe stellar classification for this star is F7 V, indicating that it is an ordinary F-type main-sequence star. It is young, around 300−400 million years of age, and is spinning with a relatively high projected rotational velocity of 41.5 km/s. This is one of the most active F-type stars known, and it is a strong emitter of X-rays and an extreme UV source. It is an astrometric binary with a period of four years and a mass ratio of 0.5. Hence, the companion may be a young white dwarf star.', 'source': 'https://en.wikipedia.org/wiki/HD_111456'}, page_content='HD 111456 is a yellow-white hued star in the northern circumpolar constellation of Ursa Major. It is dimly visible to the naked eye, having an apparent visual magnitude of 5.85. Based upon an annual parallax shift of 38.2 mas as seen from Earth, it is located about 85 light years from the Sun. The star is moving closer to the Sun with a radial velocity of −18 km/s. HD 111456 is a nucleus cluster member of the Ursa Major Moving Group, a set of stars that are moving through space with a similar heading and velocity. Six other stars in the nucleus of the group are prominent members of the Big Dipper asterism.\\nThe stellar classification for this star is F7 V, indicating that it is an ordinary F-type main-sequence star. It is young, around 300−400 million years of age, and is spinning with a relatively high projected rotational velocity of 41.5 km/s. This is one of the most active F-type stars known, and it is a strong emitter of X-rays and an extreme UV source. It is an astrometric binary with a period of four years and a mass ratio of 0.5. Hence, the companion may be a young white dwarf star.\\n\\n\\n== References ==')),\n",
              " GraphDocument(nodes=[Node(id='C Ursae Majoris', type='Star system', properties={}), Node(id='Ursa Major', type='Constellation', properties={}), Node(id='Sun', type='Star', properties={}), Node(id='Dominion Astrophysical Observatory', type='Observatory', properties={}), Node(id='Earth', type='Planet', properties={}), Node(id='Milky Way', type='Galaxy', properties={})], relationships=[Relationship(source=Node(id='C Ursae Majoris', type='Star system', properties={}), target=Node(id='Ursa Major', type='Constellation', properties={}), type='LOCATED_IN', properties={}), Relationship(source=Node(id='C Ursae Majoris', type='Star system', properties={}), target=Node(id='Sun', type='Star', properties={}), type='MOVING_TOWARDS', properties={}), Relationship(source=Node(id='C Ursae Majoris', type='Star system', properties={}), target=Node(id='Dominion Astrophysical Observatory', type='Observatory', properties={}), type='DISCOVERED_BY', properties={}), Relationship(source=Node(id='C Ursae Majoris', type='Star system', properties={}), target=Node(id='Earth', type='Planet', properties={}), type='APPROACHING', properties={}), Relationship(source=Node(id='C Ursae Majoris', type='Star system', properties={}), target=Node(id='Milky Way', type='Galaxy', properties={}), type='PART_OF', properties={})], source=Document(metadata={'title': 'C Ursae Majoris', 'summary': \"c Ursae Majoris is the Bayer designation for a double-lined spectroscopic binary star system in the northern constellation of Ursa Major. It has an apparent visual magnitude of 5.18, which indicates that is visible to the naked eye. Parallax measurements yield an estimated distance of 66 light years from the Sun. The star is moving closer to the Earth with a heliocentric radial velocity of −14 km/s.\\nThe spectroscopic binary nature of this system was among the first 75 such discovered by the Dominion Astrophysical Observatory in 1919. The pair orbit each other every 16.2 days with an eccentricity of 0.1. The semimajor axis of their orbit has an angle of around 2.9 mas, and the plane of the orbit is inclined to the line of sight at an angle of around 106°.\\nThe primary component has a stellar classification of G0 V, suggesting that it is a G-type main sequence star similar to ι Per. It has a mass of about 1.2 times the mass of the Sun, and 2.6 times the Sun's radius. The magnitude difference between the two components is estimated to be 4.5±0.6. The estimated properties of the secondary indicate that it is most likely a K-type main sequence star. The system displays no indication of chromospheric activity.\\nThe system has been examined for evidence of an infrared excess that could indicate the presence of a circumstellar debris disk, but none has been found. At present, c UMa is moving in Earth's direction with a radial velocity of −14.3 km/s. Perihelion passage will occur in 1.3 million years when the system comes within 10 ly (4 pc) of the Sun. This is most likely a member of the Milky Way's thin disk population of stars.\", 'source': 'https://en.wikipedia.org/wiki/C_Ursae_Majoris'}, page_content=\"c Ursae Majoris is the Bayer designation for a double-lined spectroscopic binary star system in the northern constellation of Ursa Major. It has an apparent visual magnitude of 5.18, which indicates that is visible to the naked eye. Parallax measurements yield an estimated distance of 66 light years from the Sun. The star is moving closer to the Earth with a heliocentric radial velocity of −14 km/s.\\nThe spectroscopic binary nature of this system was among the first 75 such discovered by the Dominion Astrophysical Observatory in 1919. The pair orbit each other every 16.2 days with an eccentricity of 0.1. The semimajor axis of their orbit has an angle of around 2.9 mas, and the plane of the orbit is inclined to the line of sight at an angle of around 106°.\\nThe primary component has a stellar classification of G0 V, suggesting that it is a G-type main sequence star similar to ι Per. It has a mass of about 1.2 times the mass of the Sun, and 2.6 times the Sun's radius. The magnitude difference between the two components is estimated to be 4.5±0.6. The estimated properties of the secondary indicate that it is most likely a K-type main sequence star. The system displays no indication of chromospheric activity.\\nThe system has been examined for evidence of an infrared excess that could indicate the presence of a circumstellar debris disk, but none has been found. At present, c UMa is moving in Earth's direction with a radial velocity of −14.3 km/s. Perihelion passage will occur in 1.3 million years when the system comes within 10 ly (4 pc) of the Sun. This is most likely a member of the Milky Way's thin disk population of stars.\\n\\n\\n== References ==\"))]"
            ]
          },
          "metadata": {},
          "execution_count": 11
        }
      ]
    },
    {
      "cell_type": "code",
      "source": [
        "graph_documents[0].nodes"
      ],
      "metadata": {
        "colab": {
          "base_uri": "https://localhost:8080/"
        },
        "id": "Kz-err12thML",
        "outputId": "e144fded-be9a-4ceb-a489-37bd6b349640"
      },
      "execution_count": 12,
      "outputs": [
        {
          "output_type": "execute_result",
          "data": {
            "text/plain": [
              "[Node(id='Ngc 4144', type='Galaxy', properties={}),\n",
              " Node(id='William Herschel', type='Person', properties={}),\n",
              " Node(id='Ursa Major', type='Constellation', properties={}),\n",
              " Node(id='Iras F12074+4644', type='Catalog name', properties={}),\n",
              " Node(id='2Masx J12095860+4627258', type='Catalog name', properties={}),\n",
              " Node(id='Ugc 7151', type='Catalog name', properties={}),\n",
              " Node(id='Pgc 38688', type='Catalog name', properties={}),\n",
              " Node(id='Ursa Major Group', type='Galaxy group', properties={}),\n",
              " Node(id='Earth', type='Planet', properties={})]"
            ]
          },
          "metadata": {},
          "execution_count": 12
        }
      ]
    },
    {
      "cell_type": "code",
      "source": [
        "graph_documents[0].relationships"
      ],
      "metadata": {
        "colab": {
          "base_uri": "https://localhost:8080/"
        },
        "id": "VTXKz93UtlCi",
        "outputId": "e225392e-ce60-4ef4-adcf-3435cc58317a"
      },
      "execution_count": 13,
      "outputs": [
        {
          "output_type": "execute_result",
          "data": {
            "text/plain": [
              "[Relationship(source=Node(id='William Herschel', type='Person', properties={}), target=Node(id='Ngc 4144', type='Galaxy', properties={}), type='DISCOVERED', properties={}),\n",
              " Relationship(source=Node(id='Ngc 4144', type='Galaxy', properties={}), target=Node(id='Ursa Major', type='Constellation', properties={}), type='LOCATED_IN', properties={}),\n",
              " Relationship(source=Node(id='Ngc 4144', type='Galaxy', properties={}), target=Node(id='Iras F12074+4644', type='Catalog name', properties={}), type='ALSO_KNOWN_AS', properties={}),\n",
              " Relationship(source=Node(id='Ngc 4144', type='Galaxy', properties={}), target=Node(id='2Masx J12095860+4627258', type='Catalog name', properties={}), type='ALSO_KNOWN_AS', properties={}),\n",
              " Relationship(source=Node(id='Ngc 4144', type='Galaxy', properties={}), target=Node(id='Ugc 7151', type='Catalog name', properties={}), type='ALSO_KNOWN_AS', properties={}),\n",
              " Relationship(source=Node(id='Ngc 4144', type='Galaxy', properties={}), target=Node(id='Pgc 38688', type='Catalog name', properties={}), type='ALSO_KNOWN_AS', properties={}),\n",
              " Relationship(source=Node(id='Ngc 4144', type='Galaxy', properties={}), target=Node(id='Ursa Major Group', type='Galaxy group', properties={}), type='PART_OF', properties={}),\n",
              " Relationship(source=Node(id='Ngc 4144', type='Galaxy', properties={}), target=Node(id='Earth', type='Planet', properties={}), type='_OBSERVABLE_FROM', properties={})]"
            ]
          },
          "metadata": {},
          "execution_count": 13
        }
      ]
    },
    {
      "cell_type": "code",
      "source": [
        "# Store to graph db\n",
        "graph.add_graph_documents(\n",
        "    graph_documents,\n",
        "    baseEntityLabel=True,\n",
        "    include_source=True\n",
        ")\n"
      ],
      "metadata": {
        "id": "87ctOaKcZ5e1"
      },
      "execution_count": 14,
      "outputs": []
    },
    {
      "cell_type": "markdown",
      "source": [
        "# For visualize in neo4j , query:-\n",
        "MATCH (n)\n",
        "OPTIONAL MATCH (n)-[r]->(m)\n",
        "RETURN n, r, m"
      ],
      "metadata": {
        "id": "1v0MmKTNnjP2"
      }
    },
    {
      "cell_type": "code",
      "source": [
        "# Embeddings\n",
        "from langchain.embeddings import HuggingFaceEmbeddings\n",
        "\n",
        "embeddings = HuggingFaceEmbeddings(\n",
        "    model_name=\"sentence-transformers/all-MiniLM-L6-v2\"\n",
        ")"
      ],
      "metadata": {
        "colab": {
          "base_uri": "https://localhost:8080/",
          "height": 563,
          "referenced_widgets": [
            "6b02a93dfb14445eb2863ea4cbae65f9",
            "2eefdf1208884136b974db67e9f21c38",
            "bdf7a643adbe464a8553943d9d444d04",
            "2436e66a6db449168464a550291ef4b7",
            "32ff3348a6274cbb81332ff89b6f451f",
            "6de03022bf7c4bca8a7f1c1e6da7f84a",
            "8de99b3ebebc4838b73808972b22ac05",
            "e326f5686e8540498b6fa69cd9ea4e36",
            "5b05744add07473e963044c0dcb37872",
            "121a90e0fe684af5a9ebd56eecf2aa1b",
            "de1090a0da2b41629aaae4bfe67ec850",
            "3fd80b8014834e60a8353c1e1757e858",
            "09410851156d4e1ba6eb322ecbe84487",
            "352c11247a0c45348c5ccd8ebc84e6b8",
            "e76ba820a65848e9897c3fb2182f1b78",
            "c712016eb79d4abfba4b33a0d89ae5b6",
            "eabc16f104614f9ba7e7bd63472434a6",
            "e5e34cca04624904a0f538e2380e1152",
            "355e62c007024dcba10edc495d734099",
            "8e1d8fa968bc433f8e9c5faa9417bec8",
            "bb369681456546148c3806ca83392b55",
            "11dc499bec914e19a244a0b09218d548",
            "695a751e468348febaeb86a1169c0474",
            "3211e615b04f46feaa6f15e361be6cc9",
            "17631a59999e447eb7f4c902a980c3ee",
            "95ac3837f5944995891d5622dadd7e29",
            "2f33c0e6f6e54599aee9f189366070e8",
            "fd9cc47e35e6420dbd4821d49124a075",
            "0cfcd471e4cc4646a316f5d0af166de8",
            "ebd5dc1f0e90457ab3d2f884b6992604",
            "cea0207d44b74c91bb85e0976816cb62",
            "44777f3eb96e4f55bec4fff77a110769",
            "fc2b39c0c8a14306a71cd19a3a2dd456",
            "de10b3c3f23142aa90e352a0e361421e",
            "47dc797090314cca9f9014b1fd7847bc",
            "51cd7834e0dd468e87803397d43301fa",
            "df4922950b484ff3863d982d5943cac5",
            "0042658856e94cbd8f5a2fce9c50337b",
            "b4de24852c26461c9572c4f722e608a3",
            "ce2bebea42c344289b7c703e67e1f80b",
            "58da32af26f5461cab2ade054fb5d728",
            "992a57048a16403a937d1fde10ecefe5",
            "03a0ba63a984466e9e6ffacca3af8fd5",
            "7d960aef7df442fbb3bb043489d50f85",
            "64f9533b5c134a5da9734e7c5222554b",
            "7df380e1046e472b8f8c201ff78d0879",
            "b0666070aad74fb39aba69e5fb63ed50",
            "2a8cf8b9d516495390de876a7629ca2d",
            "409b020ca2ae466788b35f5c64d80f09",
            "3bfcd8acc8b44eea9079461ad2e11567",
            "fb5a6cc3cf4b41a89b0c4a518f5df649",
            "3bc70ed19e3f4cee9d9ed82dde8cfc7a",
            "7e7c3ddeaa8f4960929b4709e5782978",
            "d6b4de87f79342258a1f6a47470ee378",
            "b6dab7920cfd4d049186d6ddcf5c3ec4",
            "056a503604984679b96789fce834a42e",
            "f1bd7a02111a44fd80073a9d479d10f8",
            "f4cfa1cc557643528b7b05c6eb80efdf",
            "5bea7ccd9e224096ba2d9325649ed3a8",
            "b2034fffedd94e569ee5c7a4bff8efa4",
            "204d565584fb4a3ba1bacecb60d297b6",
            "f60192de085f49739941c71bacf25f07",
            "d36aff08a2014c81a08a870c24790ffe",
            "183e14c4a7ba40b98337ad7c4e8e83d2",
            "3bc41de016d6414e8680637ce887274a",
            "aa6794220bf14dd7a51634468d5b9d8d",
            "f2480ed9e29e4c7b9ae48171876b212b",
            "e273e3cc052a4961b054a2753285202c",
            "8633c977527d4b4087e864595c34d23f",
            "c6fafd50ca0741fa963b8b213ab695cc",
            "81d6bdf253cd4fb3b10ea30ab41d6e8a",
            "3860e7a2cfd94a70bfcde2c1f4b1bb41",
            "91fb808cff204225a893a1e00d725674",
            "e2c9ae6188444f39883040451575d9ea",
            "1a08c71192c54cbea074988dcb856735",
            "104de02c13ef463c8924dfa44379e167",
            "33048a7fbb594317aa7c3740db352cfa",
            "60fa2cec2c414da6a28c8bbb9abccc5d",
            "f0e2ac88504041b081645614c38a45d2",
            "3c72bb4a64ca485899b7721244d976a9",
            "7c4177d9138d4238a9ddf60329ee2b29",
            "207ddd1979ca483284472f1642517c62",
            "9bc7ade4a5f24c35aed5d7d5ed5b7f31",
            "31d0361736774261adb0652663e03b68",
            "8057e999f6ce49fdaa484debdc1730f2",
            "6f3b6940e2d14779ab372720d462f55f",
            "90fd6491d30f489ca20b3524e8b0777c",
            "67145388646c41f0834b93404c2a09b7",
            "ac592e245807403db6a0c811001e2b5b",
            "cbbf25ec4396481cb7df2c37a838d053",
            "3965f42d2f884228810d87b449538741",
            "cd36172f05ac45fc88e64019a0829436",
            "835a9c60f4be46bf9a42483c80477ce3",
            "bfde09d58858490ca298d0ad82a05eff",
            "7c9ade7eaa0848ecbfa1dea658844219",
            "fcecfd9be3cd42b28741b1984e389916",
            "bbfea92dd9a84642a238336358859d6a",
            "18995366e49544e28c6ecdc6242dab91",
            "bd5be7b365c341edbc4c258347db40cf",
            "9b8fbffa09dd45e084c9bad170576655",
            "728a3e9ec5be430dbc3bcd6887a123be",
            "d2364651a7cf4fad8d459a1d8e11558d",
            "630b4e113e804d35b7ec8d9cd3744a58",
            "5a1e6599844c44339049990e4cd94137",
            "52d7e7967f464913857c846b04b5cf4d",
            "16a42e4d2e844bf6a531241edfe89fd0",
            "3cb186845c2c4a6588005b8fc9b2d5c8",
            "69708515248741aa99015504e8f251c1",
            "98bd2f7e0c2e4bb48f9132ac49312d78",
            "c46462f22c44443a81638db5e2fc6289",
            "604bc91a0fb04a1ab1cf59f57e145ea0",
            "9dfc232bee7d4b3d9d15bb4650249e2f",
            "3546bb0522874cf985837162c6415c21",
            "8acc15ca079a43a6b38e6d6f7eca3a2d",
            "cf4ebbe8f40f4427aadd2176298734ab",
            "42df7a8fde5442f2b2745d5b88fa72b6",
            "834bb7aa505846dda744129235833209",
            "11942ac1afb84f069c82a8f5f1882179",
            "1c478b1af9804caeb64674bf310c4b53",
            "c5d5c0832c944062a15ac1a8c81e9818",
            "e3b329e4713f40a0967f1bba404dbd55"
          ]
        },
        "id": "3DLzWLRntF-n",
        "outputId": "c40dbd92-ff3b-4145-e0d7-a159d055cea8"
      },
      "execution_count": 45,
      "outputs": [
        {
          "output_type": "stream",
          "name": "stderr",
          "text": [
            "<ipython-input-45-55bffb0d4c21>:4: LangChainDeprecationWarning: The class `HuggingFaceEmbeddings` was deprecated in LangChain 0.2.2 and will be removed in 1.0. An updated version of the class exists in the :class:`~langchain-huggingface package and should be used instead. To use it run `pip install -U :class:`~langchain-huggingface` and import as `from :class:`~langchain_huggingface import HuggingFaceEmbeddings``.\n",
            "  embeddings = HuggingFaceEmbeddings(\n",
            "/usr/local/lib/python3.11/dist-packages/huggingface_hub/utils/_auth.py:94: UserWarning: \n",
            "The secret `HF_TOKEN` does not exist in your Colab secrets.\n",
            "To authenticate with the Hugging Face Hub, create a token in your settings tab (https://huggingface.co/settings/tokens), set it as secret in your Google Colab and restart your session.\n",
            "You will be able to reuse this secret in all of your notebooks.\n",
            "Please note that authentication is recommended but still optional to access public models or datasets.\n",
            "  warnings.warn(\n"
          ]
        },
        {
          "output_type": "display_data",
          "data": {
            "text/plain": [
              "modules.json:   0%|          | 0.00/349 [00:00<?, ?B/s]"
            ],
            "application/vnd.jupyter.widget-view+json": {
              "version_major": 2,
              "version_minor": 0,
              "model_id": "6b02a93dfb14445eb2863ea4cbae65f9"
            }
          },
          "metadata": {}
        },
        {
          "output_type": "display_data",
          "data": {
            "text/plain": [
              "config_sentence_transformers.json:   0%|          | 0.00/116 [00:00<?, ?B/s]"
            ],
            "application/vnd.jupyter.widget-view+json": {
              "version_major": 2,
              "version_minor": 0,
              "model_id": "3fd80b8014834e60a8353c1e1757e858"
            }
          },
          "metadata": {}
        },
        {
          "output_type": "display_data",
          "data": {
            "text/plain": [
              "README.md:   0%|          | 0.00/10.5k [00:00<?, ?B/s]"
            ],
            "application/vnd.jupyter.widget-view+json": {
              "version_major": 2,
              "version_minor": 0,
              "model_id": "695a751e468348febaeb86a1169c0474"
            }
          },
          "metadata": {}
        },
        {
          "output_type": "display_data",
          "data": {
            "text/plain": [
              "sentence_bert_config.json:   0%|          | 0.00/53.0 [00:00<?, ?B/s]"
            ],
            "application/vnd.jupyter.widget-view+json": {
              "version_major": 2,
              "version_minor": 0,
              "model_id": "de10b3c3f23142aa90e352a0e361421e"
            }
          },
          "metadata": {}
        },
        {
          "output_type": "display_data",
          "data": {
            "text/plain": [
              "config.json:   0%|          | 0.00/612 [00:00<?, ?B/s]"
            ],
            "application/vnd.jupyter.widget-view+json": {
              "version_major": 2,
              "version_minor": 0,
              "model_id": "64f9533b5c134a5da9734e7c5222554b"
            }
          },
          "metadata": {}
        },
        {
          "output_type": "stream",
          "name": "stderr",
          "text": [
            "Xet Storage is enabled for this repo, but the 'hf_xet' package is not installed. Falling back to regular HTTP download. For better performance, install the package with: `pip install huggingface_hub[hf_xet]` or `pip install hf_xet`\n",
            "WARNING:huggingface_hub.file_download:Xet Storage is enabled for this repo, but the 'hf_xet' package is not installed. Falling back to regular HTTP download. For better performance, install the package with: `pip install huggingface_hub[hf_xet]` or `pip install hf_xet`\n"
          ]
        },
        {
          "output_type": "display_data",
          "data": {
            "text/plain": [
              "model.safetensors:   0%|          | 0.00/90.9M [00:00<?, ?B/s]"
            ],
            "application/vnd.jupyter.widget-view+json": {
              "version_major": 2,
              "version_minor": 0,
              "model_id": "056a503604984679b96789fce834a42e"
            }
          },
          "metadata": {}
        },
        {
          "output_type": "display_data",
          "data": {
            "text/plain": [
              "tokenizer_config.json:   0%|          | 0.00/350 [00:00<?, ?B/s]"
            ],
            "application/vnd.jupyter.widget-view+json": {
              "version_major": 2,
              "version_minor": 0,
              "model_id": "f2480ed9e29e4c7b9ae48171876b212b"
            }
          },
          "metadata": {}
        },
        {
          "output_type": "display_data",
          "data": {
            "text/plain": [
              "vocab.txt:   0%|          | 0.00/232k [00:00<?, ?B/s]"
            ],
            "application/vnd.jupyter.widget-view+json": {
              "version_major": 2,
              "version_minor": 0,
              "model_id": "60fa2cec2c414da6a28c8bbb9abccc5d"
            }
          },
          "metadata": {}
        },
        {
          "output_type": "display_data",
          "data": {
            "text/plain": [
              "tokenizer.json:   0%|          | 0.00/466k [00:00<?, ?B/s]"
            ],
            "application/vnd.jupyter.widget-view+json": {
              "version_major": 2,
              "version_minor": 0,
              "model_id": "ac592e245807403db6a0c811001e2b5b"
            }
          },
          "metadata": {}
        },
        {
          "output_type": "display_data",
          "data": {
            "text/plain": [
              "special_tokens_map.json:   0%|          | 0.00/112 [00:00<?, ?B/s]"
            ],
            "application/vnd.jupyter.widget-view+json": {
              "version_major": 2,
              "version_minor": 0,
              "model_id": "9b8fbffa09dd45e084c9bad170576655"
            }
          },
          "metadata": {}
        },
        {
          "output_type": "display_data",
          "data": {
            "text/plain": [
              "config.json:   0%|          | 0.00/190 [00:00<?, ?B/s]"
            ],
            "application/vnd.jupyter.widget-view+json": {
              "version_major": 2,
              "version_minor": 0,
              "model_id": "604bc91a0fb04a1ab1cf59f57e145ea0"
            }
          },
          "metadata": {}
        }
      ]
    },
    {
      "cell_type": "code",
      "source": [
        "vector_index = Neo4jVector.from_existing_graph(\n",
        "    url=NEO4J_URI,\n",
        "    username=NEO4J_USERNAME,\n",
        "    password=NEO4J_PASSWORD,\n",
        "    embedding=embeddings,\n",
        "    search_type=\"hybrid\",\n",
        "    node_label=\"Document\",\n",
        "    text_node_properties=[\"text\"],\n",
        "    embedding_node_property=\"embedding\"\n",
        ")\n"
      ],
      "metadata": {
        "id": "nq3JzZXuki06"
      },
      "execution_count": 47,
      "outputs": []
    },
    {
      "cell_type": "code",
      "source": [
        "vector_index"
      ],
      "metadata": {
        "colab": {
          "base_uri": "https://localhost:8080/"
        },
        "id": "yiwTM0w9kiyF",
        "outputId": "de3d1f4a-418d-45a6-d10e-98244b53734a"
      },
      "execution_count": 48,
      "outputs": [
        {
          "output_type": "execute_result",
          "data": {
            "text/plain": [
              "<langchain_neo4j.vectorstores.neo4j_vector.Neo4jVector at 0x7f3ca0e48d10>"
            ]
          },
          "metadata": {},
          "execution_count": 48
        }
      ]
    },
    {
      "cell_type": "code",
      "source": [
        "from langchain_core.pydantic_v1 import BaseModel, Field\n",
        "from typing import Tuple, List\n",
        "# Extract entities from text\n",
        "class Entities(BaseModel):\n",
        "    \"\"\"Identifying information about entities.\"\"\"\n",
        "\n",
        "    names: List[str] = Field(\n",
        "        ...,\n",
        "        description=\"All the person, organization, or business entities that \"\n",
        "        \"appear in the text\",\n",
        "    )\n"
      ],
      "metadata": {
        "id": "sJBs_D-2kivR"
      },
      "execution_count": 52,
      "outputs": []
    },
    {
      "cell_type": "code",
      "source": [
        "from langchain_core.prompts import ChatPromptTemplate\n",
        "from langchain_core.prompts.prompt import PromptTemplate"
      ],
      "metadata": {
        "id": "RocVSwZukiso"
      },
      "execution_count": 53,
      "outputs": []
    },
    {
      "cell_type": "code",
      "source": [
        "prompt = ChatPromptTemplate.from_messages(\n",
        "    [\n",
        "        (\n",
        "            \"system\",\n",
        "            \"You are extracting organization and person entities from the text.\",\n",
        "        ),\n",
        "        (\n",
        "            \"human\",\n",
        "            \"Use the given format to extract information from the following \"\n",
        "            \"input: {question}\",\n",
        "        ),\n",
        "    ]\n",
        ")"
      ],
      "metadata": {
        "id": "uo_izgAUkip5"
      },
      "execution_count": 54,
      "outputs": []
    },
    {
      "cell_type": "code",
      "source": [
        "entity_chain = prompt | llm.with_structured_output(Entities)"
      ],
      "metadata": {
        "id": "YkVyiWjNkinI"
      },
      "execution_count": 55,
      "outputs": []
    },
    {
      "cell_type": "code",
      "source": [
        "entity_chain.invoke({\"question\": \"Where was William Herschel  born?\"}).names"
      ],
      "metadata": {
        "colab": {
          "base_uri": "https://localhost:8080/"
        },
        "id": "3EzAkLMIkikZ",
        "outputId": "1f713d1c-a992-4246-afdb-b791b1473ade"
      },
      "execution_count": 58,
      "outputs": [
        {
          "output_type": "execute_result",
          "data": {
            "text/plain": [
              "['William Herschel']"
            ]
          },
          "metadata": {},
          "execution_count": 58
        }
      ]
    },
    {
      "cell_type": "code",
      "source": [
        "# Remove unnecessary characters\n",
        "from langchain_community.vectorstores.neo4j_vector import remove_lucene_chars\n",
        "def generate_full_text_query(input: str) -> str:\n",
        "    full_text_query = \"\"\n",
        "    words = [el for el in remove_lucene_chars(input).split() if el]\n",
        "    for word in words[:-1]:\n",
        "        full_text_query += f\" {word}~2 AND\"\n",
        "    full_text_query += f\" {words[-1]}~2\"\n",
        "    return full_text_query.strip()\n"
      ],
      "metadata": {
        "id": "BX7cO1aEkihs"
      },
      "execution_count": 60,
      "outputs": []
    },
    {
      "cell_type": "code",
      "source": [
        "# Fulltext index query\n",
        "def structured_retriever(question: str) -> str:\n",
        "    result = \"\"\n",
        "    entities = entity_chain.invoke({\"question\": question})\n",
        "    for entity in entities.names:\n",
        "        response = graph.query(\n",
        "              \"\"\"CALL db.index.fulltext.queryNodes('entity', $query, {limit: 2})\n",
        "              YIELD node, score\n",
        "              CALL {\n",
        "                WITH node\n",
        "                MATCH (node)-[r]->(neighbor)\n",
        "                WHERE type(r) <> 'MENTIONS'\n",
        "                RETURN node.id + ' - ' + type(r) + ' -> ' + neighbor.id AS output\n",
        "                UNION ALL\n",
        "                WITH node\n",
        "                MATCH (node)<-[r]-(neighbor)\n",
        "                WHERE type(r) <> 'MENTIONS'\n",
        "                RETURN neighbor.id + ' - ' + type(r) + ' -> ' + node.id AS output\n",
        "              }\n",
        "              RETURN output LIMIT 50\n",
        "\n",
        "            \"\"\",\n",
        "            {\"query\": generate_full_text_query(entity)},\n",
        "        )\n",
        "        result += \"\\n\".join([el['output'] for el in response])\n",
        "    return result"
      ],
      "metadata": {
        "id": "J5PckFYBkiaL"
      },
      "execution_count": 80,
      "outputs": []
    },
    {
      "cell_type": "code",
      "source": [
        "print(structured_retriever(\"Who is William Herschel ?\"))"
      ],
      "metadata": {
        "colab": {
          "base_uri": "https://localhost:8080/"
        },
        "id": "OTWHEblt3q17",
        "outputId": "9a8543e8-dc4e-4f1f-b5ab-36043d4bed32"
      },
      "execution_count": 81,
      "outputs": [
        {
          "output_type": "stream",
          "name": "stderr",
          "text": [
            "WARNING:neo4j.notifications:Received notification from DBMS server: {severity: WARNING} {code: Neo.ClientNotification.Statement.FeatureDeprecationWarning} {category: DEPRECATION} {title: This feature is deprecated and will be removed in future versions.} {description: CALL subquery without a variable scope clause is now deprecated. Use CALL (node, node) { ... }} {position: line: 3, column: 15, offset: 110} for query: \"CALL db.index.fulltext.queryNodes('entity', $query, {limit: 2})\\n              YIELD node, score\\n              CALL {\\n                WITH node\\n                MATCH (node)-[r]->(neighbor)\\n                WHERE type(r) <> 'MENTIONS'\\n                RETURN node.id + ' - ' + type(r) + ' -> ' + neighbor.id AS output\\n                UNION ALL\\n                WITH node\\n                MATCH (node)<-[r]-(neighbor)\\n                WHERE type(r) <> 'MENTIONS'\\n                RETURN neighbor.id + ' - ' + type(r) + ' -> ' + node.id AS output\\n              }\\n              RETURN output LIMIT 50\\n\\n            \"\n"
          ]
        },
        {
          "output_type": "stream",
          "name": "stdout",
          "text": [
            "William Herschel - DISCOVERED -> Ngc 4144\n",
            "William Herschel - DISCOVERED -> Ngc 4701\n",
            "William Herschel - DISCOVERED -> Ngc 4041\n",
            "Ngc 4041 - DISCOVERED_BY -> William Herschel\n"
          ]
        }
      ]
    },
    {
      "cell_type": "code",
      "source": [
        "# The above information i will provide to llm , i will connect the simmilarity search along with structured retriver\n",
        "\n",
        "def retriever(question: str):\n",
        "    print(f\"Search query: {question}\")\n",
        "    structured_data = structured_retriever(question) # The above schema or structure(structured retriver)\n",
        "    unstructured_data = [el.page_content for el in vector_index.similarity_search(question)] # index  Similarity search\n",
        "    final_data = f\"\"\"Structured data:\n",
        "{structured_data}\n",
        "Unstructured data:\n",
        "{\"#Document \". join(unstructured_data)}\n",
        "    \"\"\"\n",
        "    return final_data"
      ],
      "metadata": {
        "id": "LJw5I1Qv3qzb"
      },
      "execution_count": 82,
      "outputs": []
    },
    {
      "cell_type": "code",
      "source": [
        "_template = \"\"\"Given the following conversation and a follow up question, rephrase the follow up question to be a standalone question,\n",
        "in its original language.\n",
        "Chat History:\n",
        "{chat_history}\n",
        "Follow Up Input: {question}\n",
        "Standalone question:\"\"\""
      ],
      "metadata": {
        "id": "eP-4WzvL3qxC"
      },
      "execution_count": 83,
      "outputs": []
    },
    {
      "cell_type": "code",
      "source": [
        "CONDENSE_QUESTION_PROMPT = PromptTemplate.from_template(_template)"
      ],
      "metadata": {
        "id": "PmQojakh3qtw"
      },
      "execution_count": 84,
      "outputs": []
    },
    {
      "cell_type": "code",
      "source": [
        "from langchain_core.messages import AIMessage, HumanMessage\n",
        "from langchain_core.output_parsers import StrOutputParser"
      ],
      "metadata": {
        "id": "fVYdTzT3GuQv"
      },
      "execution_count": 85,
      "outputs": []
    },
    {
      "cell_type": "code",
      "source": [
        "# kepp chat history\n",
        "def _format_chat_history(chat_history: List[Tuple[str, str]]) -> List:\n",
        "    buffer = []\n",
        "    for human, ai in chat_history:\n",
        "        buffer.append(HumanMessage(content=human))\n",
        "        buffer.append(AIMessage(content=ai))\n",
        "    return buffer"
      ],
      "metadata": {
        "id": "HcSQZgG_kiWG"
      },
      "execution_count": 86,
      "outputs": []
    },
    {
      "cell_type": "code",
      "source": [
        "# dynamically pass anything during  run time\n",
        "from langchain_core.runnables import (\n",
        "    RunnableBranch,\n",
        "    RunnableLambda,\n",
        "    RunnableParallel,\n",
        "    RunnablePassthrough,\n",
        ")"
      ],
      "metadata": {
        "id": "nmQoT6cyGh1M"
      },
      "execution_count": 87,
      "outputs": []
    },
    {
      "cell_type": "code",
      "source": [
        "_search_query = RunnableBranch(\n",
        "    # If input includes chat_history, we condense it with the follow-up question\n",
        "    (\n",
        "        RunnableLambda(lambda x: bool(x.get(\"chat_history\"))).with_config(\n",
        "            run_name=\"HasChatHistoryCheck\"\n",
        "        ),  # Condense follow-up question and chat into a standalone_question\n",
        "        RunnablePassthrough.assign(\n",
        "            chat_history=lambda x: _format_chat_history(x[\"chat_history\"])\n",
        "        )\n",
        "        | CONDENSE_QUESTION_PROMPT\n",
        "        | llm\n",
        "        | StrOutputParser(),\n",
        "    ),\n",
        "    # Else, we have no chat history, so just pass through the question\n",
        "    RunnableLambda(lambda x : x[\"question\"]),\n",
        ")"
      ],
      "metadata": {
        "id": "st-vSq3AkiTc"
      },
      "execution_count": 88,
      "outputs": []
    },
    {
      "cell_type": "code",
      "source": [
        "template = \"\"\"Answer the question based only on the following context:\n",
        "{context}\n",
        "\n",
        "Question: {question}\n",
        "Use natural language and be concise.\n",
        "Answer:\"\"\""
      ],
      "metadata": {
        "id": "p6u-0-EBkiQk"
      },
      "execution_count": 89,
      "outputs": []
    },
    {
      "cell_type": "code",
      "source": [
        "prompt = ChatPromptTemplate.from_template(template)"
      ],
      "metadata": {
        "id": "riYxf9m_z-Hm"
      },
      "execution_count": 90,
      "outputs": []
    },
    {
      "cell_type": "code",
      "source": [
        "chain = (\n",
        "    RunnableParallel(\n",
        "        {\n",
        "            \"context\": _search_query | retriever,\n",
        "            \"question\": RunnablePassthrough(),\n",
        "        }\n",
        "    )\n",
        "    | prompt\n",
        "    | llm\n",
        "    | StrOutputParser()\n",
        ")"
      ],
      "metadata": {
        "id": "q8ENMaSNEMtU"
      },
      "execution_count": 91,
      "outputs": []
    },
    {
      "cell_type": "code",
      "source": [
        "chain.invoke({\"question\": \"What is NGC 4144?\"})"
      ],
      "metadata": {
        "colab": {
          "base_uri": "https://localhost:8080/",
          "height": 90
        },
        "id": "VQ6J1c5ZEMqb",
        "outputId": "c75b8769-fad9-442d-8b5c-d9f5fb0f5f63"
      },
      "execution_count": 92,
      "outputs": [
        {
          "output_type": "stream",
          "name": "stdout",
          "text": [
            "Search query: What is NGC 4144?\n"
          ]
        },
        {
          "output_type": "stream",
          "name": "stderr",
          "text": [
            "WARNING:neo4j.notifications:Received notification from DBMS server: {severity: WARNING} {code: Neo.ClientNotification.Statement.FeatureDeprecationWarning} {category: DEPRECATION} {title: This feature is deprecated and will be removed in future versions.} {description: CALL subquery without a variable scope clause is now deprecated. Use CALL (node, node) { ... }} {position: line: 3, column: 15, offset: 110} for query: \"CALL db.index.fulltext.queryNodes('entity', $query, {limit: 2})\\n              YIELD node, score\\n              CALL {\\n                WITH node\\n                MATCH (node)-[r]->(neighbor)\\n                WHERE type(r) <> 'MENTIONS'\\n                RETURN node.id + ' - ' + type(r) + ' -> ' + neighbor.id AS output\\n                UNION ALL\\n                WITH node\\n                MATCH (node)<-[r]-(neighbor)\\n                WHERE type(r) <> 'MENTIONS'\\n                RETURN neighbor.id + ' - ' + type(r) + ' -> ' + node.id AS output\\n              }\\n              RETURN output LIMIT 50\\n\\n            \"\n"
          ]
        },
        {
          "output_type": "execute_result",
          "data": {
            "text/plain": [
              "'NGC 4144 is a galaxy located in the Ursa Major Constellation, also known by other names such as IRAS F12074+4644, 2MASX J12095860+4627258, UGC 7151, and PGC 38688.'"
            ],
            "application/vnd.google.colaboratory.intrinsic+json": {
              "type": "string"
            }
          },
          "metadata": {},
          "execution_count": 92
        }
      ]
    },
    {
      "cell_type": "code",
      "source": [
        "chain.invoke({\"question\": \"Who was William Herschel ?\"})"
      ],
      "metadata": {
        "colab": {
          "base_uri": "https://localhost:8080/",
          "height": 90
        },
        "id": "axwjn1SOEMnk",
        "outputId": "ca4c4855-451d-42fe-d21f-3b3dd1d113b2"
      },
      "execution_count": 93,
      "outputs": [
        {
          "output_type": "stream",
          "name": "stdout",
          "text": [
            "Search query: Who was William Herschel ?\n"
          ]
        },
        {
          "output_type": "stream",
          "name": "stderr",
          "text": [
            "WARNING:neo4j.notifications:Received notification from DBMS server: {severity: WARNING} {code: Neo.ClientNotification.Statement.FeatureDeprecationWarning} {category: DEPRECATION} {title: This feature is deprecated and will be removed in future versions.} {description: CALL subquery without a variable scope clause is now deprecated. Use CALL (node, node) { ... }} {position: line: 3, column: 15, offset: 110} for query: \"CALL db.index.fulltext.queryNodes('entity', $query, {limit: 2})\\n              YIELD node, score\\n              CALL {\\n                WITH node\\n                MATCH (node)-[r]->(neighbor)\\n                WHERE type(r) <> 'MENTIONS'\\n                RETURN node.id + ' - ' + type(r) + ' -> ' + neighbor.id AS output\\n                UNION ALL\\n                WITH node\\n                MATCH (node)<-[r]-(neighbor)\\n                WHERE type(r) <> 'MENTIONS'\\n                RETURN neighbor.id + ' - ' + type(r) + ' -> ' + node.id AS output\\n              }\\n              RETURN output LIMIT 50\\n\\n            \"\n"
          ]
        },
        {
          "output_type": "execute_result",
          "data": {
            "text/plain": [
              "'William Herschel was a discoverer of various celestial objects, including Ngc 4144, Ngc 4701, and Ngc 4041.'"
            ],
            "application/vnd.google.colaboratory.intrinsic+json": {
              "type": "string"
            }
          },
          "metadata": {},
          "execution_count": 93
        }
      ]
    },
    {
      "cell_type": "code",
      "source": [],
      "metadata": {
        "id": "YnvQjPN0EMk9"
      },
      "execution_count": null,
      "outputs": []
    },
    {
      "cell_type": "code",
      "source": [],
      "metadata": {
        "id": "47dVJ_dBHXTD"
      },
      "execution_count": null,
      "outputs": []
    },
    {
      "cell_type": "code",
      "source": [],
      "metadata": {
        "id": "N91-30nWHXQJ"
      },
      "execution_count": null,
      "outputs": []
    },
    {
      "cell_type": "code",
      "source": [],
      "metadata": {
        "id": "ybAqU3IqHXNj"
      },
      "execution_count": null,
      "outputs": []
    },
    {
      "cell_type": "code",
      "source": [],
      "metadata": {
        "id": "FirXDiqiHXKk"
      },
      "execution_count": null,
      "outputs": []
    },
    {
      "cell_type": "code",
      "source": [],
      "metadata": {
        "id": "CH6k8I2hIw3l"
      },
      "execution_count": null,
      "outputs": []
    },
    {
      "cell_type": "code",
      "source": [],
      "metadata": {
        "id": "ksl99E9EIwyr"
      },
      "execution_count": null,
      "outputs": []
    },
    {
      "cell_type": "code",
      "source": [],
      "metadata": {
        "id": "D3KwdANcIwvr"
      },
      "execution_count": null,
      "outputs": []
    },
    {
      "cell_type": "code",
      "source": [
        "from langchain_core.runnables import (\n",
        "    RunnableBranch,\n",
        "    RunnableLambda,\n",
        "    RunnableParallel,\n",
        "    RunnablePassthrough,\n",
        ")"
      ],
      "metadata": {
        "id": "q8EzdaTJFTbx"
      },
      "execution_count": null,
      "outputs": []
    },
    {
      "cell_type": "code",
      "source": [
        "from langchain_core.prompts import ChatPromptTemplate\n",
        "from langchain_core.prompts.prompt import PromptTemplate"
      ],
      "metadata": {
        "id": "vKkxxyasFWPh"
      },
      "execution_count": null,
      "outputs": []
    },
    {
      "cell_type": "code",
      "source": [
        "from typing import Tuple, List, Optional"
      ],
      "metadata": {
        "id": "GCEgNy7LFXS4"
      },
      "execution_count": null,
      "outputs": []
    },
    {
      "cell_type": "code",
      "source": [
        "from langchain_core.messages import AIMessage, HumanMessage\n",
        "from langchain_core.output_parsers import StrOutputParser"
      ],
      "metadata": {
        "id": "ymZquwggFaNr"
      },
      "execution_count": null,
      "outputs": []
    },
    {
      "cell_type": "code",
      "source": [
        "from langchain_core.runnables import ConfigurableField"
      ],
      "metadata": {
        "id": "nitfT-ktFaQQ"
      },
      "execution_count": null,
      "outputs": []
    },
    {
      "cell_type": "code",
      "source": [
        "from yfiles_jupyter_graphs import GraphWidget\n",
        "from neo4j import GraphDatabase\n"
      ],
      "metadata": {
        "id": "fzOPupw0FaSy"
      },
      "execution_count": null,
      "outputs": []
    },
    {
      "cell_type": "code",
      "source": [
        "import os"
      ],
      "metadata": {
        "id": "g6kjt1HkFaVZ"
      },
      "execution_count": null,
      "outputs": []
    },
    {
      "cell_type": "code",
      "source": [
        "try:\n",
        "  import google.colab\n",
        "  from google.colab import output\n",
        "  output.enable_custom_widget_manager()\n",
        "except:\n",
        "  pass"
      ],
      "metadata": {
        "id": "IR5TLMjpFhE-"
      },
      "execution_count": null,
      "outputs": []
    },
    {
      "cell_type": "code",
      "source": [
        "from langchain_community.vectorstores import Neo4jVector"
      ],
      "metadata": {
        "id": "pSgOwI9SFhHr"
      },
      "execution_count": null,
      "outputs": []
    },
    {
      "cell_type": "code",
      "source": [
        "from langchain.text_splitter import TokenTextSplitter\n",
        "text_splitter = TokenTextSplitter(chunk_size=512, chunk_overlap=24)\n",
        "documents = text_splitter.split_documents(raw_documents[:3])"
      ],
      "metadata": {
        "id": "5ChZ008I6paW"
      },
      "execution_count": null,
      "outputs": []
    },
    {
      "cell_type": "code",
      "source": [
        "from langchain_openai import ChatOpenAI\n",
        "llm=ChatOpenAI(temperature=0, model_name=\"gpt-3.5-turbo-0125\")"
      ],
      "metadata": {
        "id": "IMh_IpRb78rs"
      },
      "execution_count": null,
      "outputs": []
    },
    {
      "cell_type": "code",
      "source": [
        "from langchain_experimental.graph_transformers import LLMGraphTransformer\n",
        "llm_transformer = LLMGraphTransformer(llm=llm)"
      ],
      "metadata": {
        "id": "Mer51fZA9pa1"
      },
      "execution_count": null,
      "outputs": []
    },
    {
      "cell_type": "code",
      "source": [
        "graph_documents = llm_transformer.convert_to_graph_documents(documents)"
      ],
      "metadata": {
        "id": "pZP64uFM9vLk"
      },
      "execution_count": null,
      "outputs": []
    },
    {
      "cell_type": "code",
      "source": [
        "graph_documents"
      ],
      "metadata": {
        "colab": {
          "base_uri": "https://localhost:8080/"
        },
        "id": "3Nwjd5yR92VE",
        "outputId": "1c707732-3f56-4228-be36-5e376a481aac"
      },
      "execution_count": null,
      "outputs": [
        {
          "output_type": "execute_result",
          "data": {
            "text/plain": [
              "[GraphDocument(nodes=[Node(id='Elizabeth I', type='Person'), Node(id='England', type='Country'), Node(id='Ireland', type='Country'), Node(id='House Of Tudor', type='Royal family'), Node(id='Henry Viii', type='Person'), Node(id='Anne Boleyn', type='Person'), Node(id='Edward Vi', type='Person'), Node(id='Lady Jane Grey', type='Person'), Node(id='Mary', type='Person'), Node(id='William Cecil', type='Person'), Node(id='Baron Burghley', type='Title'), Node(id='James Vi Of Scotland', type='Person'), Node(id='Mary, Queen Of Scots', type='Person'), Node(id='France', type='Country'), Node(id='Spain', type='Country'), Node(id='Sir Francis Walsingham', type='Person')], relationships=[Relationship(source=Node(id='Elizabeth I', type='Person'), target=Node(id='England', type='Country'), type='RULED'), Relationship(source=Node(id='Elizabeth I', type='Person'), target=Node(id='Ireland', type='Country'), type='RULED'), Relationship(source=Node(id='Elizabeth I', type='Person'), target=Node(id='House Of Tudor', type='Royal family'), type='BELONGS_TO'), Relationship(source=Node(id='Elizabeth I', type='Person'), target=Node(id='Henry Viii', type='Person'), type='CHILD_OF'), Relationship(source=Node(id='Elizabeth I', type='Person'), target=Node(id='Anne Boleyn', type='Person'), type='CHILD_OF'), Relationship(source=Node(id='Elizabeth I', type='Person'), target=Node(id='Edward Vi', type='Person'), type='HALF-SISTER_OF'), Relationship(source=Node(id='Elizabeth I', type='Person'), target=Node(id='Lady Jane Grey', type='Person'), type='IGNORED_CLAIMS_OF'), Relationship(source=Node(id='Elizabeth I', type='Person'), target=Node(id='Mary', type='Person'), type='HALF-SISTER_OF'), Relationship(source=Node(id='Elizabeth I', type='Person'), target=Node(id='William Cecil', type='Person'), type='DEPENDS_ON'), Relationship(source=Node(id='Elizabeth I', type='Person'), target=Node(id='Baron Burghley', type='Title'), type='CREATED_TITLE'), Relationship(source=Node(id='Elizabeth I', type='Person'), target=Node(id='James Vi Of Scotland', type='Person'), type='SUCCEEDED_BY'), Relationship(source=Node(id='Elizabeth I', type='Person'), target=Node(id='Mary, Queen Of Scots', type='Person'), type='MOTHER_OF'), Relationship(source=Node(id='Elizabeth I', type='Person'), target=Node(id='France', type='Country'), type='MANOEUVRING_BETWEEN'), Relationship(source=Node(id='Elizabeth I', type='Person'), target=Node(id='Spain', type='Country'), type='MANOEUVRING_BETWEEN'), Relationship(source=Node(id='Elizabeth I', type='Person'), target=Node(id='Sir Francis Walsingham', type='Person'), type='DEPENDS_ON')], source=Document(page_content='Elizabeth I (7 September 1533 – 24 March 1603) was Queen of England and Ireland from 17 November 1558 until her death in 1603. She was the last monarch of the House of Tudor.\\nElizabeth was the only surviving child of Henry VIII and Anne Boleyn, his second wife, who was executed when Elizabeth was two years old. Anne\\'s marriage to Henry was annulled, and Elizabeth was declared illegitimate. Henry restored her to the line of succession when she was 10, via the Third Succession Act 1543. After Henry\\'s death in 1547, Elizabeth\\'s younger half-brother Edward VI ruled until his own death in 1553, bequeathing the crown to a Protestant cousin, Lady Jane Grey, and ignoring the claims of his two half-sisters, the Catholic Mary and the younger Elizabeth, in spite of statutes to the contrary. Edward\\'s will was set aside within weeks of his death and Mary became queen, deposing and executing Jane. During Mary\\'s reign, Elizabeth was imprisoned for nearly a year on suspicion of supporting Protestant rebels.\\nUpon her half-sister\\'s death in 1558, Elizabeth succeeded to the throne and set out to rule by good counsel. She depended heavily on a group of trusted advisers led by William Cecil, whom she created Baron Burghley. One of her first actions as queen was the establishment of an English Protestant church, of which she became the supreme governor. This era, later named the Elizabethan Religious Settlement, would evolve into the Church of England. It was expected that Elizabeth would marry and produce an heir; however, despite numerous courtships, she never did, and because of this she is sometimes referred to as the \"Virgin Queen\". She was eventually succeeded by her first cousin twice removed, James VI of Scotland, the son of Mary, Queen of Scots.\\nIn government, Elizabeth was more moderate than her father and siblings had been. One of her mottoes was video et taceo (\"I see and keep silent\"). In religion, she was relatively tolerant and avoided systematic persecution. After the pope declared her illegitimate in 1570, which in theory released English Catholics from allegiance to her, several conspiracies threatened her life, all of which were defeated with the help of her ministers\\' secret service, run by Sir Francis Walsingham. Elizabeth was cautious in foreign affairs, manoeuvring between the major powers of France and Spain. She half-heartedly supported a number of ineffective, poorly resourced military campaigns in the Netherlands, France,', metadata={'title': 'Elizabeth I', 'summary': 'Elizabeth I (7 September 1533 – 24 March 1603) was Queen of England and Ireland from 17 November 1558 until her death in 1603. She was the last monarch of the House of Tudor.\\nElizabeth was the only surviving child of Henry VIII and Anne Boleyn, his second wife, who was executed when Elizabeth was two years old. Anne\\'s marriage to Henry was annulled, and Elizabeth was declared illegitimate. Henry restored her to the line of succession when she was 10, via the Third Succession Act 1543. After Henry\\'s death in 1547, Elizabeth\\'s younger half-brother Edward VI ruled until his own death in 1553, bequeathing the crown to a Protestant cousin, Lady Jane Grey, and ignoring the claims of his two half-sisters, the Catholic Mary and the younger Elizabeth, in spite of statutes to the contrary. Edward\\'s will was set aside within weeks of his death and Mary became queen, deposing and executing Jane. During Mary\\'s reign, Elizabeth was imprisoned for nearly a year on suspicion of supporting Protestant rebels.\\nUpon her half-sister\\'s death in 1558, Elizabeth succeeded to the throne and set out to rule by good counsel. She depended heavily on a group of trusted advisers led by William Cecil, whom she created Baron Burghley. One of her first actions as queen was the establishment of an English Protestant church, of which she became the supreme governor. This era, later named the Elizabethan Religious Settlement, would evolve into the Church of England. It was expected that Elizabeth would marry and produce an heir; however, despite numerous courtships, she never did, and because of this she is sometimes referred to as the \"Virgin Queen\". She was eventually succeeded by her first cousin twice removed, James VI of Scotland, the son of Mary, Queen of Scots.\\nIn government, Elizabeth was more moderate than her father and siblings had been. One of her mottoes was video et taceo (\"I see and keep silent\"). In religion, she was relatively tolerant and avoided systematic persecution. After the pope declared her illegitimate in 1570, which in theory released English Catholics from allegiance to her, several conspiracies threatened her life, all of which were defeated with the help of her ministers\\' secret service, run by Sir Francis Walsingham. Elizabeth was cautious in foreign affairs, manoeuvring between the major powers of France and Spain. She half-heartedly supported a number of ineffective, poorly resourced military campaigns in the Netherlands, France, and Ireland. By the mid-1580s, England could no longer avoid war with Spain.\\nAs she grew older, Elizabeth became celebrated for her virginity. A cult of personality grew around her which was celebrated in the portraits, pageants, and literature of the day. Elizabeth\\'s reign became known as the Elizabethan era. The period is famous for the flourishing of English drama, led by playwrights such as William Shakespeare and Christopher Marlowe, the prowess of English maritime adventurers, such as Francis Drake and Walter Raleigh, and for the defeat of the Spanish Armada. Some historians depict Elizabeth as a short-tempered, sometimes indecisive ruler, who enjoyed more than her fair share of luck. Towards the end of her reign, a series of economic and military problems weakened her popularity. Elizabeth is acknowledged as a charismatic performer (\"Gloriana\") and a dogged survivor (\"Good Queen Bess\") in an era when government was ramshackle and limited, and when monarchs in neighbouring countries faced internal problems that jeopardised their thrones. After the short, disastrous reigns of her half-siblings, her 44 years on the throne provided welcome stability for the kingdom and helped to forge a sense of national identity.', 'source': 'https://en.wikipedia.org/wiki/Elizabeth_I'})),\n",
              " GraphDocument(nodes=[Node(id='Elizabeth', type='Person'), Node(id='Spain', type='Country'), Node(id='Netherlands', type='Country'), Node(id='France', type='Country'), Node(id='Ireland', type='Country'), Node(id='William Shakespeare', type='Playwright'), Node(id='Christopher Marlowe', type='Playwright'), Node(id='Francis Drake', type='Maritime adventurer'), Node(id='Walter Raleigh', type='Maritime adventurer'), Node(id='Spanish Armada', type='Event')], relationships=[Relationship(source=Node(id='Elizabeth', type='Person'), target=Node(id='Spain', type='Country'), type='WAR'), Relationship(source=Node(id='Elizabeth', type='Person'), target=Node(id='Netherlands', type='Country'), type='WAR'), Relationship(source=Node(id='Elizabeth', type='Person'), target=Node(id='France', type='Country'), type='WAR'), Relationship(source=Node(id='Elizabeth', type='Person'), target=Node(id='Ireland', type='Country'), type='WAR'), Relationship(source=Node(id='Elizabeth', type='Person'), target=Node(id='William Shakespeare', type='Playwright'), type='INFLUENCED'), Relationship(source=Node(id='Elizabeth', type='Person'), target=Node(id='Christopher Marlowe', type='Playwright'), type='INFLUENCED'), Relationship(source=Node(id='Elizabeth', type='Person'), target=Node(id='Francis Drake', type='Maritime adventurer'), type='INFLUENCED'), Relationship(source=Node(id='Elizabeth', type='Person'), target=Node(id='Walter Raleigh', type='Maritime adventurer'), type='INFLUENCED'), Relationship(source=Node(id='Elizabeth', type='Person'), target=Node(id='Spanish Armada', type='Event'), type='DEFEATED')], source=Document(page_content=' and Spain. She half-heartedly supported a number of ineffective, poorly resourced military campaigns in the Netherlands, France, and Ireland. By the mid-1580s, England could no longer avoid war with Spain.\\nAs she grew older, Elizabeth became celebrated for her virginity. A cult of personality grew around her which was celebrated in the portraits, pageants, and literature of the day. Elizabeth\\'s reign became known as the Elizabethan era. The period is famous for the flourishing of English drama, led by playwrights such as William Shakespeare and Christopher Marlowe, the prowess of English maritime adventurers, such as Francis Drake and Walter Raleigh, and for the defeat of the Spanish Armada. Some historians depict Elizabeth as a short-tempered, sometimes indecisive ruler, who enjoyed more than her fair share of luck. Towards the end of her reign, a series of economic and military problems weakened her popularity. Elizabeth is acknowledged as a charismatic performer (\"Gloriana\") and a dogged survivor (\"Good Queen Bess\") in an era when government was ramshackle and limited, and when monarchs in neighbouring countries faced internal problems that jeopardised their thrones. After the short, disastrous reigns of her half-siblings, her 44 years on the throne provided welcome stability for the kingdom and helped to forge a sense of national identity.\\n\\n\\n== Early life ==\\n\\nElizabeth was born at Greenwich Palace on 7 September 1533 and was named after her grandmothers, Elizabeth of York and Lady Elizabeth Howard. She was the second child of Henry VIII of England born in wedlock to survive infancy. Her mother was Henry\\'s second wife, Anne Bol', metadata={'title': 'Elizabeth I', 'summary': 'Elizabeth I (7 September 1533 – 24 March 1603) was Queen of England and Ireland from 17 November 1558 until her death in 1603. She was the last monarch of the House of Tudor.\\nElizabeth was the only surviving child of Henry VIII and Anne Boleyn, his second wife, who was executed when Elizabeth was two years old. Anne\\'s marriage to Henry was annulled, and Elizabeth was declared illegitimate. Henry restored her to the line of succession when she was 10, via the Third Succession Act 1543. After Henry\\'s death in 1547, Elizabeth\\'s younger half-brother Edward VI ruled until his own death in 1553, bequeathing the crown to a Protestant cousin, Lady Jane Grey, and ignoring the claims of his two half-sisters, the Catholic Mary and the younger Elizabeth, in spite of statutes to the contrary. Edward\\'s will was set aside within weeks of his death and Mary became queen, deposing and executing Jane. During Mary\\'s reign, Elizabeth was imprisoned for nearly a year on suspicion of supporting Protestant rebels.\\nUpon her half-sister\\'s death in 1558, Elizabeth succeeded to the throne and set out to rule by good counsel. She depended heavily on a group of trusted advisers led by William Cecil, whom she created Baron Burghley. One of her first actions as queen was the establishment of an English Protestant church, of which she became the supreme governor. This era, later named the Elizabethan Religious Settlement, would evolve into the Church of England. It was expected that Elizabeth would marry and produce an heir; however, despite numerous courtships, she never did, and because of this she is sometimes referred to as the \"Virgin Queen\". She was eventually succeeded by her first cousin twice removed, James VI of Scotland, the son of Mary, Queen of Scots.\\nIn government, Elizabeth was more moderate than her father and siblings had been. One of her mottoes was video et taceo (\"I see and keep silent\"). In religion, she was relatively tolerant and avoided systematic persecution. After the pope declared her illegitimate in 1570, which in theory released English Catholics from allegiance to her, several conspiracies threatened her life, all of which were defeated with the help of her ministers\\' secret service, run by Sir Francis Walsingham. Elizabeth was cautious in foreign affairs, manoeuvring between the major powers of France and Spain. She half-heartedly supported a number of ineffective, poorly resourced military campaigns in the Netherlands, France, and Ireland. By the mid-1580s, England could no longer avoid war with Spain.\\nAs she grew older, Elizabeth became celebrated for her virginity. A cult of personality grew around her which was celebrated in the portraits, pageants, and literature of the day. Elizabeth\\'s reign became known as the Elizabethan era. The period is famous for the flourishing of English drama, led by playwrights such as William Shakespeare and Christopher Marlowe, the prowess of English maritime adventurers, such as Francis Drake and Walter Raleigh, and for the defeat of the Spanish Armada. Some historians depict Elizabeth as a short-tempered, sometimes indecisive ruler, who enjoyed more than her fair share of luck. Towards the end of her reign, a series of economic and military problems weakened her popularity. Elizabeth is acknowledged as a charismatic performer (\"Gloriana\") and a dogged survivor (\"Good Queen Bess\") in an era when government was ramshackle and limited, and when monarchs in neighbouring countries faced internal problems that jeopardised their thrones. After the short, disastrous reigns of her half-siblings, her 44 years on the throne provided welcome stability for the kingdom and helped to forge a sense of national identity.', 'source': 'https://en.wikipedia.org/wiki/Elizabeth_I'})),\n",
              " GraphDocument(nodes=[Node(id='Elizabeth Petrovna', type='Person'), Node(id='Empress Of Russia', type='Title'), Node(id='Tsar Peter The Great', type='Person'), Node(id='Catherine I Of Russia', type='Person'), Node(id='Peter Ii', type='Person'), Node(id='Anna', type='Person'), Node(id='Ivan Vi', type='Person'), Node(id='Peter Iii', type='Person'), Node(id='Mikhail Lomonosov', type='Person'), Node(id='Ivan Shuvalov', type='Person'), Node(id='Bartolomeo Rastrelli', type='Person'), Node(id='Aleksey Bestuzhev-Ryumin', type='Person'), Node(id='Frederick The Great', type='Person')], relationships=[Relationship(source=Node(id='Elizabeth Petrovna', type='Person'), target=Node(id='Empress Of Russia', type='Title'), type='HELD_TITLE'), Relationship(source=Node(id='Elizabeth Petrovna', type='Person'), target=Node(id='Tsar Peter The Great', type='Person'), type='DAUGHTER_OF'), Relationship(source=Node(id='Elizabeth Petrovna', type='Person'), target=Node(id='Catherine I Of Russia', type='Person'), type='DAUGHTER_OF'), Relationship(source=Node(id='Elizabeth Petrovna', type='Person'), target=Node(id='Peter Ii', type='Person'), type='RELATED_TO'), Relationship(source=Node(id='Elizabeth Petrovna', type='Person'), target=Node(id='Anna', type='Person'), type='RELATED_TO'), Relationship(source=Node(id='Elizabeth Petrovna', type='Person'), target=Node(id='Ivan Vi', type='Person'), type='RELATED_TO'), Relationship(source=Node(id='Elizabeth Petrovna', type='Person'), target=Node(id='Peter Iii', type='Person'), type='DECLARED_AS_HEIR'), Relationship(source=Node(id='Elizabeth Petrovna', type='Person'), target=Node(id='Mikhail Lomonosov', type='Person'), type='SUPPORTED_FOUNDATION_OF_UNIVERSITY_OF_MOSCOW'), Relationship(source=Node(id='Elizabeth Petrovna', type='Person'), target=Node(id='Ivan Shuvalov', type='Person'), type='ENCOURAGED_FOUNDATION_OF_IMPERIAL_ACADEMY_OF_ARTS'), Relationship(source=Node(id='Elizabeth Petrovna', type='Person'), target=Node(id='Bartolomeo Rastrelli', type='Person'), type='SUPPORTED_ARCHITECTURAL_PROJECTS_BY'), Relationship(source=Node(id='Elizabeth Petrovna', type='Person'), target=Node(id='Aleksey Bestuzhev-Ryumin', type='Person'), type='SOLVED_EUROPEAN_CONFLICT_WITH')], source=Document(page_content=\"Elizabeth or Elizaveta Petrovna (Russian: Елизаве́та Петро́вна; 29 December [O.S. 18 December] 1709 – 5 January [O.S. 25 December] 1762) reigned as Empress of Russia from 1741 until her death in 1762. She remains one of the most popular Russian monarchs because of her decision not to execute a single person during her reign, her numerous construction projects, and her strong opposition to Prussian policies.\\nThe second-eldest daughter of Tsar Peter the Great (r.\\u20091682–1725), Elizabeth lived through the confused successions of her father's descendants following her half-brother Alexei's death in 1718. The throne first passed to her mother Catherine I of Russia (r.\\u20091725–1727), then to her nephew Peter II, who died in 1730 and was succeeded by Elizabeth's first cousin Anna (r.\\u20091730–1740). After the brief rule of Anna's infant great-nephew, Ivan VI, Elizabeth seized the throne with the military's support and declared her own nephew, the future Peter III, her heir.\\nDuring her reign Elizabeth continued the policies of her father and brought about a remarkable Age of Enlightenment in Russia. Her domestic policies allowed the nobles to gain dominance in local government while shortening their terms of service to the state. She encouraged Mikhail Lomonosov's foundation of the University of Moscow, the highest-ranking Russian educational institution. Her court became one of the most splendid in all Europe, especially regarding architecture: she modernised Russia's roads, encouraged Ivan Shuvalov's foundation of the Imperial Academy of Arts, and financed grandiose Baroque projects of her favourite architect, Bartolomeo Rastrelli, particularly in Peterhof Palace. The Winter Palace and the Smolny Cathedral in Saint Petersburg are among the chief monuments of her reign.\\nElizabeth led the Russian Empire during the two major European conflicts of her time: the War of Austrian Succession (1740–1748) and the Seven Years' War (1756–1763). She and diplomat Aleksey Bestuzhev-Ryumin solved the first event by forming an alliance with Austria and France, but indirectly caused the second. Russian troops enjoyed several victories against Prussia and briefly occupied Berlin, but when Frederick the Great was finally considering surrender\", metadata={'title': 'Elizabeth of Russia', 'summary': \"Elizabeth or Elizaveta Petrovna (Russian: Елизаве́та Петро́вна; 29 December [O.S. 18 December] 1709 – 5 January [O.S. 25 December] 1762) reigned as Empress of Russia from 1741 until her death in 1762. She remains one of the most popular Russian monarchs because of her decision not to execute a single person during her reign, her numerous construction projects, and her strong opposition to Prussian policies.\\nThe second-eldest daughter of Tsar Peter the Great (r.\\u20091682–1725), Elizabeth lived through the confused successions of her father's descendants following her half-brother Alexei's death in 1718. The throne first passed to her mother Catherine I of Russia (r.\\u20091725–1727), then to her nephew Peter II, who died in 1730 and was succeeded by Elizabeth's first cousin Anna (r.\\u20091730–1740). After the brief rule of Anna's infant great-nephew, Ivan VI, Elizabeth seized the throne with the military's support and declared her own nephew, the future Peter III, her heir.\\nDuring her reign Elizabeth continued the policies of her father and brought about a remarkable Age of Enlightenment in Russia. Her domestic policies allowed the nobles to gain dominance in local government while shortening their terms of service to the state. She encouraged Mikhail Lomonosov's foundation of the University of Moscow, the highest-ranking Russian educational institution. Her court became one of the most splendid in all Europe, especially regarding architecture: she modernised Russia's roads, encouraged Ivan Shuvalov's foundation of the Imperial Academy of Arts, and financed grandiose Baroque projects of her favourite architect, Bartolomeo Rastrelli, particularly in Peterhof Palace. The Winter Palace and the Smolny Cathedral in Saint Petersburg are among the chief monuments of her reign.\\nElizabeth led the Russian Empire during the two major European conflicts of her time: the War of Austrian Succession (1740–1748) and the Seven Years' War (1756–1763). She and diplomat Aleksey Bestuzhev-Ryumin solved the first event by forming an alliance with Austria and France, but indirectly caused the second. Russian troops enjoyed several victories against Prussia and briefly occupied Berlin, but when Frederick the Great was finally considering surrender in January 1762, the Russian Empress died. She was the last agnatic member of the House of Romanov to reign over the Russian Empire.\", 'source': 'https://en.wikipedia.org/wiki/Elizabeth_of_Russia'})),\n",
              " GraphDocument(nodes=[Node(id='Elizabeth', type='Person'), Node(id='Russian Empire', type='Country'), Node(id='Frederick The Great', type='Person'), Node(id='Russian Empress', type='Person'), Node(id='House Of Romanov', type='Family'), Node(id='Peter The Great', type='Person'), Node(id='Catherine', type='Person'), Node(id='Samuel Skowroński', type='Person'), Node(id='Grand Duchy Of Lithuania', type='Country'), Node(id='Anna', type='Person'), Node(id='Tsarevna', type='Title'), Node(id='Alexei Petrovich', type='Person'), Node(id='Eudoxia Lopukhina', type='Person')], relationships=[Relationship(source=Node(id='Elizabeth', type='Person'), target=Node(id='Peter The Great', type='Person'), type='PARENT'), Relationship(source=Node(id='Elizabeth', type='Person'), target=Node(id='Catherine', type='Person'), type='PARENT'), Relationship(source=Node(id='Peter The Great', type='Person'), target=Node(id='Catherine', type='Person'), type='SPOUSE'), Relationship(source=Node(id='Peter The Great', type='Person'), target=Node(id='Anna', type='Person'), type='PARENT'), Relationship(source=Node(id='Peter The Great', type='Person'), target=Node(id='Elizabeth', type='Person'), type='PARENT'), Relationship(source=Node(id='Peter The Great', type='Person'), target=Node(id='Alexei Petrovich', type='Person'), type='PARENT'), Relationship(source=Node(id='Peter The Great', type='Person'), target=Node(id='Eudoxia Lopukhina', type='Person'), type='SPOUSE'), Relationship(source=Node(id='Catherine', type='Person'), target=Node(id='Samuel Skowroński', type='Person'), type='PARENT'), Relationship(source=Node(id='Catherine', type='Person'), target=Node(id='Grand Duchy Of Lithuania', type='Country'), type='BIRTHPLACE'), Relationship(source=Node(id='Anna', type='Person'), target=Node(id='Peter The Great', type='Person'), type='PARENT'), Relationship(source=Node(id='Elizabeth', type='Person'), target=Node(id='Tsarevna', type='Title'), type='RECEIVED_TITLE'), Relationship(source=Node(id='Peter The Great', type='Person'), target=Node(id='Tsarevna', type='Title'), type='PARENT_GRANTED_TITLE'), Relationship(source=Node(id='Peter The Great', type='Person'), target=Node(id='Catherine', type='Person'), type='MARRIAGE'), Relationship(source=Node(id='Peter The Great', type='Person'), target=Node(id='Catherine', type='Person'), type='OFFICIAL_MARRIAGE')], source=Document(page_content=' second. Russian troops enjoyed several victories against Prussia and briefly occupied Berlin, but when Frederick the Great was finally considering surrender in January 1762, the Russian Empress died. She was the last agnatic member of the House of Romanov to reign over the Russian Empire.\\n\\n\\n== Early life ==\\n\\n\\n=== Childhood and teenage years ===\\n\\nElizabeth was born at Kolomenskoye, near Moscow, Russia, on 18 December 1709 (O.S.). Her parents were Peter the Great, Tsar of Russia and Catherine. Catherine was the daughter of Samuel Skowroński, a subject of Grand Duchy of Lithuania. Although no documentary record exists, her parents were said to have married secretly at the Cathedral of the Holy Trinity in Saint Petersburg at some point between 23 October and 1 December 1707. Their official marriage was at Saint Isaac\\'s Cathedral in Saint Petersburg on 9 February 1712. On this day, the two children previously born to the couple (Anna and Elizabeth) were legitimised by their father and given the title of Tsarevna (\"princess\") on 6 March 1711. Of the twelve children born to Peter and Catherine (five sons and seven daughters), only the sisters survived to adulthood. They had one older surviving sibling, crown prince Alexei Petrovich, who was Peter\\'s son by his first wife, noblewoman Eudoxia Lopukhina.\\nAs a child, Elizabeth was the favourite of her father, whom she resembled both physically and temperamentally. Even though he adored his daughter, Peter did not devote time or attention to her education; having both a son and grandson from his first marriage to a noblewoman, he did not anticipate that a daughter born to his former maid might one day inherit the Russian throne, which had until that point never been occupied by a woman; as such, it was left to Catherine to raise the girls, a task met with considerable difficulty due to her own lack of education. Despite this, Elizabeth was', metadata={'title': 'Elizabeth of Russia', 'summary': \"Elizabeth or Elizaveta Petrovna (Russian: Елизаве́та Петро́вна; 29 December [O.S. 18 December] 1709 – 5 January [O.S. 25 December] 1762) reigned as Empress of Russia from 1741 until her death in 1762. She remains one of the most popular Russian monarchs because of her decision not to execute a single person during her reign, her numerous construction projects, and her strong opposition to Prussian policies.\\nThe second-eldest daughter of Tsar Peter the Great (r.\\u20091682–1725), Elizabeth lived through the confused successions of her father's descendants following her half-brother Alexei's death in 1718. The throne first passed to her mother Catherine I of Russia (r.\\u20091725–1727), then to her nephew Peter II, who died in 1730 and was succeeded by Elizabeth's first cousin Anna (r.\\u20091730–1740). After the brief rule of Anna's infant great-nephew, Ivan VI, Elizabeth seized the throne with the military's support and declared her own nephew, the future Peter III, her heir.\\nDuring her reign Elizabeth continued the policies of her father and brought about a remarkable Age of Enlightenment in Russia. Her domestic policies allowed the nobles to gain dominance in local government while shortening their terms of service to the state. She encouraged Mikhail Lomonosov's foundation of the University of Moscow, the highest-ranking Russian educational institution. Her court became one of the most splendid in all Europe, especially regarding architecture: she modernised Russia's roads, encouraged Ivan Shuvalov's foundation of the Imperial Academy of Arts, and financed grandiose Baroque projects of her favourite architect, Bartolomeo Rastrelli, particularly in Peterhof Palace. The Winter Palace and the Smolny Cathedral in Saint Petersburg are among the chief monuments of her reign.\\nElizabeth led the Russian Empire during the two major European conflicts of her time: the War of Austrian Succession (1740–1748) and the Seven Years' War (1756–1763). She and diplomat Aleksey Bestuzhev-Ryumin solved the first event by forming an alliance with Austria and France, but indirectly caused the second. Russian troops enjoyed several victories against Prussia and briefly occupied Berlin, but when Frederick the Great was finally considering surrender in January 1762, the Russian Empress died. She was the last agnatic member of the House of Romanov to reign over the Russian Empire.\", 'source': 'https://en.wikipedia.org/wiki/Elizabeth_of_Russia'})),\n",
              " GraphDocument(nodes=[Node(id='Elizabeth I', type='Person'), Node(id='James Vi Of Scotland', type='Person'), Node(id='Norfolk Conspiracy', type='Concept'), Node(id=\"Patrick Collinson'S Elizabethan Exclusion Crisis\", type='Concept'), Node(id='Secret Correspondence', type='Concept'), Node(id='Henry Viii', type='Person'), Node(id='Edward Vi', type='Person'), Node(id='Mary I', type='Person'), Node(id='Jane Grey', type='Person'), Node(id='Katherine Grey', type='Person'), Node(id='Mary Grey', type='Person'), Node(id='Margaret Clifford', type='Person'), Node(id='Margaret Douglas', type='Person'), Node(id='Henry Stuart, Lord Darnley', type='Person'), Node(id='Mary, Queen Of Scots', type='Person')], relationships=[Relationship(source=Node(id='Elizabeth I', type='Person'), target=Node(id='James Vi Of Scotland', type='Person'), type='SUCCESSOR'), Relationship(source=Node(id='Henry Viii', type='Person'), target=Node(id='Edward Vi', type='Person'), type='SUCCESSOR'), Relationship(source=Node(id='Henry Viii', type='Person'), target=Node(id='Mary I', type='Person'), type='SUCCESSOR'), Relationship(source=Node(id='Henry Viii', type='Person'), target=Node(id='Elizabeth I', type='Person'), type='SUCCESSOR'), Relationship(source=Node(id='Henry Viii', type='Person'), target=Node(id='Jane Grey', type='Person'), type='SUCCESSOR'), Relationship(source=Node(id='Henry Viii', type='Person'), target=Node(id='Katherine Grey', type='Person'), type='SUCCESSOR'), Relationship(source=Node(id='Henry Viii', type='Person'), target=Node(id='Mary Grey', type='Person'), type='SUCCESSOR'), Relationship(source=Node(id='Henry Viii', type='Person'), target=Node(id='Margaret Clifford', type='Person'), type='SUCCESSOR'), Relationship(source=Node(id='Mary I', type='Person'), target=Node(id='Margaret Douglas', type='Person'), type='PREFERRED_SUCCESSOR'), Relationship(source=Node(id='Margaret Douglas', type='Person'), target=Node(id='Henry Stuart, Lord Darnley', type='Person'), type='FAMILY_RELATION'), Relationship(source=Node(id='Henry Stuart, Lord Darnley', type='Person'), target=Node(id='Mary, Queen Of Scots', type='Person'), type='MARRIAGE')], source=Document(page_content='The succession to the childless Elizabeth I was an open question from her accession in 1558 to her death in 1603, when the crown passed to James VI of Scotland. While the accession of James went smoothly, the succession had been the subject of much debate for decades. In some scholarly views, it was a major political factor of the entire reign, even if not so voiced. Separate aspects have acquired their own nomenclature: the \"Norfolk conspiracy\", Patrick Collinson\\'s \"Elizabethan exclusion crisis\", and the \"Secret Correspondence\".\\nThe topics of debate remained obscured by uncertainty.\\nElizabeth I avoided establishing the order of succession in any form, presumably because she feared for her own life once a successor was named.  She was also concerned with England forming a productive relationship with Scotland, whose Catholic and Presbyterian strongholds were resistant to female leadership. Catholic women who would be submissive to the Pope and not to English constitutional law were rejected.\\nHenry VIII\\'s will had named one male and seven females living at his death in 1547 as the line of succession: (1) his son Edward VI, (2) Mary I, (3) Elizabeth I, (4) Jane Grey, (5) Katherine Grey, (6) Mary Grey, and (7) Margaret Clifford. Elizabeth had outlived all of them.\\nA number of authorities considered that the legal position hinged on documents such as the statute De natis ultra mare of Edward III, and the will of Henry VIII. There were different opinions about the application of these documents. Political, religious and military matters came to predominate later in Elizabeth\\'s reign, in the context of the Anglo-Spanish War.\\n\\n\\n== Cognatic descent from Henry VII ==\\nDescent from the two daughters of Henry VII who reached adulthood, Margaret and Mary, was the first and main issue in the succession. \\n\\n\\n=== Lennox claim ===\\nMary I of England had died without managing to have her preferred successor and first cousin, Margaret Douglas, Countess of Lennox, nominated by parliament. Margaret Douglas was a daughter of Margaret Tudor, and lived to 1578, but became a marginal figure in discussions of the succession to Elizabeth I, who at no point clarified the dynastic issues of the Tudor line. When in 1565 Margaret Douglas\\'s elder son Henry Stuart, Lord Darnley, married Mary, Queen of Scots, the \"Lennox claim\" was generally regarded as consolidated into the \"Stuart claim\".', metadata={'title': 'Succession to Elizabeth I', 'summary': 'The succession to the childless Elizabeth I was an open question from her accession in 1558 to her death in 1603, when the crown passed to James VI of Scotland. While the accession of James went smoothly, the succession had been the subject of much debate for decades. In some scholarly views, it was a major political factor of the entire reign, even if not so voiced. Separate aspects have acquired their own nomenclature: the \"Norfolk conspiracy\", Patrick Collinson\\'s \"Elizabethan exclusion crisis\", and the \"Secret Correspondence\".\\nThe topics of debate remained obscured by uncertainty.\\nElizabeth I avoided establishing the order of succession in any form, presumably because she feared for her own life once a successor was named.  She was also concerned with England forming a productive relationship with Scotland, whose Catholic and Presbyterian strongholds were resistant to female leadership. Catholic women who would be submissive to the Pope and not to English constitutional law were rejected.\\nHenry VIII\\'s will had named one male and seven females living at his death in 1547 as the line of succession: (1) his son Edward VI, (2) Mary I, (3) Elizabeth I, (4) Jane Grey, (5) Katherine Grey, (6) Mary Grey, and (7) Margaret Clifford. Elizabeth had outlived all of them.\\nA number of authorities considered that the legal position hinged on documents such as the statute De natis ultra mare of Edward III, and the will of Henry VIII. There were different opinions about the application of these documents. Political, religious and military matters came to predominate later in Elizabeth\\'s reign, in the context of the Anglo-Spanish War.', 'source': 'https://en.wikipedia.org/wiki/Succession_to_Elizabeth_I'})),\n",
              " GraphDocument(nodes=[Node(id='Margaret Tudor', type='Person'), Node(id='Arbella Stuart', type='Person'), Node(id='Margaret Douglas', type='Person'), Node(id='Charles Stuart', type='Person'), Node(id='James Vi', type='Person'), Node(id='Mary, Queen Of Scots', type='Person'), Node(id='Elizabeth', type='Person'), Node(id='Frances Grey', type='Person'), Node(id='Eleanor Clifford', type='Person'), Node(id='Charles Brandon', type='Person'), Node(id='Henry Grey', type='Person'), Node(id='Lady Jane Grey', type='Person'), Node(id='Lady Catherine Grey', type='Person'), Node(id='Lady Mary Grey', type='Person')], relationships=[Relationship(source=Node(id='Margaret Tudor', type='Person'), target=Node(id='James Vi', type='Person'), type='GRANDPARENT'), Relationship(source=Node(id='Margaret Tudor', type='Person'), target=Node(id='Arbella Stuart', type='Person'), type='GRANDPARENT'), Relationship(source=Node(id='Margaret Douglas', type='Person'), target=Node(id='Charles Stuart', type='Person'), type='PARENT'), Relationship(source=Node(id='Charles Stuart', type='Person'), target=Node(id='Arbella Stuart', type='Person'), type='PARENT'), Relationship(source=Node(id='Mary, Queen Of Scots', type='Person'), target=Node(id='James Vi', type='Person'), type='PARENT'), Relationship(source=Node(id='Mary, Queen Of Scots', type='Person'), target=Node(id='Arbella Stuart', type='Person'), type='PARENT'), Relationship(source=Node(id='Mary, Queen Of Scots', type='Person'), target=Node(id='Elizabeth', type='Person'), type='SUCCESSOR'), Relationship(source=Node(id='Frances Grey', type='Person'), target=Node(id='Lady Jane Grey', type='Person'), type='PARENT'), Relationship(source=Node(id='Frances Grey', type='Person'), target=Node(id='Lady Catherine Grey', type='Person'), type='PARENT'), Relationship(source=Node(id='Frances Grey', type='Person'), target=Node(id='Lady Mary Grey', type='Person'), type='PARENT'), Relationship(source=Node(id='Eleanor Clifford', type='Person'), target=Node(id='Lady Jane Grey', type='Person'), type='PARENT'), Relationship(source=Node(id='Eleanor Clifford', type='Person'), target=Node(id='Lady Catherine Grey', type='Person'), type='PARENT'), Relationship(source=Node(id='Eleanor Clifford', type='Person'), target=Node(id='Lady Mary Grey', type='Person'), type='PARENT'), Relationship(source=Node(id='Charles Brandon', type='Person'), target=Node(id='Frances Grey', type='Person'), type='SPOUSE'), Relationship(source=Node(id='Charles Brandon', type='Person'), target=Node(id='Eleanor Clifford', type='Person'), type='SPOUSE'), Relationship(source=Node(id='Henry Grey', type='Person'), target=Node(id='Frances Grey', type='Person'), type='SPOUSE')], source=Document(page_content=', Queen of Scots, the \"Lennox claim\" was generally regarded as consolidated into the \"Stuart claim\".\\n\\n\\n=== Stuart claimants ===\\nJames VI was the son of two grandchildren of Margaret Tudor. Arbella Stuart, the most serious other contender by the late 16th century, was the daughter of Margaret Douglas, Countess of Lennox\\'s younger son Charles Stuart, 1st Earl of Lennox.\\nJames VI\\'s mother, Mary, Queen of Scots, was considered a plausible successor to the English throne. At the beginning of Elizabeth\\'s reign she sent ambassadors to England when a parliament was summoned, anticipating a role for parliament in settling the succession in her favour. Mary was a Roman Catholic, and her proximity to the succession was a factor in plotting, making her position a political problem for the English government, eventually resolved by judicial means. She was executed in 1587. In that year Mary\\'s son James reached the age of twenty-one, while Arbella was only twelve.\\n\\n\\n=== Suffolk claimants ===\\nWhile the Stuart line of James and Arbella would have had political support, by 1600 the descendants of Mary Tudor were theoretically relevant, and on legal grounds could not be discounted. Frances Grey, Duchess of Suffolk, and Eleanor Clifford, Countess of Cumberland, both had children who were in the line of succession. Frances and Eleanor were Mary Tudor\\'s daughters by her second husband, Charles Brandon, 1st Duke of Suffolk. Frances married Henry Grey, 1st Duke of Suffolk, and they had three daughters, Lady Jane Grey (1537–1554), Lady Catherine Grey (1540–1568), and Lady Mary Grey (1545–1578). Of these, the two youngest lived into Queen Elizabeth\\'s reign.\\nCatherine\\'s first marriage to the youthful', metadata={'title': 'Succession to Elizabeth I', 'summary': 'The succession to the childless Elizabeth I was an open question from her accession in 1558 to her death in 1603, when the crown passed to James VI of Scotland. While the accession of James went smoothly, the succession had been the subject of much debate for decades. In some scholarly views, it was a major political factor of the entire reign, even if not so voiced. Separate aspects have acquired their own nomenclature: the \"Norfolk conspiracy\", Patrick Collinson\\'s \"Elizabethan exclusion crisis\", and the \"Secret Correspondence\".\\nThe topics of debate remained obscured by uncertainty.\\nElizabeth I avoided establishing the order of succession in any form, presumably because she feared for her own life once a successor was named.  She was also concerned with England forming a productive relationship with Scotland, whose Catholic and Presbyterian strongholds were resistant to female leadership. Catholic women who would be submissive to the Pope and not to English constitutional law were rejected.\\nHenry VIII\\'s will had named one male and seven females living at his death in 1547 as the line of succession: (1) his son Edward VI, (2) Mary I, (3) Elizabeth I, (4) Jane Grey, (5) Katherine Grey, (6) Mary Grey, and (7) Margaret Clifford. Elizabeth had outlived all of them.\\nA number of authorities considered that the legal position hinged on documents such as the statute De natis ultra mare of Edward III, and the will of Henry VIII. There were different opinions about the application of these documents. Political, religious and military matters came to predominate later in Elizabeth\\'s reign, in the context of the Anglo-Spanish War.', 'source': 'https://en.wikipedia.org/wiki/Succession_to_Elizabeth_I'}))]"
            ]
          },
          "metadata": {},
          "execution_count": 24
        }
      ]
    },
    {
      "cell_type": "code",
      "source": [],
      "metadata": {
        "id": "ib_g3U1d97th"
      },
      "execution_count": null,
      "outputs": []
    },
    {
      "cell_type": "code",
      "source": [
        "# directly show the graph resulting from the given Cypher query\n",
        "default_cypher = \"MATCH (s)-[r:!MENTIONS]->(t) RETURN s,r,t LIMIT 50\""
      ],
      "metadata": {
        "id": "rC-4O5FQ99yH"
      },
      "execution_count": null,
      "outputs": []
    },
    {
      "cell_type": "code",
      "source": [
        "from yfiles_jupyter_graphs import GraphWidget\n",
        "from neo4j import GraphDatabase"
      ],
      "metadata": {
        "id": "K-91BluK_62t"
      },
      "execution_count": null,
      "outputs": []
    },
    {
      "cell_type": "code",
      "source": [
        "try:\n",
        "  import google.colab\n",
        "  from google.colab import output\n",
        "  output.enable_custom_widget_manager()\n",
        "except:\n",
        "  pass"
      ],
      "metadata": {
        "id": "djVL6Gh4_4sV"
      },
      "execution_count": null,
      "outputs": []
    },
    {
      "cell_type": "code",
      "source": [
        "def showGraph(cypher: str = default_cypher):\n",
        "    # create a neo4j session to run queries\n",
        "    driver = GraphDatabase.driver(\n",
        "        uri = os.environ[\"NEO4J_URI\"],\n",
        "        auth = (os.environ[\"NEO4J_USERNAME\"],\n",
        "                os.environ[\"NEO4J_PASSWORD\"]))\n",
        "    session = driver.session()\n",
        "    widget = GraphWidget(graph = session.run(cypher).graph())\n",
        "    widget.node_label_mapping = 'id'\n",
        "    display(widget)\n",
        "    return widget"
      ],
      "metadata": {
        "id": "0Ll2WNnO-Ahf"
      },
      "execution_count": null,
      "outputs": []
    },
    {
      "cell_type": "code",
      "source": [
        "showGraph()"
      ],
      "metadata": {
        "colab": {
          "base_uri": "https://localhost:8080/",
          "height": 1000,
          "referenced_widgets": [
            "e8b6acc77d8f4d208b74b4f1d05144e5",
            "5caa1675fb9b47e89ceeab4a5aabb705"
          ]
        },
        "id": "kz-O4c0k-C_4",
        "outputId": "9d9fa858-6d4b-45cb-bc6c-9e39297ffbef"
      },
      "execution_count": null,
      "outputs": [
        {
          "output_type": "display_data",
          "data": {
            "text/plain": [
              "GraphWidget(layout=Layout(height='800px', width='100%'))"
            ],
            "application/vnd.jupyter.widget-view+json": {
              "version_major": 2,
              "version_minor": 0,
              "model_id": "e8b6acc77d8f4d208b74b4f1d05144e5"
            }
          },
          "metadata": {
            "application/vnd.jupyter.widget-view+json": {
              "colab": {
                "custom_widget_manager": {
                  "url": "https://ssl.gstatic.com/colaboratory-static/widgets/colab-cdn-widget-manager/2b70e893a8ba7c0f/manager.min.js"
                }
              }
            }
          }
        },
        {
          "output_type": "display_data",
          "data": {
            "text/plain": [
              "GraphWidget(layout=Layout(height='800px', width='100%'))"
            ],
            "application/vnd.jupyter.widget-view+json": {
              "version_major": 2,
              "version_minor": 0,
              "model_id": "e8b6acc77d8f4d208b74b4f1d05144e5"
            }
          },
          "metadata": {
            "application/vnd.jupyter.widget-view+json": {
              "colab": {
                "custom_widget_manager": {
                  "url": "https://ssl.gstatic.com/colaboratory-static/widgets/colab-cdn-widget-manager/2b70e893a8ba7c0f/manager.min.js"
                }
              }
            }
          }
        }
      ]
    },
    {
      "cell_type": "code",
      "source": [
        "from typing import Tuple, List, Optional"
      ],
      "metadata": {
        "id": "zHSkb7LeBghn"
      },
      "execution_count": null,
      "outputs": []
    },
    {
      "cell_type": "code",
      "source": [
        "from langchain_community.vectorstores import Neo4jVector"
      ],
      "metadata": {
        "id": "TuDVi4vHBjXP"
      },
      "execution_count": null,
      "outputs": []
    },
    {
      "cell_type": "code",
      "source": [
        "from langchain_openai import OpenAIEmbeddings\n",
        "vector_index = Neo4jVector.from_existing_graph(\n",
        "    OpenAIEmbeddings(),\n",
        "    search_type=\"hybrid\",\n",
        "    node_label=\"Document\",\n",
        "    text_node_properties=[\"text\"],\n",
        "    embedding_node_property=\"embedding\"\n",
        ")"
      ],
      "metadata": {
        "id": "M_JloAimBlcK"
      },
      "execution_count": null,
      "outputs": []
    },
    {
      "cell_type": "code",
      "source": [
        "graph.query(\"CREATE FULLTEXT INDEX entity IF NOT EXISTS FOR (e:__Entity__) ON EACH [e.id]\")"
      ],
      "metadata": {
        "colab": {
          "base_uri": "https://localhost:8080/"
        },
        "id": "e0EXdSStG-Oe",
        "outputId": "d8c21f17-913c-4af0-acdb-1a9eb49dbba7"
      },
      "execution_count": null,
      "outputs": [
        {
          "output_type": "execute_result",
          "data": {
            "text/plain": [
              "[]"
            ]
          },
          "metadata": {},
          "execution_count": 31
        }
      ]
    },
    {
      "cell_type": "code",
      "source": [
        "from langchain_core.pydantic_v1 import BaseModel, Field\n",
        "# Extract entities from text\n",
        "class Entities(BaseModel):\n",
        "    \"\"\"Identifying information about entities.\"\"\"\n",
        "\n",
        "    names: List[str] = Field(\n",
        "        ...,\n",
        "        description=\"All the person, organization, or business entities that \"\n",
        "        \"appear in the text\",\n",
        "    )\n"
      ],
      "metadata": {
        "id": "qksArGKrAvie"
      },
      "execution_count": null,
      "outputs": []
    },
    {
      "cell_type": "code",
      "source": [
        "from langchain_core.prompts import ChatPromptTemplate\n",
        "from langchain_core.prompts.prompt import PromptTemplate"
      ],
      "metadata": {
        "id": "Mx6sfpgRBrs-"
      },
      "execution_count": null,
      "outputs": []
    },
    {
      "cell_type": "code",
      "source": [
        "prompt = ChatPromptTemplate.from_messages(\n",
        "    [\n",
        "        (\n",
        "            \"system\",\n",
        "            \"You are extracting organization and person entities from the text.\",\n",
        "        ),\n",
        "        (\n",
        "            \"human\",\n",
        "            \"Use the given format to extract information from the following \"\n",
        "            \"input: {question}\",\n",
        "        ),\n",
        "    ]\n",
        ")"
      ],
      "metadata": {
        "id": "xUobRC1wAx-_"
      },
      "execution_count": null,
      "outputs": []
    },
    {
      "cell_type": "code",
      "source": [
        "entity_chain = prompt | llm.with_structured_output(Entities)"
      ],
      "metadata": {
        "id": "KGR6ocjkA0I_"
      },
      "execution_count": null,
      "outputs": []
    },
    {
      "cell_type": "code",
      "source": [
        "entity_chain.invoke({\"question\": \"Where was Amelia Earhart born?\"}).names"
      ],
      "metadata": {
        "colab": {
          "base_uri": "https://localhost:8080/"
        },
        "id": "xPLkIEmkA2R2",
        "outputId": "fecf9433-32c4-4203-ad94-ca1c56ee60ee"
      },
      "execution_count": null,
      "outputs": [
        {
          "output_type": "execute_result",
          "data": {
            "text/plain": [
              "['Amelia Earhart']"
            ]
          },
          "metadata": {},
          "execution_count": 34
        }
      ]
    },
    {
      "cell_type": "code",
      "source": [
        "from langchain_community.vectorstores.neo4j_vector import remove_lucene_chars"
      ],
      "metadata": {
        "id": "RpbOzL5BA6hW"
      },
      "execution_count": null,
      "outputs": []
    },
    {
      "cell_type": "code",
      "source": [
        "def generate_full_text_query(input: str) -> str:\n",
        "    full_text_query = \"\"\n",
        "    words = [el for el in remove_lucene_chars(input).split() if el]\n",
        "    for word in words[:-1]:\n",
        "        full_text_query += f\" {word}~2 AND\"\n",
        "    full_text_query += f\" {words[-1]}~2\"\n",
        "    return full_text_query.strip()\n"
      ],
      "metadata": {
        "id": "7gHCkvGKA86t"
      },
      "execution_count": null,
      "outputs": []
    },
    {
      "cell_type": "code",
      "source": [
        "# Fulltext index query\n",
        "def structured_retriever(question: str) -> str:\n",
        "    result = \"\"\n",
        "    entities = entity_chain.invoke({\"question\": question})\n",
        "    for entity in entities.names:\n",
        "        response = graph.query(\n",
        "            \"\"\"CALL db.index.fulltext.queryNodes('entity', $query, {limit:2})\n",
        "            YIELD node,score\n",
        "            CALL {\n",
        "              WITH node\n",
        "              MATCH (node)-[r:!MENTIONS]->(neighbor)\n",
        "              RETURN node.id + ' - ' + type(r) + ' -> ' + neighbor.id AS output\n",
        "              UNION ALL\n",
        "              WITH node\n",
        "              MATCH (node)<-[r:!MENTIONS]-(neighbor)\n",
        "              RETURN neighbor.id + ' - ' + type(r) + ' -> ' +  node.id AS output\n",
        "            }\n",
        "            RETURN output LIMIT 50\n",
        "            \"\"\",\n",
        "            {\"query\": generate_full_text_query(entity)},\n",
        "        )\n",
        "        result += \"\\n\".join([el['output'] for el in response])\n",
        "    return result"
      ],
      "metadata": {
        "id": "kjPkmFJbA_lv"
      },
      "execution_count": null,
      "outputs": []
    },
    {
      "cell_type": "code",
      "source": [
        "print(structured_retriever(\"Who is Elizabeth I?\"))"
      ],
      "metadata": {
        "colab": {
          "base_uri": "https://localhost:8080/"
        },
        "id": "nIla9QpzBA8u",
        "outputId": "c521c295-5964-45bd-9ce3-29c65ad3f823"
      },
      "execution_count": null,
      "outputs": [
        {
          "output_type": "stream",
          "name": "stdout",
          "text": [
            "Elizabeth I - RULED -> England\n",
            "Elizabeth I - RULED -> Ireland\n",
            "Elizabeth I - BELONGS_TO -> House Of Tudor\n",
            "Elizabeth I - CHILD_OF -> Henry Viii\n",
            "Elizabeth I - CHILD_OF -> Anne Boleyn\n",
            "Elizabeth I - HALF-SISTER_OF -> Edward Vi\n",
            "Elizabeth I - HALF-SISTER_OF -> Mary\n",
            "Elizabeth I - IGNORED_CLAIMS_OF -> Lady Jane Grey\n",
            "Elizabeth I - DEPENDS_ON -> William Cecil\n",
            "Elizabeth I - DEPENDS_ON -> Sir Francis Walsingham\n",
            "Elizabeth I - CREATED_TITLE -> Baron Burghley\n",
            "Elizabeth I - SUCCEEDED_BY -> James Vi Of Scotland\n",
            "Elizabeth I - MOTHER_OF -> Mary, Queen Of Scots\n",
            "Elizabeth I - MANOEUVRING_BETWEEN -> France\n",
            "Elizabeth I - MANOEUVRING_BETWEEN -> Spain\n",
            "Elizabeth I - SUCCESSOR -> James Vi Of Scotland\n",
            "Henry Viii - SUCCESSOR -> Elizabeth I\n"
          ]
        }
      ]
    },
    {
      "cell_type": "code",
      "source": [
        "def retriever(question: str):\n",
        "    print(f\"Search query: {question}\")\n",
        "    structured_data = structured_retriever(question)\n",
        "    unstructured_data = [el.page_content for el in vector_index.similarity_search(question)]\n",
        "    final_data = f\"\"\"Structured data:\n",
        "{structured_data}\n",
        "Unstructured data:\n",
        "{\"#Document \". join(unstructured_data)}\n",
        "    \"\"\"\n",
        "    return final_data"
      ],
      "metadata": {
        "id": "Zo1QoB_iBDfO"
      },
      "execution_count": null,
      "outputs": []
    },
    {
      "cell_type": "code",
      "source": [
        "_template = \"\"\"Given the following conversation and a follow up question, rephrase the follow up question to be a standalone question,\n",
        "in its original language.\n",
        "Chat History:\n",
        "{chat_history}\n",
        "Follow Up Input: {question}\n",
        "Standalone question:\"\"\""
      ],
      "metadata": {
        "id": "nDLnOXBTBFaf"
      },
      "execution_count": null,
      "outputs": []
    },
    {
      "cell_type": "code",
      "source": [
        "CONDENSE_QUESTION_PROMPT = PromptTemplate.from_template(_template)"
      ],
      "metadata": {
        "id": "hozfZicpBG2G"
      },
      "execution_count": null,
      "outputs": []
    },
    {
      "cell_type": "code",
      "source": [
        "def _format_chat_history(chat_history: List[Tuple[str, str]]) -> List:\n",
        "    buffer = []\n",
        "    for human, ai in chat_history:\n",
        "        buffer.append(HumanMessage(content=human))\n",
        "        buffer.append(AIMessage(content=ai))\n",
        "    return buffer"
      ],
      "metadata": {
        "id": "A9Oi3AEeBIPf"
      },
      "execution_count": null,
      "outputs": []
    },
    {
      "cell_type": "code",
      "source": [
        "_search_query = RunnableBranch(\n",
        "    # If input includes chat_history, we condense it with the follow-up question\n",
        "    (\n",
        "        RunnableLambda(lambda x: bool(x.get(\"chat_history\"))).with_config(\n",
        "            run_name=\"HasChatHistoryCheck\"\n",
        "        ),  # Condense follow-up question and chat into a standalone_question\n",
        "        RunnablePassthrough.assign(\n",
        "            chat_history=lambda x: _format_chat_history(x[\"chat_history\"])\n",
        "        )\n",
        "        | CONDENSE_QUESTION_PROMPT\n",
        "        | ChatOpenAI(temperature=0)\n",
        "        | StrOutputParser(),\n",
        "    ),\n",
        "    # Else, we have no chat history, so just pass through the question\n",
        "    RunnableLambda(lambda x : x[\"question\"]),\n",
        ")"
      ],
      "metadata": {
        "id": "vXV65bjDBJwO"
      },
      "execution_count": null,
      "outputs": []
    },
    {
      "cell_type": "code",
      "source": [
        "template = \"\"\"Answer the question based only on the following context:\n",
        "{context}\n",
        "\n",
        "Question: {question}\n",
        "Use natural language and be concise.\n",
        "Answer:\"\"\""
      ],
      "metadata": {
        "id": "zuVyoD1iBLgt"
      },
      "execution_count": null,
      "outputs": []
    },
    {
      "cell_type": "code",
      "source": [
        "prompt = ChatPromptTemplate.from_template(template)"
      ],
      "metadata": {
        "id": "ehex9TRGBM4m"
      },
      "execution_count": null,
      "outputs": []
    },
    {
      "cell_type": "code",
      "source": [
        "chain = (\n",
        "    RunnableParallel(\n",
        "        {\n",
        "            \"context\": _search_query | retriever,\n",
        "            \"question\": RunnablePassthrough(),\n",
        "        }\n",
        "    )\n",
        "    | prompt\n",
        "    | llm\n",
        "    | StrOutputParser()\n",
        ")"
      ],
      "metadata": {
        "id": "UI6LVwkpBOOA"
      },
      "execution_count": null,
      "outputs": []
    },
    {
      "cell_type": "code",
      "source": [
        "chain.invoke({\"question\": \"Which house did Elizabeth I belong to?\"})"
      ],
      "metadata": {
        "colab": {
          "base_uri": "https://localhost:8080/",
          "height": 54
        },
        "id": "GZAq-jz3BOrn",
        "outputId": "d438df41-4a7e-437a-a022-902d8290e4cb"
      },
      "execution_count": null,
      "outputs": [
        {
          "output_type": "stream",
          "name": "stdout",
          "text": [
            "Search query: Which house did Elizabeth I belong to?\n"
          ]
        },
        {
          "output_type": "execute_result",
          "data": {
            "text/plain": [
              "'Elizabeth I belonged to the House of Tudor.'"
            ],
            "application/vnd.google.colaboratory.intrinsic+json": {
              "type": "string"
            }
          },
          "metadata": {},
          "execution_count": 48
        }
      ]
    },
    {
      "cell_type": "code",
      "source": [
        "chain.invoke(\n",
        "    {\n",
        "        \"question\": \"When was she born?\",\n",
        "        \"chat_history\": [(\"Which house did Elizabeth I belong to?\", \"House Of Tudor\")],\n",
        "    }\n",
        ")"
      ],
      "metadata": {
        "colab": {
          "base_uri": "https://localhost:8080/",
          "height": 54
        },
        "id": "b8bO9V_MIBZ5",
        "outputId": "d5d3cfa2-c4ec-4089-e715-0233e688bf85"
      },
      "execution_count": null,
      "outputs": [
        {
          "output_type": "stream",
          "name": "stdout",
          "text": [
            "Search query: When was Elizabeth I born?\n"
          ]
        },
        {
          "output_type": "execute_result",
          "data": {
            "text/plain": [
              "'Elizabeth I was born on 7 September 1533.'"
            ],
            "application/vnd.google.colaboratory.intrinsic+json": {
              "type": "string"
            }
          },
          "metadata": {},
          "execution_count": 49
        }
      ]
    },
    {
      "cell_type": "code",
      "source": [],
      "metadata": {
        "id": "qyIlAGROIUKC"
      },
      "execution_count": null,
      "outputs": []
    }
  ]
}